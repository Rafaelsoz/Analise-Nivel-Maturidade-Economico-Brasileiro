{
 "cells": [
  {
   "cell_type": "code",
   "execution_count": 1,
   "id": "initial_id",
   "metadata": {
    "ExecuteTime": {
     "end_time": "2024-11-02T20:01:02.806189Z",
     "start_time": "2024-11-02T20:00:59.077620Z"
    }
   },
   "outputs": [],
   "source": [
    "from EDA import *\n",
    "\n",
    "from unidecode import unidecode"
   ]
  },
  {
   "cell_type": "markdown",
   "id": "485668f013a39514",
   "metadata": {},
   "source": [
    "## Importação dos dados de Maturidade dos municípios da plataforma inteli.gente (MCTI)\n",
    "\n",
    "Plataforma do Ministério da Ciência, Tecnologia e Inovação (MCTI) que define cidades inteligentes como:\n",
    "\n",
    "\"... **cidades comprometidas com o desenvolvimento urbano sustentável e a transformação digital**, em seus aspectos econômico, meio ambiente, sociocultural e de capacidade institucional, ... e **utilizam tecnologias para solucionar problemas concretos, criar oportunidades, oferecer serviços com eficiência, reduzir desigualdades,** aumentar a resiliência **e melhorar a qualidade de vida de todas as pessoas**, garantindo o **uso seguro e responsável de dados** e das tecnologias da informação e comunicação.**\"\n",
    "\n",
    "<br><br>\n",
    "\n",
    "<img src=\"imgs/art_dimensoes.png\" alt=\"Sample Plot\" width=\"1000\"/>\n",
    "\n",
    "**fonte:** https://inteligente.mcti.gov.br/"
   ]
  },
  {
   "cell_type": "code",
   "execution_count": 2,
   "id": "467c27fd370b87e3",
   "metadata": {
    "ExecuteTime": {
     "end_time": "2024-11-02T20:01:02.923617Z",
     "start_time": "2024-11-02T20:01:02.833633Z"
    }
   },
   "outputs": [
    {
     "data": {
      "text/html": [
       "<div>\n",
       "<style scoped>\n",
       "    .dataframe tbody tr th:only-of-type {\n",
       "        vertical-align: middle;\n",
       "    }\n",
       "\n",
       "    .dataframe tbody tr th {\n",
       "        vertical-align: top;\n",
       "    }\n",
       "\n",
       "    .dataframe thead th {\n",
       "        text-align: right;\n",
       "    }\n",
       "</style>\n",
       "<table border=\"1\" class=\"dataframe\">\n",
       "  <thead>\n",
       "    <tr style=\"text-align: right;\">\n",
       "      <th></th>\n",
       "      <th>CD_MUN</th>\n",
       "      <th>NM_MUN</th>\n",
       "      <th>SG_UF</th>\n",
       "      <th>regiao</th>\n",
       "      <th>latitude</th>\n",
       "      <th>longitude</th>\n",
       "      <th>NV_Sociocultural</th>\n",
       "      <th>NV_Economico</th>\n",
       "      <th>NV_Institucional</th>\n",
       "      <th>NV_Ambiental</th>\n",
       "      <th>PIB_PC</th>\n",
       "      <th>PIB_Servicos</th>\n",
       "      <th>PIB_Industria</th>\n",
       "      <th>PIB_Administracao</th>\n",
       "      <th>PIB_Agro</th>\n",
       "      <th>Populacao</th>\n",
       "      <th>Populacao_ocupada</th>\n",
       "    </tr>\n",
       "  </thead>\n",
       "  <tbody>\n",
       "    <tr>\n",
       "      <th>0</th>\n",
       "      <td>5200050</td>\n",
       "      <td>ABADIA DE GOIAS</td>\n",
       "      <td>GO</td>\n",
       "      <td>CENTRO-OESTE</td>\n",
       "      <td>-16.75730</td>\n",
       "      <td>-49.4412</td>\n",
       "      <td>3</td>\n",
       "      <td>4</td>\n",
       "      <td>2</td>\n",
       "      <td>4</td>\n",
       "      <td>38622.00</td>\n",
       "      <td>155667.0</td>\n",
       "      <td>79642.0</td>\n",
       "      <td>60642.0</td>\n",
       "      <td>14324.0</td>\n",
       "      <td>19128.0</td>\n",
       "      <td>1703.0</td>\n",
       "    </tr>\n",
       "    <tr>\n",
       "      <th>1</th>\n",
       "      <td>3100104</td>\n",
       "      <td>ABADIA DOS DOURADOS</td>\n",
       "      <td>MG</td>\n",
       "      <td>SUDESTE</td>\n",
       "      <td>-18.48310</td>\n",
       "      <td>-47.3916</td>\n",
       "      <td>3</td>\n",
       "      <td>3</td>\n",
       "      <td>2</td>\n",
       "      <td>2</td>\n",
       "      <td>25174.26</td>\n",
       "      <td>43394.0</td>\n",
       "      <td>10618.0</td>\n",
       "      <td>38588.0</td>\n",
       "      <td>75110.0</td>\n",
       "      <td>6272.0</td>\n",
       "      <td>1342.0</td>\n",
       "    </tr>\n",
       "    <tr>\n",
       "      <th>2</th>\n",
       "      <td>5200100</td>\n",
       "      <td>ABADIANIA</td>\n",
       "      <td>GO</td>\n",
       "      <td>CENTRO-OESTE</td>\n",
       "      <td>-16.19700</td>\n",
       "      <td>-48.7057</td>\n",
       "      <td>3</td>\n",
       "      <td>4</td>\n",
       "      <td>3</td>\n",
       "      <td>3</td>\n",
       "      <td>21334.94</td>\n",
       "      <td>168151.0</td>\n",
       "      <td>56944.0</td>\n",
       "      <td>93456.0</td>\n",
       "      <td>81207.0</td>\n",
       "      <td>17232.0</td>\n",
       "      <td>2823.0</td>\n",
       "    </tr>\n",
       "    <tr>\n",
       "      <th>3</th>\n",
       "      <td>3100203</td>\n",
       "      <td>ABAETE</td>\n",
       "      <td>MG</td>\n",
       "      <td>SUDESTE</td>\n",
       "      <td>-19.15510</td>\n",
       "      <td>-45.4444</td>\n",
       "      <td>4</td>\n",
       "      <td>4</td>\n",
       "      <td>2</td>\n",
       "      <td>2</td>\n",
       "      <td>23266.10</td>\n",
       "      <td>220438.0</td>\n",
       "      <td>40612.0</td>\n",
       "      <td>108971.0</td>\n",
       "      <td>127033.0</td>\n",
       "      <td>22675.0</td>\n",
       "      <td>5884.0</td>\n",
       "    </tr>\n",
       "    <tr>\n",
       "      <th>4</th>\n",
       "      <td>1500107</td>\n",
       "      <td>ABAETETUBA</td>\n",
       "      <td>PA</td>\n",
       "      <td>NORTE</td>\n",
       "      <td>-1.72183</td>\n",
       "      <td>-48.8788</td>\n",
       "      <td>3</td>\n",
       "      <td>4</td>\n",
       "      <td>2</td>\n",
       "      <td>2</td>\n",
       "      <td>12150.04</td>\n",
       "      <td>754254.0</td>\n",
       "      <td>73666.0</td>\n",
       "      <td>670593.0</td>\n",
       "      <td>272103.0</td>\n",
       "      <td>158188.0</td>\n",
       "      <td>16450.0</td>\n",
       "    </tr>\n",
       "  </tbody>\n",
       "</table>\n",
       "</div>"
      ],
      "text/plain": [
       "    CD_MUN               NM_MUN SG_UF        regiao  latitude  longitude  \\\n",
       "0  5200050      ABADIA DE GOIAS    GO  CENTRO-OESTE -16.75730   -49.4412   \n",
       "1  3100104  ABADIA DOS DOURADOS    MG       SUDESTE -18.48310   -47.3916   \n",
       "2  5200100            ABADIANIA    GO  CENTRO-OESTE -16.19700   -48.7057   \n",
       "3  3100203               ABAETE    MG       SUDESTE -19.15510   -45.4444   \n",
       "4  1500107           ABAETETUBA    PA         NORTE  -1.72183   -48.8788   \n",
       "\n",
       "   NV_Sociocultural  NV_Economico  NV_Institucional  NV_Ambiental    PIB_PC  \\\n",
       "0                 3             4                 2             4  38622.00   \n",
       "1                 3             3                 2             2  25174.26   \n",
       "2                 3             4                 3             3  21334.94   \n",
       "3                 4             4                 2             2  23266.10   \n",
       "4                 3             4                 2             2  12150.04   \n",
       "\n",
       "   PIB_Servicos  PIB_Industria  PIB_Administracao  PIB_Agro  Populacao  \\\n",
       "0      155667.0        79642.0            60642.0   14324.0    19128.0   \n",
       "1       43394.0        10618.0            38588.0   75110.0     6272.0   \n",
       "2      168151.0        56944.0            93456.0   81207.0    17232.0   \n",
       "3      220438.0        40612.0           108971.0  127033.0    22675.0   \n",
       "4      754254.0        73666.0           670593.0  272103.0   158188.0   \n",
       "\n",
       "   Populacao_ocupada  \n",
       "0             1703.0  \n",
       "1             1342.0  \n",
       "2             2823.0  \n",
       "3             5884.0  \n",
       "4            16450.0  "
      ]
     },
     "execution_count": 2,
     "metadata": {},
     "output_type": "execute_result"
    }
   ],
   "source": [
    "df_maturidade = pd.read_csv('data_entrega/data_raw/maturidade.csv')\n",
    "\n",
    "# Divide coluna identificadora em município & estado (uf)\n",
    "df_maturidade[['municipio', 'uf']] = df_maturidade['nome'].str.split(r' \\(', expand = True)\n",
    "df_maturidade['uf'] = df_maturidade['uf'].str.replace(')', '')\n",
    "df_maturidade['municipio'] = df_maturidade['municipio'].str.upper().apply(unidecode)\n",
    "df_maturidade['regiao'] = df_maturidade['uf'].map(brazil_regions)\n",
    "\n",
    "df_maturidade.rename(columns = {'codigo': 'CD_MUN'}, inplace = True)\n",
    "\n",
    "# Seleciona colunas\n",
    "df_maturidade = df_maturidade[['CD_MUN', 'municipio', 'uf', 'regiao', 'latitude', 'longitude',\n",
    "                               'Nivel Sociocultural', 'Nivel Economica',\n",
    "                               'Nivel Capacidades Institucionais', 'Nivel Meio Ambiente',\n",
    "                               'PIB per capita do municipio', 'PIB Serviços', 'PIB Industria',\n",
    "                               'PIB Adminstração Publica', 'PIB Agropecuária', 'Populacao Estimada',\n",
    "                               'População ocupada com vinculo formal']]\n",
    "\n",
    "# Padronização nome colunas\n",
    "df_maturidade.rename(columns = {\n",
    "    'codigo': 'CD_MUN',\n",
    "    'municipio': 'NM_MUN',\n",
    "    'uf': 'SG_UF',\n",
    "    'Nivel Sociocultural': 'NV_Sociocultural',\n",
    "    'Nivel Economica': 'NV_Economico',\n",
    "    'Nivel Capacidades Institucionais': 'NV_Institucional',\n",
    "    'Nivel Meio Ambiente': 'NV_Ambiental',\n",
    "    'PIB per capita do municipio': 'PIB_PC',\n",
    "    'PIB Serviços': 'PIB_Servicos',\n",
    "    'PIB Industria': 'PIB_Industria',\n",
    "    'PIB Adminstração Publica': 'PIB_Administracao',\n",
    "    'PIB Agropecuária': 'PIB_Agro',\n",
    "    'Populacao Estimada': 'Populacao',\n",
    "    'População ocupada com vinculo formal': 'Populacao_ocupada'},\n",
    "    inplace = True)\n",
    "\n",
    "df_maturidade.head()"
   ]
  },
  {
   "cell_type": "code",
   "execution_count": 3,
   "id": "740b1bf1cdbf1856",
   "metadata": {
    "ExecuteTime": {
     "end_time": "2024-11-02T20:01:03.057561Z",
     "start_time": "2024-11-02T20:01:03.048916Z"
    }
   },
   "outputs": [
    {
     "data": {
      "text/plain": [
       "Populacao_ocupada    404\n",
       "dtype: int64"
      ]
     },
     "execution_count": 3,
     "metadata": {},
     "output_type": "execute_result"
    }
   ],
   "source": [
    "# Verificação de valores faltantes\n",
    "\n",
    "## São verificados 404 valores faltantes na feature \"df_maturidade.isna().sum()\"\n",
    "## É feita a imputação de valores faltantes é feita com a mediana obtida quando\n",
    "## os dados sao agrupados de acordo com a região e o tamanho da população (cidade de mesma região e porte)\n",
    "df_maturidade.isna().sum()[df_maturidade.isna().sum() > 0]"
   ]
  },
  {
   "cell_type": "code",
   "execution_count": 4,
   "id": "cb0d10867daa1a44",
   "metadata": {
    "ExecuteTime": {
     "end_time": "2024-11-02T20:01:03.172334Z",
     "start_time": "2024-11-02T20:01:03.113034Z"
    }
   },
   "outputs": [
    {
     "data": {
      "text/html": [
       "<div>\n",
       "<style scoped>\n",
       "    .dataframe tbody tr th:only-of-type {\n",
       "        vertical-align: middle;\n",
       "    }\n",
       "\n",
       "    .dataframe tbody tr th {\n",
       "        vertical-align: top;\n",
       "    }\n",
       "\n",
       "    .dataframe thead th {\n",
       "        text-align: right;\n",
       "    }\n",
       "</style>\n",
       "<table border=\"1\" class=\"dataframe\">\n",
       "  <thead>\n",
       "    <tr style=\"text-align: right;\">\n",
       "      <th></th>\n",
       "      <th>CD_MUN</th>\n",
       "      <th>NM_MUN</th>\n",
       "      <th>SG_UF</th>\n",
       "      <th>regiao</th>\n",
       "      <th>latitude</th>\n",
       "      <th>longitude</th>\n",
       "      <th>NV_Sociocultural</th>\n",
       "      <th>NV_Economico</th>\n",
       "      <th>NV_Institucional</th>\n",
       "      <th>NV_Ambiental</th>\n",
       "      <th>...</th>\n",
       "      <th>PIB_Servicos</th>\n",
       "      <th>PIB_Industria</th>\n",
       "      <th>PIB_Administracao</th>\n",
       "      <th>PIB_Agro</th>\n",
       "      <th>Populacao</th>\n",
       "      <th>Populacao_ocupada</th>\n",
       "      <th>PIBpc_bins</th>\n",
       "      <th>Populacao_bins</th>\n",
       "      <th>Ocupacao_populacao</th>\n",
       "      <th>Ocupacao_bins</th>\n",
       "    </tr>\n",
       "  </thead>\n",
       "  <tbody>\n",
       "    <tr>\n",
       "      <th>0</th>\n",
       "      <td>5200050</td>\n",
       "      <td>ABADIA DE GOIAS</td>\n",
       "      <td>GO</td>\n",
       "      <td>CENTRO-OESTE</td>\n",
       "      <td>-16.75730</td>\n",
       "      <td>-49.4412</td>\n",
       "      <td>3</td>\n",
       "      <td>4</td>\n",
       "      <td>2</td>\n",
       "      <td>4</td>\n",
       "      <td>...</td>\n",
       "      <td>155667.0</td>\n",
       "      <td>79642.0</td>\n",
       "      <td>60642.0</td>\n",
       "      <td>14324.0</td>\n",
       "      <td>19128.0</td>\n",
       "      <td>1703.0</td>\n",
       "      <td>25000-40000</td>\n",
       "      <td>10000-150000</td>\n",
       "      <td>0.089032</td>\n",
       "      <td>0-0.15</td>\n",
       "    </tr>\n",
       "    <tr>\n",
       "      <th>1</th>\n",
       "      <td>3100104</td>\n",
       "      <td>ABADIA DOS DOURADOS</td>\n",
       "      <td>MG</td>\n",
       "      <td>SUDESTE</td>\n",
       "      <td>-18.48310</td>\n",
       "      <td>-47.3916</td>\n",
       "      <td>3</td>\n",
       "      <td>3</td>\n",
       "      <td>2</td>\n",
       "      <td>2</td>\n",
       "      <td>...</td>\n",
       "      <td>43394.0</td>\n",
       "      <td>10618.0</td>\n",
       "      <td>38588.0</td>\n",
       "      <td>75110.0</td>\n",
       "      <td>6272.0</td>\n",
       "      <td>1342.0</td>\n",
       "      <td>25000-40000</td>\n",
       "      <td>0-10000</td>\n",
       "      <td>0.213967</td>\n",
       "      <td>0.15-0.4</td>\n",
       "    </tr>\n",
       "    <tr>\n",
       "      <th>2</th>\n",
       "      <td>5200100</td>\n",
       "      <td>ABADIANIA</td>\n",
       "      <td>GO</td>\n",
       "      <td>CENTRO-OESTE</td>\n",
       "      <td>-16.19700</td>\n",
       "      <td>-48.7057</td>\n",
       "      <td>3</td>\n",
       "      <td>4</td>\n",
       "      <td>3</td>\n",
       "      <td>3</td>\n",
       "      <td>...</td>\n",
       "      <td>168151.0</td>\n",
       "      <td>56944.0</td>\n",
       "      <td>93456.0</td>\n",
       "      <td>81207.0</td>\n",
       "      <td>17232.0</td>\n",
       "      <td>2823.0</td>\n",
       "      <td>12500-25000</td>\n",
       "      <td>10000-150000</td>\n",
       "      <td>0.163823</td>\n",
       "      <td>0.15-0.4</td>\n",
       "    </tr>\n",
       "    <tr>\n",
       "      <th>3</th>\n",
       "      <td>3100203</td>\n",
       "      <td>ABAETE</td>\n",
       "      <td>MG</td>\n",
       "      <td>SUDESTE</td>\n",
       "      <td>-19.15510</td>\n",
       "      <td>-45.4444</td>\n",
       "      <td>4</td>\n",
       "      <td>4</td>\n",
       "      <td>2</td>\n",
       "      <td>2</td>\n",
       "      <td>...</td>\n",
       "      <td>220438.0</td>\n",
       "      <td>40612.0</td>\n",
       "      <td>108971.0</td>\n",
       "      <td>127033.0</td>\n",
       "      <td>22675.0</td>\n",
       "      <td>5884.0</td>\n",
       "      <td>12500-25000</td>\n",
       "      <td>10000-150000</td>\n",
       "      <td>0.259493</td>\n",
       "      <td>0.15-0.4</td>\n",
       "    </tr>\n",
       "    <tr>\n",
       "      <th>4</th>\n",
       "      <td>1500107</td>\n",
       "      <td>ABAETETUBA</td>\n",
       "      <td>PA</td>\n",
       "      <td>NORTE</td>\n",
       "      <td>-1.72183</td>\n",
       "      <td>-48.8788</td>\n",
       "      <td>3</td>\n",
       "      <td>4</td>\n",
       "      <td>2</td>\n",
       "      <td>2</td>\n",
       "      <td>...</td>\n",
       "      <td>754254.0</td>\n",
       "      <td>73666.0</td>\n",
       "      <td>670593.0</td>\n",
       "      <td>272103.0</td>\n",
       "      <td>158188.0</td>\n",
       "      <td>16450.0</td>\n",
       "      <td>0-12500</td>\n",
       "      <td>150000+</td>\n",
       "      <td>0.103990</td>\n",
       "      <td>0-0.15</td>\n",
       "    </tr>\n",
       "  </tbody>\n",
       "</table>\n",
       "<p>5 rows × 21 columns</p>\n",
       "</div>"
      ],
      "text/plain": [
       "    CD_MUN               NM_MUN SG_UF        regiao  latitude  longitude  \\\n",
       "0  5200050      ABADIA DE GOIAS    GO  CENTRO-OESTE -16.75730   -49.4412   \n",
       "1  3100104  ABADIA DOS DOURADOS    MG       SUDESTE -18.48310   -47.3916   \n",
       "2  5200100            ABADIANIA    GO  CENTRO-OESTE -16.19700   -48.7057   \n",
       "3  3100203               ABAETE    MG       SUDESTE -19.15510   -45.4444   \n",
       "4  1500107           ABAETETUBA    PA         NORTE  -1.72183   -48.8788   \n",
       "\n",
       "   NV_Sociocultural  NV_Economico  NV_Institucional  NV_Ambiental  ...  \\\n",
       "0                 3             4                 2             4  ...   \n",
       "1                 3             3                 2             2  ...   \n",
       "2                 3             4                 3             3  ...   \n",
       "3                 4             4                 2             2  ...   \n",
       "4                 3             4                 2             2  ...   \n",
       "\n",
       "   PIB_Servicos  PIB_Industria  PIB_Administracao  PIB_Agro  Populacao  \\\n",
       "0      155667.0        79642.0            60642.0   14324.0    19128.0   \n",
       "1       43394.0        10618.0            38588.0   75110.0     6272.0   \n",
       "2      168151.0        56944.0            93456.0   81207.0    17232.0   \n",
       "3      220438.0        40612.0           108971.0  127033.0    22675.0   \n",
       "4      754254.0        73666.0           670593.0  272103.0   158188.0   \n",
       "\n",
       "   Populacao_ocupada   PIBpc_bins Populacao_bins Ocupacao_populacao  \\\n",
       "0             1703.0  25000-40000   10000-150000           0.089032   \n",
       "1             1342.0  25000-40000        0-10000           0.213967   \n",
       "2             2823.0  12500-25000   10000-150000           0.163823   \n",
       "3             5884.0  12500-25000   10000-150000           0.259493   \n",
       "4            16450.0      0-12500        150000+           0.103990   \n",
       "\n",
       "   Ocupacao_bins  \n",
       "0         0-0.15  \n",
       "1       0.15-0.4  \n",
       "2       0.15-0.4  \n",
       "3       0.15-0.4  \n",
       "4         0-0.15  \n",
       "\n",
       "[5 rows x 21 columns]"
      ]
     },
     "execution_count": 4,
     "metadata": {},
     "output_type": "execute_result"
    }
   ],
   "source": [
    "# Imputação valores faltantes\n",
    "\n",
    "# PIB per capita bins\n",
    "pibpc_bins = [0, 12500, 25000, 40000, float('inf')]\n",
    "pibpc_labels = [f'0-{pibpc_bins[1]}', f'{pibpc_bins[1]}-{pibpc_bins[2]}', f'{pibpc_bins[2]}-{pibpc_bins[3]}',\n",
    "                f'{pibpc_bins[3]}+']\n",
    "# Population bins\n",
    "population_bins = [0, 10000, 150000, float('inf')]\n",
    "population_labels = [f'0-{population_bins[1]}', f'{population_bins[1]}-{population_bins[2]}', f'{population_bins[2]}+']\n",
    "\n",
    "df_maturidade = create_bins(df_maturidade, 'PIB_PC', 'PIBpc_bins', pibpc_bins, pibpc_labels)\n",
    "df_maturidade = create_bins(df_maturidade, 'Populacao', 'Populacao_bins', population_bins, population_labels)\n",
    "\n",
    "median_pop_reg = df_maturidade[['regiao', 'Populacao_bins', 'Populacao_ocupada']].groupby(['regiao', 'Populacao_bins'],\n",
    "                                                                                          observed = True).median().reset_index()\n",
    "median_pop_reg.rename(columns = {'Populacao_ocupada': 'Mediana_PopOcup'}, inplace = True)\n",
    "\n",
    "df_maturidade = pd.merge(df_maturidade, median_pop_reg, how = 'left', on = ['regiao', 'Populacao_bins'])\n",
    "\n",
    "df_maturidade['Populacao_ocupada'] = df_maturidade['Populacao_ocupada'].fillna(df_maturidade['Mediana_PopOcup'])\n",
    "df_maturidade = df_maturidade.drop(columns = 'Mediana_PopOcup')\n",
    "\n",
    "# Calcula porcentagem de população com ocupação laboral\n",
    "df_maturidade['Ocupacao_populacao'] = df_maturidade['Populacao_ocupada'] / df_maturidade[\n",
    "    'Populacao']\n",
    "\n",
    "# Occupancy bins\n",
    "occupancy_bins = [0, 0.15, .40, 1]\n",
    "occupancy_labels = [f'0-{occupancy_bins[1]}', f'{occupancy_bins[1]}-{occupancy_bins[2]}', f'{occupancy_bins[2]}+']\n",
    "\n",
    "df_maturidade = create_bins(df_maturidade, 'Ocupacao_populacao', 'Ocupacao_bins', occupancy_bins, occupancy_labels)\n",
    "\n",
    "df_maturidade.to_pickle('data_entrega/data_clean/Maturidade.pkl')\n",
    "\n",
    "df_maturidade.head()"
   ]
  },
  {
   "cell_type": "markdown",
   "id": "d2310caddcc61e4",
   "metadata": {},
   "source": [
    "## Inclusão dados geográficos"
   ]
  },
  {
   "cell_type": "code",
   "execution_count": 5,
   "id": "6613f1953a2a677c",
   "metadata": {
    "ExecuteTime": {
     "end_time": "2024-11-02T20:01:26.373148Z",
     "start_time": "2024-11-02T20:01:20.827059Z"
    },
    "scrolled": true
   },
   "outputs": [
    {
     "data": {
      "text/html": [
       "<div>\n",
       "<style scoped>\n",
       "    .dataframe tbody tr th:only-of-type {\n",
       "        vertical-align: middle;\n",
       "    }\n",
       "\n",
       "    .dataframe tbody tr th {\n",
       "        vertical-align: top;\n",
       "    }\n",
       "\n",
       "    .dataframe thead th {\n",
       "        text-align: right;\n",
       "    }\n",
       "</style>\n",
       "<table border=\"1\" class=\"dataframe\">\n",
       "  <thead>\n",
       "    <tr style=\"text-align: right;\">\n",
       "      <th></th>\n",
       "      <th>CD_MUN</th>\n",
       "      <th>NM_MUN</th>\n",
       "      <th>SG_UF</th>\n",
       "      <th>regiao</th>\n",
       "      <th>cod_rgi</th>\n",
       "      <th>cod_rgint</th>\n",
       "      <th>NV_Sociocultural</th>\n",
       "      <th>NV_Economico</th>\n",
       "      <th>NV_Institucional</th>\n",
       "      <th>NV_Ambiental</th>\n",
       "      <th>...</th>\n",
       "      <th>PIBpc_bins</th>\n",
       "      <th>Populacao</th>\n",
       "      <th>Populacao_bins</th>\n",
       "      <th>Ocupacao_populacao</th>\n",
       "      <th>Ocupacao_bins</th>\n",
       "      <th>latitude</th>\n",
       "      <th>longitude</th>\n",
       "      <th>AREA_KM2</th>\n",
       "      <th>geometry</th>\n",
       "      <th>reg_color</th>\n",
       "    </tr>\n",
       "  </thead>\n",
       "  <tbody>\n",
       "    <tr>\n",
       "      <th>0</th>\n",
       "      <td>1100015.0</td>\n",
       "      <td>ALTA FLORESTA D'OESTE</td>\n",
       "      <td>RO</td>\n",
       "      <td>NORTE</td>\n",
       "      <td>110005.0</td>\n",
       "      <td>1102.0</td>\n",
       "      <td>3.0</td>\n",
       "      <td>3.0</td>\n",
       "      <td>3.0</td>\n",
       "      <td>2.0</td>\n",
       "      <td>...</td>\n",
       "      <td>25000-40000</td>\n",
       "      <td>21494.0</td>\n",
       "      <td>10000-150000</td>\n",
       "      <td>0.184703</td>\n",
       "      <td>0.15-0.4</td>\n",
       "      <td>-11.92830</td>\n",
       "      <td>-61.9953</td>\n",
       "      <td>7067.127</td>\n",
       "      <td>POLYGON ((-62.19465 -11.82746, -62.19332 -11.8...</td>\n",
       "      <td>#ffb6c1</td>\n",
       "    </tr>\n",
       "    <tr>\n",
       "      <th>1</th>\n",
       "      <td>1100023.0</td>\n",
       "      <td>ARIQUEMES</td>\n",
       "      <td>RO</td>\n",
       "      <td>NORTE</td>\n",
       "      <td>110002.0</td>\n",
       "      <td>1101.0</td>\n",
       "      <td>4.0</td>\n",
       "      <td>4.0</td>\n",
       "      <td>4.0</td>\n",
       "      <td>4.0</td>\n",
       "      <td>...</td>\n",
       "      <td>25000-40000</td>\n",
       "      <td>96833.0</td>\n",
       "      <td>10000-150000</td>\n",
       "      <td>0.226627</td>\n",
       "      <td>0.15-0.4</td>\n",
       "      <td>-9.90571</td>\n",
       "      <td>-63.0325</td>\n",
       "      <td>4426.571</td>\n",
       "      <td>POLYGON ((-62.53648 -9.73222, -62.52765 -9.736...</td>\n",
       "      <td>#ffb6c1</td>\n",
       "    </tr>\n",
       "    <tr>\n",
       "      <th>2</th>\n",
       "      <td>1100031.0</td>\n",
       "      <td>CABIXI</td>\n",
       "      <td>RO</td>\n",
       "      <td>NORTE</td>\n",
       "      <td>110006.0</td>\n",
       "      <td>1102.0</td>\n",
       "      <td>3.0</td>\n",
       "      <td>3.0</td>\n",
       "      <td>2.0</td>\n",
       "      <td>2.0</td>\n",
       "      <td>...</td>\n",
       "      <td>40000+</td>\n",
       "      <td>5351.0</td>\n",
       "      <td>0-10000</td>\n",
       "      <td>0.191179</td>\n",
       "      <td>0.15-0.4</td>\n",
       "      <td>-13.49450</td>\n",
       "      <td>-60.5520</td>\n",
       "      <td>1314.352</td>\n",
       "      <td>POLYGON ((-60.37119 -13.36655, -60.37134 -13.3...</td>\n",
       "      <td>#ffb6c1</td>\n",
       "    </tr>\n",
       "    <tr>\n",
       "      <th>3</th>\n",
       "      <td>1100049.0</td>\n",
       "      <td>CACOAL</td>\n",
       "      <td>RO</td>\n",
       "      <td>NORTE</td>\n",
       "      <td>110005.0</td>\n",
       "      <td>1102.0</td>\n",
       "      <td>4.0</td>\n",
       "      <td>4.0</td>\n",
       "      <td>2.0</td>\n",
       "      <td>3.0</td>\n",
       "      <td>...</td>\n",
       "      <td>25000-40000</td>\n",
       "      <td>86887.0</td>\n",
       "      <td>10000-150000</td>\n",
       "      <td>0.225718</td>\n",
       "      <td>0.15-0.4</td>\n",
       "      <td>-11.43430</td>\n",
       "      <td>-61.4562</td>\n",
       "      <td>3793.000</td>\n",
       "      <td>POLYGON ((-61.0008 -11.29737, -61.00103 -11.39...</td>\n",
       "      <td>#ffb6c1</td>\n",
       "    </tr>\n",
       "    <tr>\n",
       "      <th>4</th>\n",
       "      <td>1100056.0</td>\n",
       "      <td>CEREJEIRAS</td>\n",
       "      <td>RO</td>\n",
       "      <td>NORTE</td>\n",
       "      <td>110006.0</td>\n",
       "      <td>1102.0</td>\n",
       "      <td>3.0</td>\n",
       "      <td>4.0</td>\n",
       "      <td>2.0</td>\n",
       "      <td>4.0</td>\n",
       "      <td>...</td>\n",
       "      <td>40000+</td>\n",
       "      <td>15890.0</td>\n",
       "      <td>10000-150000</td>\n",
       "      <td>0.223663</td>\n",
       "      <td>0.15-0.4</td>\n",
       "      <td>-13.18700</td>\n",
       "      <td>-60.8168</td>\n",
       "      <td>2783.300</td>\n",
       "      <td>POLYGON ((-61.49976 -13.00525, -61.49809 -13.0...</td>\n",
       "      <td>#ffb6c1</td>\n",
       "    </tr>\n",
       "  </tbody>\n",
       "</table>\n",
       "<p>5 rows × 21 columns</p>\n",
       "</div>"
      ],
      "text/plain": [
       "      CD_MUN                 NM_MUN SG_UF regiao   cod_rgi  cod_rgint  \\\n",
       "0  1100015.0  ALTA FLORESTA D'OESTE    RO  NORTE  110005.0     1102.0   \n",
       "1  1100023.0              ARIQUEMES    RO  NORTE  110002.0     1101.0   \n",
       "2  1100031.0                 CABIXI    RO  NORTE  110006.0     1102.0   \n",
       "3  1100049.0                 CACOAL    RO  NORTE  110005.0     1102.0   \n",
       "4  1100056.0             CEREJEIRAS    RO  NORTE  110006.0     1102.0   \n",
       "\n",
       "   NV_Sociocultural  NV_Economico  NV_Institucional  NV_Ambiental  ...  \\\n",
       "0               3.0           3.0               3.0           2.0  ...   \n",
       "1               4.0           4.0               4.0           4.0  ...   \n",
       "2               3.0           3.0               2.0           2.0  ...   \n",
       "3               4.0           4.0               2.0           3.0  ...   \n",
       "4               3.0           4.0               2.0           4.0  ...   \n",
       "\n",
       "    PIBpc_bins Populacao  Populacao_bins Ocupacao_populacao  Ocupacao_bins  \\\n",
       "0  25000-40000   21494.0    10000-150000           0.184703       0.15-0.4   \n",
       "1  25000-40000   96833.0    10000-150000           0.226627       0.15-0.4   \n",
       "2       40000+    5351.0         0-10000           0.191179       0.15-0.4   \n",
       "3  25000-40000   86887.0    10000-150000           0.225718       0.15-0.4   \n",
       "4       40000+   15890.0    10000-150000           0.223663       0.15-0.4   \n",
       "\n",
       "   latitude  longitude  AREA_KM2  \\\n",
       "0 -11.92830   -61.9953  7067.127   \n",
       "1  -9.90571   -63.0325  4426.571   \n",
       "2 -13.49450   -60.5520  1314.352   \n",
       "3 -11.43430   -61.4562  3793.000   \n",
       "4 -13.18700   -60.8168  2783.300   \n",
       "\n",
       "                                            geometry reg_color  \n",
       "0  POLYGON ((-62.19465 -11.82746, -62.19332 -11.8...   #ffb6c1  \n",
       "1  POLYGON ((-62.53648 -9.73222, -62.52765 -9.736...   #ffb6c1  \n",
       "2  POLYGON ((-60.37119 -13.36655, -60.37134 -13.3...   #ffb6c1  \n",
       "3  POLYGON ((-61.0008 -11.29737, -61.00103 -11.39...   #ffb6c1  \n",
       "4  POLYGON ((-61.49976 -13.00525, -61.49809 -13.0...   #ffb6c1  \n",
       "\n",
       "[5 rows x 21 columns]"
      ]
     },
     "execution_count": 5,
     "metadata": {},
     "output_type": "execute_result"
    }
   ],
   "source": [
    "ibge_geo = pd.read_csv('data_entrega/data_raw/geodata/regioes_geograficas.csv').rename(columns = {'CD_GEOCODI': 'CD_MUN'})\n",
    "\n",
    "df_maturidade = pd.merge(df_maturidade, ibge_geo[['CD_MUN', 'cod_rgi', 'cod_rgint']],\n",
    "                         how = 'inner', on = 'CD_MUN')\n",
    "\n",
    "brazil_map = gpd.read_file(\"data_entrega/data_raw/geodata/BR_Municipios_2021.shp\")\n",
    "\n",
    "brazil_map['CD_MUN'] = brazil_map['CD_MUN'].astype(float)\n",
    "brazil_map['regiao'] = brazil_map['SIGLA'].map(brazil_regions)\n",
    "brazil_map['reg_color'] = brazil_map['regiao'].map(REG_COLOR)\n",
    "brazil_map.rename(columns = {'SIGLA': 'SG_UF'}, inplace = True)\n",
    "\n",
    "df_spatial = pd.merge(brazil_map.drop(columns = ['NM_MUN', 'SG_UF', 'regiao']), df_maturidade,\n",
    "                      how = 'left', on = 'CD_MUN')\n",
    "\n",
    "df_spatial = df_spatial[['CD_MUN', 'NM_MUN', 'SG_UF', 'regiao',\n",
    "                         'cod_rgi', 'cod_rgint',\n",
    "                         'NV_Sociocultural', 'NV_Economico', 'NV_Institucional', 'NV_Ambiental',\n",
    "                         'PIB_PC', 'PIBpc_bins', 'Populacao', 'Populacao_bins',\n",
    "                         'Ocupacao_populacao', 'Ocupacao_bins',\n",
    "                         'latitude', 'longitude', 'AREA_KM2', 'geometry', 'reg_color']]\n",
    "\n",
    "df_spatial.to_pickle('data_entrega/data_clean/GeoMaturidade.pkl')\n",
    "\n",
    "df_spatial.head()"
   ]
  },
  {
   "cell_type": "markdown",
   "id": "21228430c234f46f",
   "metadata": {
    "collapsed": false,
    "jupyter": {
     "outputs_hidden": false
    }
   },
   "source": [
    "## Importação dos dados de investimento público de 2023 (MF)\n",
    "\n",
    "Os dados são obtidos via \"Portal de Dados Abertos\" do Governo Federal, além disso também são disponibilizados os metadados (fornecem informações adicionais sobre as features). O orgão responsável pelos dados é o Ministério da Fazenda (MF), que fornece a seguinte descrição para o conjunto de dados:\n",
    "\n",
    "\"Corresponde ao **pagamento total (despesas do exercício pagas e restos a pagar pagos) dos grupos de natureza de despesa 4 (investimentos) e 5 (inversões financeiras)**, exceto as despesas financeiras, que compõem o Orçamento Fiscal e da Seguridade Social.\n",
    "\n",
    "**Investimentos** são despesas orçamentárias com **softwares** e com o **planejamento e a execução de obras**, inclusive com a aquisição de imóveis considerados necessários à realização destas últimas, e com a **aquisição de instalações, equipamentos e material permanente**.\n",
    "\n",
    "**Inversões financeiras** são despesas orçamentárias com a **aquisição de imóveis ou bens de capital já em utilização**; **aquisição de títulos** representativos do capital de empresas ou entidades de qualquer espécie, já constituídas, quando a operação não importe aumento do capital; e com a constituição ou aumento do capital de empresas, além de outras despesas classificáveis neste grupo.\n",
    "\n",
    "**Os dados são obtidos a partir de consultas junto ao Sistema Integrado de Administração Financeira do Governo Federal – SIAFI.**\"\n",
    "\n",
    "**fonte dos dados:** https://dados.gov.br/dados/conjuntos-dados/investimento-publico\n",
    "\n",
    "**fonte metadados:** https://www.tesourotransparente.gov.br/ckan/dataset/e048826b-b6b0-4d92-9204-fd218b1f25b3/resource/91cbf16f-19e6-48e4-b059-12b7a0758d25/download/Metadados-Investimentos.pdf"
   ]
  },
  {
   "cell_type": "code",
   "execution_count": 6,
   "id": "4ddda7f1682d5022",
   "metadata": {
    "ExecuteTime": {
     "end_time": "2024-11-02T20:01:32.360393Z",
     "start_time": "2024-11-02T20:01:32.090180Z"
    },
    "collapsed": false,
    "jupyter": {
     "outputs_hidden": false
    }
   },
   "outputs": [
    {
     "data": {
      "text/html": [
       "<div>\n",
       "<style scoped>\n",
       "    .dataframe tbody tr th:only-of-type {\n",
       "        vertical-align: middle;\n",
       "    }\n",
       "\n",
       "    .dataframe tbody tr th {\n",
       "        vertical-align: top;\n",
       "    }\n",
       "\n",
       "    .dataframe thead th {\n",
       "        text-align: right;\n",
       "    }\n",
       "</style>\n",
       "<table border=\"1\" class=\"dataframe\">\n",
       "  <thead>\n",
       "    <tr style=\"text-align: right;\">\n",
       "      <th></th>\n",
       "      <th>ano</th>\n",
       "      <th>mes</th>\n",
       "      <th>esfera_orcamentaria</th>\n",
       "      <th>esfera_orcamentaria_desc</th>\n",
       "      <th>orgao_maximo</th>\n",
       "      <th>orgao_maximo_desc</th>\n",
       "      <th>uo</th>\n",
       "      <th>uo_desc</th>\n",
       "      <th>grupo_despesa</th>\n",
       "      <th>grupo_despesa_desc</th>\n",
       "      <th>...</th>\n",
       "      <th>subfuncao_desc</th>\n",
       "      <th>programa</th>\n",
       "      <th>programa_desc</th>\n",
       "      <th>acao</th>\n",
       "      <th>acao_desc</th>\n",
       "      <th>regiao</th>\n",
       "      <th>uf</th>\n",
       "      <th>uf_desc</th>\n",
       "      <th>municipio</th>\n",
       "      <th>movimento_liquido_reais</th>\n",
       "    </tr>\n",
       "  </thead>\n",
       "  <tbody>\n",
       "    <tr>\n",
       "      <th>0</th>\n",
       "      <td>2023</td>\n",
       "      <td>JANEIRO</td>\n",
       "      <td>1</td>\n",
       "      <td>ORCAMENTO FISCAL</td>\n",
       "      <td>1000</td>\n",
       "      <td>CAMARA DOS DEPUTADOS</td>\n",
       "      <td>1101</td>\n",
       "      <td>CAMARA DOS DEPUTADOS</td>\n",
       "      <td>4</td>\n",
       "      <td>INVESTIMENTOS</td>\n",
       "      <td>...</td>\n",
       "      <td>ACAO LEGISLATIVA</td>\n",
       "      <td>34</td>\n",
       "      <td>PROGRAMA DE GESTAO E MANUTENCAO DO PODER LEGIS...</td>\n",
       "      <td>4061</td>\n",
       "      <td>PROCESSO LEGISLATIVO, FISCALIZACAO E REPRESENT...</td>\n",
       "      <td>CENTRO-OESTE</td>\n",
       "      <td>DF</td>\n",
       "      <td>DISTRITO FEDERAL</td>\n",
       "      <td>BRASILIA</td>\n",
       "      <td>2.870.698,85</td>\n",
       "    </tr>\n",
       "    <tr>\n",
       "      <th>1</th>\n",
       "      <td>2023</td>\n",
       "      <td>JANEIRO</td>\n",
       "      <td>1</td>\n",
       "      <td>ORCAMENTO FISCAL</td>\n",
       "      <td>1000</td>\n",
       "      <td>CAMARA DOS DEPUTADOS</td>\n",
       "      <td>1901</td>\n",
       "      <td>FUNDO ROTATIVO DA CAMARA DOS DEPUTADOS</td>\n",
       "      <td>4</td>\n",
       "      <td>INVESTIMENTOS</td>\n",
       "      <td>...</td>\n",
       "      <td>ACAO LEGISLATIVA</td>\n",
       "      <td>34</td>\n",
       "      <td>PROGRAMA DE GESTAO E MANUTENCAO DO PODER LEGIS...</td>\n",
       "      <td>4061</td>\n",
       "      <td>PROCESSO LEGISLATIVO, FISCALIZACAO E REPRESENT...</td>\n",
       "      <td>CENTRO-OESTE</td>\n",
       "      <td>DF</td>\n",
       "      <td>DISTRITO FEDERAL</td>\n",
       "      <td>BRASILIA</td>\n",
       "      <td>95.640,79</td>\n",
       "    </tr>\n",
       "    <tr>\n",
       "      <th>2</th>\n",
       "      <td>2023</td>\n",
       "      <td>JANEIRO</td>\n",
       "      <td>1</td>\n",
       "      <td>ORCAMENTO FISCAL</td>\n",
       "      <td>2000</td>\n",
       "      <td>SENADO FEDERAL</td>\n",
       "      <td>2101</td>\n",
       "      <td>SENADO FEDERAL</td>\n",
       "      <td>4</td>\n",
       "      <td>INVESTIMENTOS</td>\n",
       "      <td>...</td>\n",
       "      <td>ACAO LEGISLATIVA</td>\n",
       "      <td>34</td>\n",
       "      <td>PROGRAMA DE GESTAO E MANUTENCAO DO PODER LEGIS...</td>\n",
       "      <td>4061</td>\n",
       "      <td>PROCESSO LEGISLATIVO, FISCALIZACAO E REPRESENT...</td>\n",
       "      <td>CENTRO-OESTE</td>\n",
       "      <td>DF</td>\n",
       "      <td>DISTRITO FEDERAL</td>\n",
       "      <td>BRASILIA</td>\n",
       "      <td>1.552.301,37</td>\n",
       "    </tr>\n",
       "    <tr>\n",
       "      <th>3</th>\n",
       "      <td>2023</td>\n",
       "      <td>JANEIRO</td>\n",
       "      <td>1</td>\n",
       "      <td>ORCAMENTO FISCAL</td>\n",
       "      <td>2000</td>\n",
       "      <td>SENADO FEDERAL</td>\n",
       "      <td>2101</td>\n",
       "      <td>SENADO FEDERAL</td>\n",
       "      <td>4</td>\n",
       "      <td>INVESTIMENTOS</td>\n",
       "      <td>...</td>\n",
       "      <td>ACAO LEGISLATIVA</td>\n",
       "      <td>551</td>\n",
       "      <td>ATUACAO LEGISLATIVA DO SENADO FEDERAL</td>\n",
       "      <td>4061</td>\n",
       "      <td>PROCESSO LEGISLATIVO, FISCALIZACAO E REPRESENT...</td>\n",
       "      <td>CENTRO-OESTE</td>\n",
       "      <td>DF</td>\n",
       "      <td>DISTRITO FEDERAL</td>\n",
       "      <td>BRASILIA</td>\n",
       "      <td>259.809,35</td>\n",
       "    </tr>\n",
       "    <tr>\n",
       "      <th>4</th>\n",
       "      <td>2023</td>\n",
       "      <td>JANEIRO</td>\n",
       "      <td>1</td>\n",
       "      <td>ORCAMENTO FISCAL</td>\n",
       "      <td>3000</td>\n",
       "      <td>TRIBUNAL DE CONTAS DA UNIAO</td>\n",
       "      <td>3101</td>\n",
       "      <td>TRIBUNAL DE CONTAS DA UNIAO</td>\n",
       "      <td>4</td>\n",
       "      <td>INVESTIMENTOS</td>\n",
       "      <td>...</td>\n",
       "      <td>CONTROLE EXTERNO</td>\n",
       "      <td>34</td>\n",
       "      <td>PROGRAMA DE GESTAO E MANUTENCAO DO PODER LEGIS...</td>\n",
       "      <td>4018</td>\n",
       "      <td>FISCALIZACAO DA APLICACAO DOS RECURSOS PUBLICO...</td>\n",
       "      <td>NACIONAL</td>\n",
       "      <td>'-8</td>\n",
       "      <td>SEM INFORMACAO</td>\n",
       "      <td>SEM INFORMACAO</td>\n",
       "      <td>3.381.823,38</td>\n",
       "    </tr>\n",
       "  </tbody>\n",
       "</table>\n",
       "<p>5 rows × 27 columns</p>\n",
       "</div>"
      ],
      "text/plain": [
       "    ano      mes  esfera_orcamentaria esfera_orcamentaria_desc  orgao_maximo  \\\n",
       "0  2023  JANEIRO                    1         ORCAMENTO FISCAL          1000   \n",
       "1  2023  JANEIRO                    1         ORCAMENTO FISCAL          1000   \n",
       "2  2023  JANEIRO                    1         ORCAMENTO FISCAL          2000   \n",
       "3  2023  JANEIRO                    1         ORCAMENTO FISCAL          2000   \n",
       "4  2023  JANEIRO                    1         ORCAMENTO FISCAL          3000   \n",
       "\n",
       "             orgao_maximo_desc    uo                                 uo_desc  \\\n",
       "0         CAMARA DOS DEPUTADOS  1101                    CAMARA DOS DEPUTADOS   \n",
       "1         CAMARA DOS DEPUTADOS  1901  FUNDO ROTATIVO DA CAMARA DOS DEPUTADOS   \n",
       "2               SENADO FEDERAL  2101                          SENADO FEDERAL   \n",
       "3               SENADO FEDERAL  2101                          SENADO FEDERAL   \n",
       "4  TRIBUNAL DE CONTAS DA UNIAO  3101             TRIBUNAL DE CONTAS DA UNIAO   \n",
       "\n",
       "   grupo_despesa grupo_despesa_desc  ...    subfuncao_desc programa  \\\n",
       "0              4      INVESTIMENTOS  ...  ACAO LEGISLATIVA       34   \n",
       "1              4      INVESTIMENTOS  ...  ACAO LEGISLATIVA       34   \n",
       "2              4      INVESTIMENTOS  ...  ACAO LEGISLATIVA       34   \n",
       "3              4      INVESTIMENTOS  ...  ACAO LEGISLATIVA      551   \n",
       "4              4      INVESTIMENTOS  ...  CONTROLE EXTERNO       34   \n",
       "\n",
       "                                       programa_desc  acao  \\\n",
       "0  PROGRAMA DE GESTAO E MANUTENCAO DO PODER LEGIS...  4061   \n",
       "1  PROGRAMA DE GESTAO E MANUTENCAO DO PODER LEGIS...  4061   \n",
       "2  PROGRAMA DE GESTAO E MANUTENCAO DO PODER LEGIS...  4061   \n",
       "3              ATUACAO LEGISLATIVA DO SENADO FEDERAL  4061   \n",
       "4  PROGRAMA DE GESTAO E MANUTENCAO DO PODER LEGIS...  4018   \n",
       "\n",
       "                                           acao_desc        regiao   uf  \\\n",
       "0  PROCESSO LEGISLATIVO, FISCALIZACAO E REPRESENT...  CENTRO-OESTE   DF   \n",
       "1  PROCESSO LEGISLATIVO, FISCALIZACAO E REPRESENT...  CENTRO-OESTE   DF   \n",
       "2  PROCESSO LEGISLATIVO, FISCALIZACAO E REPRESENT...  CENTRO-OESTE   DF   \n",
       "3  PROCESSO LEGISLATIVO, FISCALIZACAO E REPRESENT...  CENTRO-OESTE   DF   \n",
       "4  FISCALIZACAO DA APLICACAO DOS RECURSOS PUBLICO...      NACIONAL  '-8   \n",
       "\n",
       "            uf_desc       municipio movimento_liquido_reais  \n",
       "0  DISTRITO FEDERAL        BRASILIA           2.870.698,85   \n",
       "1  DISTRITO FEDERAL        BRASILIA              95.640,79   \n",
       "2  DISTRITO FEDERAL        BRASILIA           1.552.301,37   \n",
       "3  DISTRITO FEDERAL        BRASILIA             259.809,35   \n",
       "4    SEM INFORMACAO  SEM INFORMACAO           3.381.823,38   \n",
       "\n",
       "[5 rows x 27 columns]"
      ]
     },
     "execution_count": 6,
     "metadata": {},
     "output_type": "execute_result"
    }
   ],
   "source": [
    "df = pd.read_csv('data_entrega/data_raw/investimentos/Investimentos_publicos_2023.csv', encoding = 'latin1', delimiter = ';')\n",
    "df.head()"
   ]
  },
  {
   "cell_type": "code",
   "execution_count": 7,
   "id": "ca31a4fa5d59cf92",
   "metadata": {
    "ExecuteTime": {
     "end_time": "2024-11-02T20:01:33.052329Z",
     "start_time": "2024-11-02T20:01:32.980393Z"
    },
    "collapsed": false,
    "jupyter": {
     "outputs_hidden": false
    }
   },
   "outputs": [
    {
     "data": {
      "text/plain": [
       "0"
      ]
     },
     "execution_count": 7,
     "metadata": {},
     "output_type": "execute_result"
    }
   ],
   "source": [
    "# Verificação de valores faltantes\n",
    "df.isna().sum().sum()"
   ]
  },
  {
   "cell_type": "code",
   "execution_count": 8,
   "id": "95ea516aa0f8782b",
   "metadata": {
    "ExecuteTime": {
     "end_time": "2024-11-02T20:01:33.815027Z",
     "start_time": "2024-11-02T20:01:33.665175Z"
    },
    "collapsed": false,
    "jupyter": {
     "outputs_hidden": false
    }
   },
   "outputs": [
    {
     "data": {
      "text/html": [
       "<div>\n",
       "<style scoped>\n",
       "    .dataframe tbody tr th:only-of-type {\n",
       "        vertical-align: middle;\n",
       "    }\n",
       "\n",
       "    .dataframe tbody tr th {\n",
       "        vertical-align: top;\n",
       "    }\n",
       "\n",
       "    .dataframe thead th {\n",
       "        text-align: right;\n",
       "    }\n",
       "</style>\n",
       "<table border=\"1\" class=\"dataframe\">\n",
       "  <thead>\n",
       "    <tr style=\"text-align: right;\">\n",
       "      <th></th>\n",
       "      <th>ano</th>\n",
       "      <th>mes</th>\n",
       "      <th>esfera_orcamentaria_desc</th>\n",
       "      <th>orgao_maximo_desc</th>\n",
       "      <th>uo_desc</th>\n",
       "      <th>grupo_despesa_desc</th>\n",
       "      <th>aplicacao_desc</th>\n",
       "      <th>resultado_desc</th>\n",
       "      <th>funcao_desc</th>\n",
       "      <th>subfuncao_desc</th>\n",
       "      <th>programa_desc</th>\n",
       "      <th>acao_desc</th>\n",
       "      <th>regiao</th>\n",
       "      <th>SG_UF</th>\n",
       "      <th>uf_desc</th>\n",
       "      <th>NM_MUN</th>\n",
       "      <th>movimento_liquido_reais</th>\n",
       "      <th>CD_MUN</th>\n",
       "      <th>Tipo_resultado</th>\n",
       "      <th>mes_num</th>\n",
       "    </tr>\n",
       "  </thead>\n",
       "  <tbody>\n",
       "    <tr>\n",
       "      <th>0</th>\n",
       "      <td>2023</td>\n",
       "      <td>JANEIRO</td>\n",
       "      <td>ORCAMENTO FISCAL</td>\n",
       "      <td>CAMARA DOS DEPUTADOS</td>\n",
       "      <td>CAMARA DOS DEPUTADOS</td>\n",
       "      <td>INVESTIMENTOS</td>\n",
       "      <td>APLICACOES DIRETAS</td>\n",
       "      <td>PRIMARIO DISCRICIONARIO</td>\n",
       "      <td>LEGISLATIVA</td>\n",
       "      <td>ACAO LEGISLATIVA</td>\n",
       "      <td>PROGRAMA DE GESTAO E MANUTENCAO DO PODER LEGIS...</td>\n",
       "      <td>PROCESSO LEGISLATIVO, FISCALIZACAO E REPRESENT...</td>\n",
       "      <td>CENTRO-OESTE</td>\n",
       "      <td>DF</td>\n",
       "      <td>DISTRITO FEDERAL</td>\n",
       "      <td>BRASILIA</td>\n",
       "      <td>287069885.0</td>\n",
       "      <td>5300108.0</td>\n",
       "      <td>Primario</td>\n",
       "      <td>1</td>\n",
       "    </tr>\n",
       "    <tr>\n",
       "      <th>1</th>\n",
       "      <td>2023</td>\n",
       "      <td>JANEIRO</td>\n",
       "      <td>ORCAMENTO FISCAL</td>\n",
       "      <td>CAMARA DOS DEPUTADOS</td>\n",
       "      <td>FUNDO ROTATIVO DA CAMARA DOS DEPUTADOS</td>\n",
       "      <td>INVESTIMENTOS</td>\n",
       "      <td>APLICACOES DIRETAS</td>\n",
       "      <td>PRIMARIO DISCRICIONARIO</td>\n",
       "      <td>LEGISLATIVA</td>\n",
       "      <td>ACAO LEGISLATIVA</td>\n",
       "      <td>PROGRAMA DE GESTAO E MANUTENCAO DO PODER LEGIS...</td>\n",
       "      <td>PROCESSO LEGISLATIVO, FISCALIZACAO E REPRESENT...</td>\n",
       "      <td>CENTRO-OESTE</td>\n",
       "      <td>DF</td>\n",
       "      <td>DISTRITO FEDERAL</td>\n",
       "      <td>BRASILIA</td>\n",
       "      <td>9564079.0</td>\n",
       "      <td>5300108.0</td>\n",
       "      <td>Primario</td>\n",
       "      <td>1</td>\n",
       "    </tr>\n",
       "    <tr>\n",
       "      <th>2</th>\n",
       "      <td>2023</td>\n",
       "      <td>JANEIRO</td>\n",
       "      <td>ORCAMENTO FISCAL</td>\n",
       "      <td>SENADO FEDERAL</td>\n",
       "      <td>SENADO FEDERAL</td>\n",
       "      <td>INVESTIMENTOS</td>\n",
       "      <td>APLICACOES DIRETAS</td>\n",
       "      <td>PRIMARIO DISCRICIONARIO</td>\n",
       "      <td>LEGISLATIVA</td>\n",
       "      <td>ACAO LEGISLATIVA</td>\n",
       "      <td>PROGRAMA DE GESTAO E MANUTENCAO DO PODER LEGIS...</td>\n",
       "      <td>PROCESSO LEGISLATIVO, FISCALIZACAO E REPRESENT...</td>\n",
       "      <td>CENTRO-OESTE</td>\n",
       "      <td>DF</td>\n",
       "      <td>DISTRITO FEDERAL</td>\n",
       "      <td>BRASILIA</td>\n",
       "      <td>155230137.0</td>\n",
       "      <td>5300108.0</td>\n",
       "      <td>Primario</td>\n",
       "      <td>1</td>\n",
       "    </tr>\n",
       "    <tr>\n",
       "      <th>3</th>\n",
       "      <td>2023</td>\n",
       "      <td>JANEIRO</td>\n",
       "      <td>ORCAMENTO FISCAL</td>\n",
       "      <td>SENADO FEDERAL</td>\n",
       "      <td>SENADO FEDERAL</td>\n",
       "      <td>INVESTIMENTOS</td>\n",
       "      <td>APLICACOES DIRETAS</td>\n",
       "      <td>PRIMARIO DISCRICIONARIO</td>\n",
       "      <td>LEGISLATIVA</td>\n",
       "      <td>ACAO LEGISLATIVA</td>\n",
       "      <td>ATUACAO LEGISLATIVA DO SENADO FEDERAL</td>\n",
       "      <td>PROCESSO LEGISLATIVO, FISCALIZACAO E REPRESENT...</td>\n",
       "      <td>CENTRO-OESTE</td>\n",
       "      <td>DF</td>\n",
       "      <td>DISTRITO FEDERAL</td>\n",
       "      <td>BRASILIA</td>\n",
       "      <td>25980935.0</td>\n",
       "      <td>5300108.0</td>\n",
       "      <td>Primario</td>\n",
       "      <td>1</td>\n",
       "    </tr>\n",
       "    <tr>\n",
       "      <th>4</th>\n",
       "      <td>2023</td>\n",
       "      <td>JANEIRO</td>\n",
       "      <td>ORCAMENTO FISCAL</td>\n",
       "      <td>TRIBUNAL DE CONTAS DA UNIAO</td>\n",
       "      <td>TRIBUNAL DE CONTAS DA UNIAO</td>\n",
       "      <td>INVESTIMENTOS</td>\n",
       "      <td>APLICACOES DIRETAS</td>\n",
       "      <td>PRIMARIO DISCRICIONARIO</td>\n",
       "      <td>LEGISLATIVA</td>\n",
       "      <td>CONTROLE EXTERNO</td>\n",
       "      <td>PROGRAMA DE GESTAO E MANUTENCAO DO PODER LEGIS...</td>\n",
       "      <td>FISCALIZACAO DA APLICACAO DOS RECURSOS PUBLICO...</td>\n",
       "      <td>NACIONAL</td>\n",
       "      <td>'-8</td>\n",
       "      <td>SEM INFORMACAO</td>\n",
       "      <td>SEM INFORMACAO</td>\n",
       "      <td>338182338.0</td>\n",
       "      <td>NaN</td>\n",
       "      <td>Primario</td>\n",
       "      <td>1</td>\n",
       "    </tr>\n",
       "  </tbody>\n",
       "</table>\n",
       "</div>"
      ],
      "text/plain": [
       "    ano      mes esfera_orcamentaria_desc            orgao_maximo_desc  \\\n",
       "0  2023  JANEIRO         ORCAMENTO FISCAL         CAMARA DOS DEPUTADOS   \n",
       "1  2023  JANEIRO         ORCAMENTO FISCAL         CAMARA DOS DEPUTADOS   \n",
       "2  2023  JANEIRO         ORCAMENTO FISCAL               SENADO FEDERAL   \n",
       "3  2023  JANEIRO         ORCAMENTO FISCAL               SENADO FEDERAL   \n",
       "4  2023  JANEIRO         ORCAMENTO FISCAL  TRIBUNAL DE CONTAS DA UNIAO   \n",
       "\n",
       "                                  uo_desc grupo_despesa_desc  \\\n",
       "0                    CAMARA DOS DEPUTADOS      INVESTIMENTOS   \n",
       "1  FUNDO ROTATIVO DA CAMARA DOS DEPUTADOS      INVESTIMENTOS   \n",
       "2                          SENADO FEDERAL      INVESTIMENTOS   \n",
       "3                          SENADO FEDERAL      INVESTIMENTOS   \n",
       "4             TRIBUNAL DE CONTAS DA UNIAO      INVESTIMENTOS   \n",
       "\n",
       "       aplicacao_desc           resultado_desc  funcao_desc    subfuncao_desc  \\\n",
       "0  APLICACOES DIRETAS  PRIMARIO DISCRICIONARIO  LEGISLATIVA  ACAO LEGISLATIVA   \n",
       "1  APLICACOES DIRETAS  PRIMARIO DISCRICIONARIO  LEGISLATIVA  ACAO LEGISLATIVA   \n",
       "2  APLICACOES DIRETAS  PRIMARIO DISCRICIONARIO  LEGISLATIVA  ACAO LEGISLATIVA   \n",
       "3  APLICACOES DIRETAS  PRIMARIO DISCRICIONARIO  LEGISLATIVA  ACAO LEGISLATIVA   \n",
       "4  APLICACOES DIRETAS  PRIMARIO DISCRICIONARIO  LEGISLATIVA  CONTROLE EXTERNO   \n",
       "\n",
       "                                       programa_desc  \\\n",
       "0  PROGRAMA DE GESTAO E MANUTENCAO DO PODER LEGIS...   \n",
       "1  PROGRAMA DE GESTAO E MANUTENCAO DO PODER LEGIS...   \n",
       "2  PROGRAMA DE GESTAO E MANUTENCAO DO PODER LEGIS...   \n",
       "3              ATUACAO LEGISLATIVA DO SENADO FEDERAL   \n",
       "4  PROGRAMA DE GESTAO E MANUTENCAO DO PODER LEGIS...   \n",
       "\n",
       "                                           acao_desc        regiao SG_UF  \\\n",
       "0  PROCESSO LEGISLATIVO, FISCALIZACAO E REPRESENT...  CENTRO-OESTE    DF   \n",
       "1  PROCESSO LEGISLATIVO, FISCALIZACAO E REPRESENT...  CENTRO-OESTE    DF   \n",
       "2  PROCESSO LEGISLATIVO, FISCALIZACAO E REPRESENT...  CENTRO-OESTE    DF   \n",
       "3  PROCESSO LEGISLATIVO, FISCALIZACAO E REPRESENT...  CENTRO-OESTE    DF   \n",
       "4  FISCALIZACAO DA APLICACAO DOS RECURSOS PUBLICO...      NACIONAL   '-8   \n",
       "\n",
       "            uf_desc          NM_MUN  movimento_liquido_reais     CD_MUN  \\\n",
       "0  DISTRITO FEDERAL        BRASILIA              287069885.0  5300108.0   \n",
       "1  DISTRITO FEDERAL        BRASILIA                9564079.0  5300108.0   \n",
       "2  DISTRITO FEDERAL        BRASILIA              155230137.0  5300108.0   \n",
       "3  DISTRITO FEDERAL        BRASILIA               25980935.0  5300108.0   \n",
       "4    SEM INFORMACAO  SEM INFORMACAO              338182338.0        NaN   \n",
       "\n",
       "  Tipo_resultado  mes_num  \n",
       "0       Primario        1  \n",
       "1       Primario        1  \n",
       "2       Primario        1  \n",
       "3       Primario        1  \n",
       "4       Primario        1  "
      ]
     },
     "execution_count": 8,
     "metadata": {},
     "output_type": "execute_result"
    }
   ],
   "source": [
    "# Filtragem de features (removidos ano e códigos)\n",
    "df = df[df.columns[~df.columns.isin(['esfera_orcamentaria', 'orgao_maximo', 'uo',\n",
    "                                     'grupo_despesa', 'aplicacao', 'resultado', 'funcao',\n",
    "                                     'subfuncao', 'programa', 'acao', ])]].copy()\n",
    "\n",
    "# Conversão de tipo\n",
    "# Replace characters using regex and convert to float\n",
    "df['movimento_liquido_reais'] = df['movimento_liquido_reais'].str.replace(r'[.,()]', '', regex = True).str.replace(',',\n",
    "                                                                                                                   '.').astype(\n",
    "    float)\n",
    "\n",
    "df['regiao'] = df['regiao'].replace('\"', '')\n",
    "\n",
    "# Padronização nome colunas\n",
    "df.rename(columns = {\n",
    "    'municipio': 'NM_MUN',\n",
    "    'uf': 'SG_UF'},\n",
    "    inplace = True)\n",
    "\n",
    "# Inclusão do código de cidades (padrão IBGE)\n",
    "df = pd.merge(df, df_maturidade[['NM_MUN', 'SG_UF', 'CD_MUN']], how = 'left',\n",
    "              on = ['NM_MUN', 'SG_UF'])\n",
    "\n",
    "## Criando categorias 'Primario' e 'Despesa' para descrever o tipo de orçamento\n",
    "df.loc[:, 'Tipo_resultado'] = df['resultado_desc'].apply(lambda x: 'Primario' if 'PRIM' in x else 'Despesa')\n",
    "\n",
    "## Mapeamento de meses para valores ordinais\n",
    "mes_to_num = {\n",
    "    'JANEIRO': 1, 'FEVEREIRO': 2, 'MARCO': 3, 'ABRIL': 4, 'MAIO': 5, 'JUNHO': 6,\n",
    "    'JULHO': 7, 'AGOSTO': 8, 'SETEMBRO': 9, 'OUTUBRO': 10, 'NOVEMBRO': 11, 'DEZEMBRO': 12\n",
    "    }\n",
    "\n",
    "df['mes_num'] = df['mes'].map(mes_to_num)\n",
    "\n",
    "df.head()"
   ]
  },
  {
   "cell_type": "markdown",
   "id": "bc054da068a0bbfd",
   "metadata": {
    "collapsed": false,
    "jupyter": {
     "outputs_hidden": false
    }
   },
   "source": [
    "## Exploração das variáveis categóricas\n",
    "\n",
    "As definições dos termos técnicos são obtidos no site do Congresso Federal. Em primeiro momento é feito o delineamento de escopo, selecionando alguns dos casos para análise. Posteriormente outras dimensões dos dados estudados poderão ser incorporadas.\n",
    "\n",
    "**fonte:** https://www.congressonacional.leg.br/legislacao-e-publicacoes/glossario-orcamentario/"
   ]
  },
  {
   "cell_type": "markdown",
   "id": "5e9c6d2b1da35bb0",
   "metadata": {
    "collapsed": false,
    "jupyter": {
     "outputs_hidden": false
    }
   },
   "source": [
    "## Definição de escopo através das proporções das categorias"
   ]
  },
  {
   "cell_type": "code",
   "execution_count": 9,
   "id": "928be822c20d2d3",
   "metadata": {
    "ExecuteTime": {
     "end_time": "2024-11-02T20:01:35.594317Z",
     "start_time": "2024-11-02T20:01:35.570547Z"
    },
    "collapsed": false,
    "jupyter": {
     "outputs_hidden": false
    }
   },
   "outputs": [
    {
     "data": {
      "text/html": [
       "<div>\n",
       "<style scoped>\n",
       "    .dataframe tbody tr th:only-of-type {\n",
       "        vertical-align: middle;\n",
       "    }\n",
       "\n",
       "    .dataframe tbody tr th {\n",
       "        vertical-align: top;\n",
       "    }\n",
       "\n",
       "    .dataframe thead th {\n",
       "        text-align: right;\n",
       "    }\n",
       "</style>\n",
       "<table border=\"1\" class=\"dataframe\">\n",
       "  <thead>\n",
       "    <tr style=\"text-align: right;\">\n",
       "      <th></th>\n",
       "      <th>Feature's unique values</th>\n",
       "      <th>Ratio (%)</th>\n",
       "    </tr>\n",
       "  </thead>\n",
       "  <tbody>\n",
       "    <tr>\n",
       "      <th>0</th>\n",
       "      <td>ORCAMENTO DE SEGURIDADE SOCIAL</td>\n",
       "      <td>15.55</td>\n",
       "    </tr>\n",
       "    <tr>\n",
       "      <th>1</th>\n",
       "      <td>ORCAMENTO FISCAL</td>\n",
       "      <td>84.45</td>\n",
       "    </tr>\n",
       "  </tbody>\n",
       "</table>\n",
       "</div>"
      ],
      "text/plain": [
       "          Feature's unique values  Ratio (%)\n",
       "0  ORCAMENTO DE SEGURIDADE SOCIAL      15.55\n",
       "1                ORCAMENTO FISCAL      84.45"
      ]
     },
     "execution_count": 9,
     "metadata": {},
     "output_type": "execute_result"
    }
   ],
   "source": [
    "# Tipo de orçamento\n",
    "## Decisão de projeto: focar inicialmente no Orçamento fiscal - isso permitirá verificar se o nível de investimento em orgãos públicos terá relação direta com o nível de maturidade do município.\n",
    "\n",
    "'''\n",
    "Orçamento fiscal: Parcela do orçamento que compreende as dotações referentes aos Poderes da União, seus fundos, órgãos e entidades da administração direta e indireta, inclusive fundações instituídas e mantidas pelo Poder Público, excluindo-se as dotações destinadas à seguridade social e as relativas aos investimentos das estatais não dependentes.\n",
    "\n",
    "Orçamento da Seguridade Social: Parcela do orçamento que abrange todas as dotações referentes às ações de saúde, previdência e assistência social das entidades e órgãos da administração direta ou indireta, bem como os fundos e fundações instituídos e mantidos pelo Poder Público.\n",
    "'''\n",
    "\n",
    "get_ratios(df, 'esfera_orcamentaria_desc')"
   ]
  },
  {
   "cell_type": "code",
   "execution_count": 10,
   "id": "22d47e79ad6b3aae",
   "metadata": {
    "ExecuteTime": {
     "end_time": "2024-11-02T20:01:36.616794Z",
     "start_time": "2024-11-02T20:01:36.600779Z"
    },
    "collapsed": false,
    "jupyter": {
     "outputs_hidden": false
    }
   },
   "outputs": [
    {
     "data": {
      "text/html": [
       "<div>\n",
       "<style scoped>\n",
       "    .dataframe tbody tr th:only-of-type {\n",
       "        vertical-align: middle;\n",
       "    }\n",
       "\n",
       "    .dataframe tbody tr th {\n",
       "        vertical-align: top;\n",
       "    }\n",
       "\n",
       "    .dataframe thead th {\n",
       "        text-align: right;\n",
       "    }\n",
       "</style>\n",
       "<table border=\"1\" class=\"dataframe\">\n",
       "  <thead>\n",
       "    <tr style=\"text-align: right;\">\n",
       "      <th></th>\n",
       "      <th>Feature's unique values</th>\n",
       "      <th>Ratio (%)</th>\n",
       "    </tr>\n",
       "  </thead>\n",
       "  <tbody>\n",
       "    <tr>\n",
       "      <th>0</th>\n",
       "      <td>INVERSOES FINANCEIRAS</td>\n",
       "      <td>0.37</td>\n",
       "    </tr>\n",
       "    <tr>\n",
       "      <th>1</th>\n",
       "      <td>INVESTIMENTOS</td>\n",
       "      <td>99.63</td>\n",
       "    </tr>\n",
       "  </tbody>\n",
       "</table>\n",
       "</div>"
      ],
      "text/plain": [
       "  Feature's unique values  Ratio (%)\n",
       "0   INVERSOES FINANCEIRAS       0.37\n",
       "1           INVESTIMENTOS      99.63"
      ]
     },
     "execution_count": 10,
     "metadata": {},
     "output_type": "execute_result"
    }
   ],
   "source": [
    "# Grupo Despesa\n",
    "## Decisão de projeto: focar inicialmente em Investimentos - devido à natureza da destinação de recursos (softwares, obras, instalações, equipamentos, etc).\n",
    "\n",
    "get_ratios(df, 'grupo_despesa_desc')"
   ]
  },
  {
   "cell_type": "code",
   "execution_count": 11,
   "id": "5f717ac2ae2a1529",
   "metadata": {
    "ExecuteTime": {
     "end_time": "2024-11-02T20:01:37.033026Z",
     "start_time": "2024-11-02T20:01:37.000146Z"
    },
    "collapsed": false,
    "jupyter": {
     "outputs_hidden": false
    }
   },
   "outputs": [
    {
     "data": {
      "text/html": [
       "<div>\n",
       "<style scoped>\n",
       "    .dataframe tbody tr th:only-of-type {\n",
       "        vertical-align: middle;\n",
       "    }\n",
       "\n",
       "    .dataframe tbody tr th {\n",
       "        vertical-align: top;\n",
       "    }\n",
       "\n",
       "    .dataframe thead th {\n",
       "        text-align: right;\n",
       "    }\n",
       "</style>\n",
       "<table border=\"1\" class=\"dataframe\">\n",
       "  <thead>\n",
       "    <tr style=\"text-align: right;\">\n",
       "      <th></th>\n",
       "      <th>Feature's unique values</th>\n",
       "      <th>Ratio (%)</th>\n",
       "    </tr>\n",
       "  </thead>\n",
       "  <tbody>\n",
       "    <tr>\n",
       "      <th>0</th>\n",
       "      <td>DESP.DISC.DECORRENTE DE EMENDA DIR.GERAL PLOA,...</td>\n",
       "      <td>2.23</td>\n",
       "    </tr>\n",
       "    <tr>\n",
       "      <th>1</th>\n",
       "      <td>DESP.DISC.DECORRENTE DE EMENDA SF,CD E COMISSA...</td>\n",
       "      <td>0.62</td>\n",
       "    </tr>\n",
       "    <tr>\n",
       "      <th>2</th>\n",
       "      <td>DESPESA DISCRICIONARIA DECORRENTE DE EMENDA DE...</td>\n",
       "      <td>7.87</td>\n",
       "    </tr>\n",
       "    <tr>\n",
       "      <th>3</th>\n",
       "      <td>DESPESA DISCRICIONARIA DECORRENTE DE EMENDA IN...</td>\n",
       "      <td>47.69</td>\n",
       "    </tr>\n",
       "    <tr>\n",
       "      <th>4</th>\n",
       "      <td>PRIMARIO DISCRICIONARIO</td>\n",
       "      <td>36.97</td>\n",
       "    </tr>\n",
       "    <tr>\n",
       "      <th>5</th>\n",
       "      <td>PRIMARIO OBRIGATORIO</td>\n",
       "      <td>1.10</td>\n",
       "    </tr>\n",
       "    <tr>\n",
       "      <th>6</th>\n",
       "      <td>PRIMARIO SEM IMPACTO FISCAL</td>\n",
       "      <td>3.53</td>\n",
       "    </tr>\n",
       "  </tbody>\n",
       "</table>\n",
       "</div>"
      ],
      "text/plain": [
       "                             Feature's unique values  Ratio (%)\n",
       "0  DESP.DISC.DECORRENTE DE EMENDA DIR.GERAL PLOA,...       2.23\n",
       "1  DESP.DISC.DECORRENTE DE EMENDA SF,CD E COMISSA...       0.62\n",
       "2  DESPESA DISCRICIONARIA DECORRENTE DE EMENDA DE...       7.87\n",
       "3  DESPESA DISCRICIONARIA DECORRENTE DE EMENDA IN...      47.69\n",
       "4                            PRIMARIO DISCRICIONARIO      36.97\n",
       "5                               PRIMARIO OBRIGATORIO       1.10\n",
       "6                        PRIMARIO SEM IMPACTO FISCAL       3.53"
      ]
     },
     "metadata": {},
     "output_type": "display_data"
    },
    {
     "data": {
      "text/html": [
       "<div>\n",
       "<style scoped>\n",
       "    .dataframe tbody tr th:only-of-type {\n",
       "        vertical-align: middle;\n",
       "    }\n",
       "\n",
       "    .dataframe tbody tr th {\n",
       "        vertical-align: top;\n",
       "    }\n",
       "\n",
       "    .dataframe thead th {\n",
       "        text-align: right;\n",
       "    }\n",
       "</style>\n",
       "<table border=\"1\" class=\"dataframe\">\n",
       "  <thead>\n",
       "    <tr style=\"text-align: right;\">\n",
       "      <th></th>\n",
       "      <th>Feature's unique values</th>\n",
       "      <th>Ratio (%)</th>\n",
       "    </tr>\n",
       "  </thead>\n",
       "  <tbody>\n",
       "    <tr>\n",
       "      <th>0</th>\n",
       "      <td>Despesa</td>\n",
       "      <td>58.4</td>\n",
       "    </tr>\n",
       "    <tr>\n",
       "      <th>1</th>\n",
       "      <td>Primario</td>\n",
       "      <td>41.6</td>\n",
       "    </tr>\n",
       "  </tbody>\n",
       "</table>\n",
       "</div>"
      ],
      "text/plain": [
       "  Feature's unique values  Ratio (%)\n",
       "0                 Despesa       58.4\n",
       "1                Primario       41.6"
      ]
     },
     "metadata": {},
     "output_type": "display_data"
    },
    {
     "data": {
      "text/html": [
       "<div>\n",
       "<style scoped>\n",
       "    .dataframe tbody tr th:only-of-type {\n",
       "        vertical-align: middle;\n",
       "    }\n",
       "\n",
       "    .dataframe tbody tr th {\n",
       "        vertical-align: top;\n",
       "    }\n",
       "\n",
       "    .dataframe thead th {\n",
       "        text-align: right;\n",
       "    }\n",
       "</style>\n",
       "<table border=\"1\" class=\"dataframe\">\n",
       "  <thead>\n",
       "    <tr style=\"text-align: right;\">\n",
       "      <th></th>\n",
       "      <th>movimento_liquido_reais</th>\n",
       "    </tr>\n",
       "    <tr>\n",
       "      <th>Tipo_resultado</th>\n",
       "      <th></th>\n",
       "    </tr>\n",
       "  </thead>\n",
       "  <tbody>\n",
       "    <tr>\n",
       "      <th>Despesa</th>\n",
       "      <td>1.892439e+12</td>\n",
       "    </tr>\n",
       "    <tr>\n",
       "      <th>Primario</th>\n",
       "      <td>6.254679e+12</td>\n",
       "    </tr>\n",
       "  </tbody>\n",
       "</table>\n",
       "</div>"
      ],
      "text/plain": [
       "                movimento_liquido_reais\n",
       "Tipo_resultado                         \n",
       "Despesa                    1.892439e+12\n",
       "Primario                   6.254679e+12"
      ]
     },
     "execution_count": 11,
     "metadata": {},
     "output_type": "execute_result"
    }
   ],
   "source": [
    "# Resultado primário\n",
    "## Decisão de projeto: focar inicialmente em resultado primário e despesa no geral - um estudo sobre as despesas poderá ser realizado, talvez considerando o tipo de emenda (despesas) e a obrigatoriedade (primário).\n",
    "\n",
    "\n",
    "'''\n",
    "Discricionário: cuja execução está sujeita à avaliação de oportunidade pelo gestor.\n",
    "\n",
    "Resultado Primário: Diferença entre receitas primárias e despesas primárias. Configura-se deficit primário se o resultado for negativo, ou superavit primário, se positivo.\n",
    "'''\n",
    "\n",
    "display(get_ratios(df, 'resultado_desc'))\n",
    "\n",
    "## Apesar de Despesa ser ~60% dos casos e primário ~40%\n",
    "display(get_ratios(df, 'Tipo_resultado'))\n",
    "\n",
    "## Primário tem 3x mais volume que despesas de movimento de recursos\n",
    "df[['Tipo_resultado', 'movimento_liquido_reais']].groupby('Tipo_resultado').sum()"
   ]
  },
  {
   "cell_type": "code",
   "execution_count": 12,
   "id": "96e2726042d0ffc0",
   "metadata": {
    "ExecuteTime": {
     "end_time": "2024-11-02T20:01:37.662481Z",
     "start_time": "2024-11-02T20:01:37.647234Z"
    },
    "collapsed": false,
    "jupyter": {
     "outputs_hidden": false
    }
   },
   "outputs": [
    {
     "data": {
      "text/html": [
       "<div>\n",
       "<style scoped>\n",
       "    .dataframe tbody tr th:only-of-type {\n",
       "        vertical-align: middle;\n",
       "    }\n",
       "\n",
       "    .dataframe tbody tr th {\n",
       "        vertical-align: top;\n",
       "    }\n",
       "\n",
       "    .dataframe thead th {\n",
       "        text-align: right;\n",
       "    }\n",
       "</style>\n",
       "<table border=\"1\" class=\"dataframe\">\n",
       "  <thead>\n",
       "    <tr style=\"text-align: right;\">\n",
       "      <th></th>\n",
       "      <th>Feature's unique values</th>\n",
       "      <th>Ratio (%)</th>\n",
       "    </tr>\n",
       "  </thead>\n",
       "  <tbody>\n",
       "    <tr>\n",
       "      <th>0</th>\n",
       "      <td>CENTRO-OESTE</td>\n",
       "      <td>8.63</td>\n",
       "    </tr>\n",
       "    <tr>\n",
       "      <th>1</th>\n",
       "      <td>EXTERIOR</td>\n",
       "      <td>0.20</td>\n",
       "    </tr>\n",
       "    <tr>\n",
       "      <th>2</th>\n",
       "      <td>NACIONAL</td>\n",
       "      <td>24.91</td>\n",
       "    </tr>\n",
       "    <tr>\n",
       "      <th>3</th>\n",
       "      <td>NORDESTE</td>\n",
       "      <td>24.46</td>\n",
       "    </tr>\n",
       "    <tr>\n",
       "      <th>4</th>\n",
       "      <td>NORTE</td>\n",
       "      <td>13.16</td>\n",
       "    </tr>\n",
       "    <tr>\n",
       "      <th>5</th>\n",
       "      <td>SEM INFORMACAO</td>\n",
       "      <td>0.02</td>\n",
       "    </tr>\n",
       "    <tr>\n",
       "      <th>6</th>\n",
       "      <td>SUDESTE</td>\n",
       "      <td>18.58</td>\n",
       "    </tr>\n",
       "    <tr>\n",
       "      <th>7</th>\n",
       "      <td>SUL</td>\n",
       "      <td>10.03</td>\n",
       "    </tr>\n",
       "  </tbody>\n",
       "</table>\n",
       "</div>"
      ],
      "text/plain": [
       "  Feature's unique values  Ratio (%)\n",
       "0            CENTRO-OESTE       8.63\n",
       "1                EXTERIOR       0.20\n",
       "2                NACIONAL      24.91\n",
       "3                NORDESTE      24.46\n",
       "4                   NORTE      13.16\n",
       "5          SEM INFORMACAO       0.02\n",
       "6                 SUDESTE      18.58\n",
       "7                     SUL      10.03"
      ]
     },
     "execution_count": 12,
     "metadata": {},
     "output_type": "execute_result"
    }
   ],
   "source": [
    "# Região de aplicação\n",
    "## Decisão de projeto: Não contemplar investimentos que sejam no exterior, sem informação ou a nível nacional. Uma vez que a granularidade dos indicadores de maturidade é a nível municipal, a mesma granulariadade será adotada em primeiro momento.\n",
    "\n",
    "get_ratios(df, 'regiao')"
   ]
  },
  {
   "cell_type": "code",
   "execution_count": 13,
   "id": "bb5482d63c6beff1",
   "metadata": {
    "ExecuteTime": {
     "end_time": "2024-11-02T20:01:41.571677Z",
     "start_time": "2024-11-02T20:01:41.537222Z"
    },
    "collapsed": false,
    "jupyter": {
     "outputs_hidden": false
    }
   },
   "outputs": [
    {
     "data": {
      "text/html": [
       "<div>\n",
       "<style scoped>\n",
       "    .dataframe tbody tr th:only-of-type {\n",
       "        vertical-align: middle;\n",
       "    }\n",
       "\n",
       "    .dataframe tbody tr th {\n",
       "        vertical-align: top;\n",
       "    }\n",
       "\n",
       "    .dataframe thead th {\n",
       "        text-align: right;\n",
       "    }\n",
       "</style>\n",
       "<table border=\"1\" class=\"dataframe\">\n",
       "  <thead>\n",
       "    <tr style=\"text-align: right;\">\n",
       "      <th></th>\n",
       "      <th>ano</th>\n",
       "      <th>mes</th>\n",
       "      <th>esfera_orcamentaria_desc</th>\n",
       "      <th>orgao_maximo_desc</th>\n",
       "      <th>uo_desc</th>\n",
       "      <th>grupo_despesa_desc</th>\n",
       "      <th>aplicacao_desc</th>\n",
       "      <th>resultado_desc</th>\n",
       "      <th>funcao_desc</th>\n",
       "      <th>subfuncao_desc</th>\n",
       "      <th>programa_desc</th>\n",
       "      <th>acao_desc</th>\n",
       "      <th>regiao</th>\n",
       "      <th>SG_UF</th>\n",
       "      <th>uf_desc</th>\n",
       "      <th>NM_MUN</th>\n",
       "      <th>movimento_liquido_reais</th>\n",
       "      <th>CD_MUN</th>\n",
       "      <th>Tipo_resultado</th>\n",
       "      <th>mes_num</th>\n",
       "    </tr>\n",
       "  </thead>\n",
       "  <tbody>\n",
       "    <tr>\n",
       "      <th>0</th>\n",
       "      <td>2023</td>\n",
       "      <td>JANEIRO</td>\n",
       "      <td>ORCAMENTO FISCAL</td>\n",
       "      <td>CAMARA DOS DEPUTADOS</td>\n",
       "      <td>CAMARA DOS DEPUTADOS</td>\n",
       "      <td>INVESTIMENTOS</td>\n",
       "      <td>APLICACOES DIRETAS</td>\n",
       "      <td>PRIMARIO DISCRICIONARIO</td>\n",
       "      <td>LEGISLATIVA</td>\n",
       "      <td>ACAO LEGISLATIVA</td>\n",
       "      <td>PROGRAMA DE GESTAO E MANUTENCAO DO PODER LEGIS...</td>\n",
       "      <td>PROCESSO LEGISLATIVO, FISCALIZACAO E REPRESENT...</td>\n",
       "      <td>CENTRO-OESTE</td>\n",
       "      <td>DF</td>\n",
       "      <td>DISTRITO FEDERAL</td>\n",
       "      <td>BRASILIA</td>\n",
       "      <td>287069885.0</td>\n",
       "      <td>5300108.0</td>\n",
       "      <td>Primario</td>\n",
       "      <td>1</td>\n",
       "    </tr>\n",
       "    <tr>\n",
       "      <th>1</th>\n",
       "      <td>2023</td>\n",
       "      <td>JANEIRO</td>\n",
       "      <td>ORCAMENTO FISCAL</td>\n",
       "      <td>CAMARA DOS DEPUTADOS</td>\n",
       "      <td>FUNDO ROTATIVO DA CAMARA DOS DEPUTADOS</td>\n",
       "      <td>INVESTIMENTOS</td>\n",
       "      <td>APLICACOES DIRETAS</td>\n",
       "      <td>PRIMARIO DISCRICIONARIO</td>\n",
       "      <td>LEGISLATIVA</td>\n",
       "      <td>ACAO LEGISLATIVA</td>\n",
       "      <td>PROGRAMA DE GESTAO E MANUTENCAO DO PODER LEGIS...</td>\n",
       "      <td>PROCESSO LEGISLATIVO, FISCALIZACAO E REPRESENT...</td>\n",
       "      <td>CENTRO-OESTE</td>\n",
       "      <td>DF</td>\n",
       "      <td>DISTRITO FEDERAL</td>\n",
       "      <td>BRASILIA</td>\n",
       "      <td>9564079.0</td>\n",
       "      <td>5300108.0</td>\n",
       "      <td>Primario</td>\n",
       "      <td>1</td>\n",
       "    </tr>\n",
       "    <tr>\n",
       "      <th>2</th>\n",
       "      <td>2023</td>\n",
       "      <td>JANEIRO</td>\n",
       "      <td>ORCAMENTO FISCAL</td>\n",
       "      <td>SENADO FEDERAL</td>\n",
       "      <td>SENADO FEDERAL</td>\n",
       "      <td>INVESTIMENTOS</td>\n",
       "      <td>APLICACOES DIRETAS</td>\n",
       "      <td>PRIMARIO DISCRICIONARIO</td>\n",
       "      <td>LEGISLATIVA</td>\n",
       "      <td>ACAO LEGISLATIVA</td>\n",
       "      <td>PROGRAMA DE GESTAO E MANUTENCAO DO PODER LEGIS...</td>\n",
       "      <td>PROCESSO LEGISLATIVO, FISCALIZACAO E REPRESENT...</td>\n",
       "      <td>CENTRO-OESTE</td>\n",
       "      <td>DF</td>\n",
       "      <td>DISTRITO FEDERAL</td>\n",
       "      <td>BRASILIA</td>\n",
       "      <td>155230137.0</td>\n",
       "      <td>5300108.0</td>\n",
       "      <td>Primario</td>\n",
       "      <td>1</td>\n",
       "    </tr>\n",
       "    <tr>\n",
       "      <th>3</th>\n",
       "      <td>2023</td>\n",
       "      <td>JANEIRO</td>\n",
       "      <td>ORCAMENTO FISCAL</td>\n",
       "      <td>SENADO FEDERAL</td>\n",
       "      <td>SENADO FEDERAL</td>\n",
       "      <td>INVESTIMENTOS</td>\n",
       "      <td>APLICACOES DIRETAS</td>\n",
       "      <td>PRIMARIO DISCRICIONARIO</td>\n",
       "      <td>LEGISLATIVA</td>\n",
       "      <td>ACAO LEGISLATIVA</td>\n",
       "      <td>ATUACAO LEGISLATIVA DO SENADO FEDERAL</td>\n",
       "      <td>PROCESSO LEGISLATIVO, FISCALIZACAO E REPRESENT...</td>\n",
       "      <td>CENTRO-OESTE</td>\n",
       "      <td>DF</td>\n",
       "      <td>DISTRITO FEDERAL</td>\n",
       "      <td>BRASILIA</td>\n",
       "      <td>25980935.0</td>\n",
       "      <td>5300108.0</td>\n",
       "      <td>Primario</td>\n",
       "      <td>1</td>\n",
       "    </tr>\n",
       "    <tr>\n",
       "      <th>5</th>\n",
       "      <td>2023</td>\n",
       "      <td>JANEIRO</td>\n",
       "      <td>ORCAMENTO FISCAL</td>\n",
       "      <td>SUPREMO TRIBUNAL FEDERAL</td>\n",
       "      <td>SUPREMO TRIBUNAL FEDERAL</td>\n",
       "      <td>INVESTIMENTOS</td>\n",
       "      <td>APLICACOES DIRETAS</td>\n",
       "      <td>PRIMARIO DISCRICIONARIO</td>\n",
       "      <td>JUDICIARIA</td>\n",
       "      <td>ACAO JUDICIARIA</td>\n",
       "      <td>PROGRAMA DE GESTAO E MANUTENCAO DO PODER JUDIC...</td>\n",
       "      <td>APRECIACAO E JULGAMENTO DE CAUSAS NO SUPREMO T...</td>\n",
       "      <td>CENTRO-OESTE</td>\n",
       "      <td>DF</td>\n",
       "      <td>DISTRITO FEDERAL</td>\n",
       "      <td>BRASILIA</td>\n",
       "      <td>10415503.0</td>\n",
       "      <td>5300108.0</td>\n",
       "      <td>Primario</td>\n",
       "      <td>1</td>\n",
       "    </tr>\n",
       "  </tbody>\n",
       "</table>\n",
       "</div>"
      ],
      "text/plain": [
       "    ano      mes esfera_orcamentaria_desc         orgao_maximo_desc  \\\n",
       "0  2023  JANEIRO         ORCAMENTO FISCAL      CAMARA DOS DEPUTADOS   \n",
       "1  2023  JANEIRO         ORCAMENTO FISCAL      CAMARA DOS DEPUTADOS   \n",
       "2  2023  JANEIRO         ORCAMENTO FISCAL            SENADO FEDERAL   \n",
       "3  2023  JANEIRO         ORCAMENTO FISCAL            SENADO FEDERAL   \n",
       "5  2023  JANEIRO         ORCAMENTO FISCAL  SUPREMO TRIBUNAL FEDERAL   \n",
       "\n",
       "                                  uo_desc grupo_despesa_desc  \\\n",
       "0                    CAMARA DOS DEPUTADOS      INVESTIMENTOS   \n",
       "1  FUNDO ROTATIVO DA CAMARA DOS DEPUTADOS      INVESTIMENTOS   \n",
       "2                          SENADO FEDERAL      INVESTIMENTOS   \n",
       "3                          SENADO FEDERAL      INVESTIMENTOS   \n",
       "5                SUPREMO TRIBUNAL FEDERAL      INVESTIMENTOS   \n",
       "\n",
       "       aplicacao_desc           resultado_desc  funcao_desc    subfuncao_desc  \\\n",
       "0  APLICACOES DIRETAS  PRIMARIO DISCRICIONARIO  LEGISLATIVA  ACAO LEGISLATIVA   \n",
       "1  APLICACOES DIRETAS  PRIMARIO DISCRICIONARIO  LEGISLATIVA  ACAO LEGISLATIVA   \n",
       "2  APLICACOES DIRETAS  PRIMARIO DISCRICIONARIO  LEGISLATIVA  ACAO LEGISLATIVA   \n",
       "3  APLICACOES DIRETAS  PRIMARIO DISCRICIONARIO  LEGISLATIVA  ACAO LEGISLATIVA   \n",
       "5  APLICACOES DIRETAS  PRIMARIO DISCRICIONARIO   JUDICIARIA   ACAO JUDICIARIA   \n",
       "\n",
       "                                       programa_desc  \\\n",
       "0  PROGRAMA DE GESTAO E MANUTENCAO DO PODER LEGIS...   \n",
       "1  PROGRAMA DE GESTAO E MANUTENCAO DO PODER LEGIS...   \n",
       "2  PROGRAMA DE GESTAO E MANUTENCAO DO PODER LEGIS...   \n",
       "3              ATUACAO LEGISLATIVA DO SENADO FEDERAL   \n",
       "5  PROGRAMA DE GESTAO E MANUTENCAO DO PODER JUDIC...   \n",
       "\n",
       "                                           acao_desc        regiao SG_UF  \\\n",
       "0  PROCESSO LEGISLATIVO, FISCALIZACAO E REPRESENT...  CENTRO-OESTE    DF   \n",
       "1  PROCESSO LEGISLATIVO, FISCALIZACAO E REPRESENT...  CENTRO-OESTE    DF   \n",
       "2  PROCESSO LEGISLATIVO, FISCALIZACAO E REPRESENT...  CENTRO-OESTE    DF   \n",
       "3  PROCESSO LEGISLATIVO, FISCALIZACAO E REPRESENT...  CENTRO-OESTE    DF   \n",
       "5  APRECIACAO E JULGAMENTO DE CAUSAS NO SUPREMO T...  CENTRO-OESTE    DF   \n",
       "\n",
       "            uf_desc    NM_MUN  movimento_liquido_reais     CD_MUN  \\\n",
       "0  DISTRITO FEDERAL  BRASILIA              287069885.0  5300108.0   \n",
       "1  DISTRITO FEDERAL  BRASILIA                9564079.0  5300108.0   \n",
       "2  DISTRITO FEDERAL  BRASILIA              155230137.0  5300108.0   \n",
       "3  DISTRITO FEDERAL  BRASILIA               25980935.0  5300108.0   \n",
       "5  DISTRITO FEDERAL  BRASILIA               10415503.0  5300108.0   \n",
       "\n",
       "  Tipo_resultado  mes_num  \n",
       "0       Primario        1  \n",
       "1       Primario        1  \n",
       "2       Primario        1  \n",
       "3       Primario        1  \n",
       "5       Primario        1  "
      ]
     },
     "execution_count": 13,
     "metadata": {},
     "output_type": "execute_result"
    }
   ],
   "source": [
    "# Aplicando filtros de acordo com decisões de projeto\n",
    "\n",
    "## Aplicando decisões de projeto\n",
    "df_investimento = df[(df['esfera_orcamentaria_desc'] == 'ORCAMENTO FISCAL') &\n",
    "                     (df['grupo_despesa_desc'] == 'INVESTIMENTOS') &\n",
    "                     (~df['uf_desc'].isin(['NACIONAL', 'EXTERIOR', 'SEM INFORMACAO'])) &\n",
    "                     (df['NM_MUN'] != 'SEM INFORMACAO').copy()\n",
    "                     ]\n",
    "\n",
    "## Considerando somente valores de investimentos diferentes de 0\n",
    "df_investimento = df_investimento[df_investimento['movimento_liquido_reais'] != 0]\n",
    "\n",
    "df_investimento.to_pickle('data_entrega/data_clean/df_investimento23')\n",
    "\n",
    "df_investimento.head()"
   ]
  },
  {
   "cell_type": "markdown",
   "id": "f153b50b34155427",
   "metadata": {},
   "source": [
    "## Integração bases Maturidade e investimentos"
   ]
  },
  {
   "cell_type": "code",
   "execution_count": 14,
   "id": "2f1e2230d9719f89",
   "metadata": {
    "ExecuteTime": {
     "end_time": "2024-11-02T20:01:47.155533Z",
     "start_time": "2024-11-02T20:01:45.370980Z"
    },
    "scrolled": true
   },
   "outputs": [
    {
     "data": {
      "text/html": [
       "<div>\n",
       "<style scoped>\n",
       "    .dataframe tbody tr th:only-of-type {\n",
       "        vertical-align: middle;\n",
       "    }\n",
       "\n",
       "    .dataframe tbody tr th {\n",
       "        vertical-align: top;\n",
       "    }\n",
       "\n",
       "    .dataframe thead th {\n",
       "        text-align: right;\n",
       "    }\n",
       "</style>\n",
       "<table border=\"1\" class=\"dataframe\">\n",
       "  <thead>\n",
       "    <tr style=\"text-align: right;\">\n",
       "      <th></th>\n",
       "      <th>ano</th>\n",
       "      <th>CD_MUN</th>\n",
       "      <th>NM_MUN</th>\n",
       "      <th>SG_UF</th>\n",
       "      <th>regiao</th>\n",
       "      <th>cod_rgi</th>\n",
       "      <th>cod_rgint</th>\n",
       "      <th>Investimentos_anuais</th>\n",
       "      <th>NV_Sociocultural</th>\n",
       "      <th>NV_Economico</th>\n",
       "      <th>...</th>\n",
       "      <th>PIBpc_bins</th>\n",
       "      <th>Populacao</th>\n",
       "      <th>Populacao_bins</th>\n",
       "      <th>Ocupacao_populacao</th>\n",
       "      <th>Ocupacao_bins</th>\n",
       "      <th>latitude</th>\n",
       "      <th>longitude</th>\n",
       "      <th>AREA_KM2</th>\n",
       "      <th>geometry</th>\n",
       "      <th>reg_color</th>\n",
       "    </tr>\n",
       "  </thead>\n",
       "  <tbody>\n",
       "    <tr>\n",
       "      <th>0</th>\n",
       "      <td>2023.0</td>\n",
       "      <td>1100015.0</td>\n",
       "      <td>ALTA FLORESTA D'OESTE</td>\n",
       "      <td>RO</td>\n",
       "      <td>NORTE</td>\n",
       "      <td>110005.0</td>\n",
       "      <td>1102.0</td>\n",
       "      <td>33820600.0</td>\n",
       "      <td>3.0</td>\n",
       "      <td>3.0</td>\n",
       "      <td>...</td>\n",
       "      <td>25000-40000</td>\n",
       "      <td>21494.0</td>\n",
       "      <td>10000-150000</td>\n",
       "      <td>0.184703</td>\n",
       "      <td>0.15-0.4</td>\n",
       "      <td>-11.92830</td>\n",
       "      <td>-61.9953</td>\n",
       "      <td>7067.127</td>\n",
       "      <td>POLYGON ((-62.19465 -11.82746, -62.19332 -11.8...</td>\n",
       "      <td>#ffb6c1</td>\n",
       "    </tr>\n",
       "    <tr>\n",
       "      <th>1</th>\n",
       "      <td>2023.0</td>\n",
       "      <td>1100023.0</td>\n",
       "      <td>ARIQUEMES</td>\n",
       "      <td>RO</td>\n",
       "      <td>NORTE</td>\n",
       "      <td>110002.0</td>\n",
       "      <td>1101.0</td>\n",
       "      <td>295150700.0</td>\n",
       "      <td>4.0</td>\n",
       "      <td>4.0</td>\n",
       "      <td>...</td>\n",
       "      <td>25000-40000</td>\n",
       "      <td>96833.0</td>\n",
       "      <td>10000-150000</td>\n",
       "      <td>0.226627</td>\n",
       "      <td>0.15-0.4</td>\n",
       "      <td>-9.90571</td>\n",
       "      <td>-63.0325</td>\n",
       "      <td>4426.571</td>\n",
       "      <td>POLYGON ((-62.53648 -9.73222, -62.52765 -9.736...</td>\n",
       "      <td>#ffb6c1</td>\n",
       "    </tr>\n",
       "    <tr>\n",
       "      <th>2</th>\n",
       "      <td>2023.0</td>\n",
       "      <td>1100031.0</td>\n",
       "      <td>CABIXI</td>\n",
       "      <td>RO</td>\n",
       "      <td>NORTE</td>\n",
       "      <td>110006.0</td>\n",
       "      <td>1102.0</td>\n",
       "      <td>35000000.0</td>\n",
       "      <td>3.0</td>\n",
       "      <td>3.0</td>\n",
       "      <td>...</td>\n",
       "      <td>40000+</td>\n",
       "      <td>5351.0</td>\n",
       "      <td>0-10000</td>\n",
       "      <td>0.191179</td>\n",
       "      <td>0.15-0.4</td>\n",
       "      <td>-13.49450</td>\n",
       "      <td>-60.5520</td>\n",
       "      <td>1314.352</td>\n",
       "      <td>POLYGON ((-60.37119 -13.36655, -60.37134 -13.3...</td>\n",
       "      <td>#ffb6c1</td>\n",
       "    </tr>\n",
       "    <tr>\n",
       "      <th>3</th>\n",
       "      <td>2023.0</td>\n",
       "      <td>1100049.0</td>\n",
       "      <td>CACOAL</td>\n",
       "      <td>RO</td>\n",
       "      <td>NORTE</td>\n",
       "      <td>110005.0</td>\n",
       "      <td>1102.0</td>\n",
       "      <td>383920691.0</td>\n",
       "      <td>4.0</td>\n",
       "      <td>4.0</td>\n",
       "      <td>...</td>\n",
       "      <td>25000-40000</td>\n",
       "      <td>86887.0</td>\n",
       "      <td>10000-150000</td>\n",
       "      <td>0.225718</td>\n",
       "      <td>0.15-0.4</td>\n",
       "      <td>-11.43430</td>\n",
       "      <td>-61.4562</td>\n",
       "      <td>3793.000</td>\n",
       "      <td>POLYGON ((-61.0008 -11.29737, -61.00103 -11.39...</td>\n",
       "      <td>#ffb6c1</td>\n",
       "    </tr>\n",
       "    <tr>\n",
       "      <th>4</th>\n",
       "      <td>2023.0</td>\n",
       "      <td>1100056.0</td>\n",
       "      <td>CEREJEIRAS</td>\n",
       "      <td>RO</td>\n",
       "      <td>NORTE</td>\n",
       "      <td>110006.0</td>\n",
       "      <td>1102.0</td>\n",
       "      <td>-1.0</td>\n",
       "      <td>3.0</td>\n",
       "      <td>4.0</td>\n",
       "      <td>...</td>\n",
       "      <td>40000+</td>\n",
       "      <td>15890.0</td>\n",
       "      <td>10000-150000</td>\n",
       "      <td>0.223663</td>\n",
       "      <td>0.15-0.4</td>\n",
       "      <td>-13.18700</td>\n",
       "      <td>-60.8168</td>\n",
       "      <td>2783.300</td>\n",
       "      <td>POLYGON ((-61.49976 -13.00525, -61.49809 -13.0...</td>\n",
       "      <td>#ffb6c1</td>\n",
       "    </tr>\n",
       "  </tbody>\n",
       "</table>\n",
       "<p>5 rows × 23 columns</p>\n",
       "</div>"
      ],
      "text/plain": [
       "      ano     CD_MUN                 NM_MUN SG_UF regiao   cod_rgi  cod_rgint  \\\n",
       "0  2023.0  1100015.0  ALTA FLORESTA D'OESTE    RO  NORTE  110005.0     1102.0   \n",
       "1  2023.0  1100023.0              ARIQUEMES    RO  NORTE  110002.0     1101.0   \n",
       "2  2023.0  1100031.0                 CABIXI    RO  NORTE  110006.0     1102.0   \n",
       "3  2023.0  1100049.0                 CACOAL    RO  NORTE  110005.0     1102.0   \n",
       "4  2023.0  1100056.0             CEREJEIRAS    RO  NORTE  110006.0     1102.0   \n",
       "\n",
       "   Investimentos_anuais  NV_Sociocultural  NV_Economico  ...   PIBpc_bins  \\\n",
       "0            33820600.0               3.0           3.0  ...  25000-40000   \n",
       "1           295150700.0               4.0           4.0  ...  25000-40000   \n",
       "2            35000000.0               3.0           3.0  ...       40000+   \n",
       "3           383920691.0               4.0           4.0  ...  25000-40000   \n",
       "4                  -1.0               3.0           4.0  ...       40000+   \n",
       "\n",
       "   Populacao  Populacao_bins Ocupacao_populacao  Ocupacao_bins  latitude  \\\n",
       "0    21494.0    10000-150000           0.184703       0.15-0.4 -11.92830   \n",
       "1    96833.0    10000-150000           0.226627       0.15-0.4  -9.90571   \n",
       "2     5351.0         0-10000           0.191179       0.15-0.4 -13.49450   \n",
       "3    86887.0    10000-150000           0.225718       0.15-0.4 -11.43430   \n",
       "4    15890.0    10000-150000           0.223663       0.15-0.4 -13.18700   \n",
       "\n",
       "   longitude  AREA_KM2                                           geometry  \\\n",
       "0   -61.9953  7067.127  POLYGON ((-62.19465 -11.82746, -62.19332 -11.8...   \n",
       "1   -63.0325  4426.571  POLYGON ((-62.53648 -9.73222, -62.52765 -9.736...   \n",
       "2   -60.5520  1314.352  POLYGON ((-60.37119 -13.36655, -60.37134 -13.3...   \n",
       "3   -61.4562  3793.000  POLYGON ((-61.0008 -11.29737, -61.00103 -11.39...   \n",
       "4   -60.8168  2783.300  POLYGON ((-61.49976 -13.00525, -61.49809 -13.0...   \n",
       "\n",
       "   reg_color  \n",
       "0    #ffb6c1  \n",
       "1    #ffb6c1  \n",
       "2    #ffb6c1  \n",
       "3    #ffb6c1  \n",
       "4    #ffb6c1  \n",
       "\n",
       "[5 rows x 23 columns]"
      ]
     },
     "execution_count": 14,
     "metadata": {},
     "output_type": "execute_result"
    }
   ],
   "source": [
    "# Selecionar colunas de interesse\n",
    "aux_investimento = df_investimento[['ano', 'CD_MUN', 'NM_MUN', 'SG_UF',\n",
    "                                    'regiao', 'movimento_liquido_reais']]\n",
    "\n",
    "aux_investimento = aux_investimento.groupby(aux_investimento.columns[:-1].to_list()).sum().reset_index()\n",
    "\n",
    "# Merge e tratamento de dados necessário\n",
    "df_invest_matrdd = pd.merge(df_spatial, aux_investimento,\n",
    "                            how = 'left', on = aux_investimento.columns[1:-1].to_list())\n",
    "\n",
    "## Renomear coluna e corrigir valores Nan\n",
    "df_invest_matrdd.rename(columns = {'movimento_liquido_reais' : 'Investimentos_anuais'}, inplace = True)\n",
    "df_invest_matrdd['Investimentos_anuais'].fillna(-1, inplace = True)\n",
    "df_invest_matrdd['ano'].fillna(2023, inplace = True)\n",
    "\n",
    "# Rearranjo conlunas e salva resultados\n",
    "df_invest_matrdd = df_invest_matrdd[['ano', 'CD_MUN', 'NM_MUN', 'SG_UF', 'regiao',\n",
    "       'cod_rgi', 'cod_rgint', 'Investimentos_anuais', 'NV_Sociocultural', 'NV_Economico',\n",
    "       'NV_Institucional', 'NV_Ambiental', 'PIB_PC', 'PIBpc_bins', 'Populacao',\n",
    "       'Populacao_bins', 'Ocupacao_populacao', 'Ocupacao_bins', 'latitude',\n",
    "       'longitude', 'AREA_KM2', 'geometry', 'reg_color']]\n",
    "\n",
    "df_invest_matrdd.to_pickle('data_entrega/data_clean/df_investimento_maturidade')\n",
    "\n",
    "df_invest_matrdd.head()"
   ]
  },
  {
   "cell_type": "markdown",
   "id": "ddfd1d78ebef6f45",
   "metadata": {
    "collapsed": false,
    "jupyter": {
     "outputs_hidden": false
    }
   },
   "source": [
    "## Visualização exploratória dos dados - Dados investimento público\n",
    "\n",
    "Possíveis análises da dimensão temporal e sua relação com o volume de recursos\n",
    "\n",
    "- Pico em agosto, outubro e dezembro, para todas as regiões\n",
    "- Após recesso parlamentar de julho?\n",
    "- Datas festivas (padroeira e fim de ano)?\n",
    "- Qual impacto de eleições (anos pares)?"
   ]
  },
  {
   "cell_type": "code",
   "execution_count": 30,
   "id": "5ab92782af0bcdb3",
   "metadata": {
    "ExecuteTime": {
     "end_time": "2024-11-02T18:52:51.126420900Z",
     "start_time": "2024-11-02T15:34:36.861510Z"
    },
    "collapsed": false,
    "jupyter": {
     "outputs_hidden": false
    }
   },
   "outputs": [
    {
     "data": {
      "application/vnd.plotly.v1+json": {
       "config": {
        "plotlyServerURL": "https://plot.ly"
       },
       "data": [
        {
         "mode": "lines+markers",
         "name": "DF",
         "type": "scatter",
         "visible": false,
         "x": [
          1,
          2,
          3,
          4,
          5,
          6,
          7,
          8,
          9,
          10,
          11,
          12
         ],
         "y": [
          489121610,
          387729489,
          685207514,
          695520987,
          1123606689,
          1018259339,
          1175747117,
          672545930,
          1428519531,
          908204379,
          633216290,
          3307203854
         ]
        },
        {
         "line": {
          "dash": "dash"
         },
         "mode": "lines",
         "name": "Região CENTRO-OESTE",
         "type": "scatter",
         "visible": false,
         "x": [
          1,
          2,
          3,
          4,
          5,
          6,
          7,
          8,
          9,
          10,
          11,
          12
         ],
         "y": [
          677339984,
          616667805,
          1045411185,
          2264481203,
          2407460080,
          2130619167,
          1511315841,
          5382102864,
          2240907662,
          2654166086,
          1244946660,
          6826031805
         ]
        },
        {
         "mode": "lines+markers",
         "name": "MT",
         "type": "scatter",
         "visible": false,
         "x": [
          1,
          2,
          3,
          4,
          5,
          6,
          7,
          8,
          9,
          10,
          11,
          12
         ],
         "y": [
          2493238,
          13505680,
          59301187,
          35487833,
          76499755,
          202199793,
          79867417,
          270547862,
          129309180,
          268311459,
          48481357,
          676874182
         ]
        },
        {
         "line": {
          "dash": "dash"
         },
         "mode": "lines",
         "name": "Região CENTRO-OESTE",
         "type": "scatter",
         "visible": false,
         "x": [
          1,
          2,
          3,
          4,
          5,
          6,
          7,
          8,
          9,
          10,
          11,
          12
         ],
         "y": [
          677339984,
          616667805,
          1045411185,
          2264481203,
          2407460080,
          2130619167,
          1511315841,
          5382102864,
          2240907662,
          2654166086,
          1244946660,
          6826031805
         ]
        },
        {
         "mode": "lines+markers",
         "name": "MS",
         "type": "scatter",
         "visible": false,
         "x": [
          1,
          2,
          3,
          4,
          5,
          6,
          7,
          8,
          9,
          10,
          11,
          12
         ],
         "y": [
          83505099,
          215432636,
          187188522,
          1315096346,
          289058539,
          217946605,
          209752712,
          3289799935,
          549489187,
          983850998,
          467860652,
          2584163378
         ]
        },
        {
         "line": {
          "dash": "dash"
         },
         "mode": "lines",
         "name": "Região CENTRO-OESTE",
         "type": "scatter",
         "visible": false,
         "x": [
          1,
          2,
          3,
          4,
          5,
          6,
          7,
          8,
          9,
          10,
          11,
          12
         ],
         "y": [
          677339984,
          616667805,
          1045411185,
          2264481203,
          2407460080,
          2130619167,
          1511315841,
          5382102864,
          2240907662,
          2654166086,
          1244946660,
          6826031805
         ]
        },
        {
         "mode": "lines+markers",
         "name": "GO",
         "type": "scatter",
         "visible": false,
         "x": [
          1,
          3,
          4,
          5,
          6,
          7,
          8,
          9,
          10,
          11,
          12
         ],
         "y": [
          102220037,
          113713962,
          218376037,
          918295097,
          692213430,
          45948595,
          1149209137,
          133589764,
          493799250,
          95388361,
          257790391
         ]
        },
        {
         "line": {
          "dash": "dash"
         },
         "mode": "lines",
         "name": "Região CENTRO-OESTE",
         "type": "scatter",
         "visible": false,
         "x": [
          1,
          2,
          3,
          4,
          5,
          6,
          7,
          8,
          9,
          10,
          11,
          12
         ],
         "y": [
          677339984,
          616667805,
          1045411185,
          2264481203,
          2407460080,
          2130619167,
          1511315841,
          5382102864,
          2240907662,
          2654166086,
          1244946660,
          6826031805
         ]
        },
        {
         "mode": "lines+markers",
         "name": "CE",
         "type": "scatter",
         "visible": false,
         "x": [
          1,
          2,
          3,
          4,
          5,
          6,
          7,
          8,
          9,
          10,
          11,
          12
         ],
         "y": [
          60940766,
          9842650,
          1655327939,
          196231597,
          87097000,
          314780334,
          289031748,
          5700905795,
          277934950,
          2408393498,
          265616806,
          2234845356
         ]
        },
        {
         "line": {
          "dash": "dash"
         },
         "mode": "lines",
         "name": "Região NORDESTE",
         "type": "scatter",
         "visible": false,
         "x": [
          1,
          2,
          3,
          4,
          5,
          6,
          7,
          8,
          9,
          10,
          11,
          12
         ],
         "y": [
          290902086,
          190490976,
          4306532474,
          3243160937,
          1668329014,
          3192219557,
          3234179043,
          15716459992,
          3586742600,
          8469719360,
          2367015704,
          12047127339
         ]
        },
        {
         "mode": "lines+markers",
         "name": "BA",
         "type": "scatter",
         "visible": false,
         "x": [
          1,
          2,
          3,
          4,
          5,
          6,
          7,
          8,
          9,
          10,
          11,
          12
         ],
         "y": [
          77101575,
          24605326,
          1036493966,
          135474904,
          278623697,
          240692574,
          810900764,
          3638565999,
          1113693279,
          1677578949,
          783409647,
          3018673901
         ]
        },
        {
         "line": {
          "dash": "dash"
         },
         "mode": "lines",
         "name": "Região NORDESTE",
         "type": "scatter",
         "visible": false,
         "x": [
          1,
          2,
          3,
          4,
          5,
          6,
          7,
          8,
          9,
          10,
          11,
          12
         ],
         "y": [
          290902086,
          190490976,
          4306532474,
          3243160937,
          1668329014,
          3192219557,
          3234179043,
          15716459992,
          3586742600,
          8469719360,
          2367015704,
          12047127339
         ]
        },
        {
         "mode": "lines+markers",
         "name": "SE",
         "type": "scatter",
         "visible": false,
         "x": [
          1,
          2,
          3,
          4,
          5,
          6,
          7,
          8,
          9,
          10,
          11,
          12
         ],
         "y": [
          5267302,
          23540312,
          31135211,
          11439506,
          11881169,
          73312160,
          29920959,
          285197799,
          359787956,
          1501908672,
          40716478,
          971314657
         ]
        },
        {
         "line": {
          "dash": "dash"
         },
         "mode": "lines",
         "name": "Região NORDESTE",
         "type": "scatter",
         "visible": false,
         "x": [
          1,
          2,
          3,
          4,
          5,
          6,
          7,
          8,
          9,
          10,
          11,
          12
         ],
         "y": [
          290902086,
          190490976,
          4306532474,
          3243160937,
          1668329014,
          3192219557,
          3234179043,
          15716459992,
          3586742600,
          8469719360,
          2367015704,
          12047127339
         ]
        },
        {
         "mode": "lines+markers",
         "name": "MA",
         "type": "scatter",
         "visible": false,
         "x": [
          1,
          2,
          3,
          4,
          5,
          6,
          7,
          8,
          9,
          10,
          11,
          12
         ],
         "y": [
          75845977,
          99657653,
          668406657,
          967255813,
          303213898,
          660971266,
          246692928,
          1347585750,
          1469082005,
          1342410766,
          860319731,
          2048181795
         ]
        },
        {
         "line": {
          "dash": "dash"
         },
         "mode": "lines",
         "name": "Região NORDESTE",
         "type": "scatter",
         "visible": false,
         "x": [
          1,
          2,
          3,
          4,
          5,
          6,
          7,
          8,
          9,
          10,
          11,
          12
         ],
         "y": [
          290902086,
          190490976,
          4306532474,
          3243160937,
          1668329014,
          3192219557,
          3234179043,
          15716459992,
          3586742600,
          8469719360,
          2367015704,
          12047127339
         ]
        },
        {
         "mode": "lines+markers",
         "name": "RN",
         "type": "scatter",
         "visible": false,
         "x": [
          2,
          3,
          4,
          5,
          6,
          7,
          8,
          9,
          10,
          11,
          12
         ],
         "y": [
          25837645,
          145342661,
          551412354,
          125322685,
          590696560,
          194162918,
          163477119,
          150895819,
          18068068,
          893333,
          355925848
         ]
        },
        {
         "line": {
          "dash": "dash"
         },
         "mode": "lines",
         "name": "Região NORDESTE",
         "type": "scatter",
         "visible": false,
         "x": [
          1,
          2,
          3,
          4,
          5,
          6,
          7,
          8,
          9,
          10,
          11,
          12
         ],
         "y": [
          290902086,
          190490976,
          4306532474,
          3243160937,
          1668329014,
          3192219557,
          3234179043,
          15716459992,
          3586742600,
          8469719360,
          2367015704,
          12047127339
         ]
        },
        {
         "mode": "lines+markers",
         "name": "PE",
         "type": "scatter",
         "visible": false,
         "x": [
          1,
          2,
          3,
          4,
          5,
          6,
          7,
          8,
          9,
          10,
          11,
          12
         ],
         "y": [
          13199373,
          7007390,
          471186732,
          486666148,
          302820049,
          524941987,
          549449963,
          2511478084,
          30051635,
          616273538,
          336826275,
          1303098440
         ]
        },
        {
         "line": {
          "dash": "dash"
         },
         "mode": "lines",
         "name": "Região NORDESTE",
         "type": "scatter",
         "visible": false,
         "x": [
          1,
          2,
          3,
          4,
          5,
          6,
          7,
          8,
          9,
          10,
          11,
          12
         ],
         "y": [
          290902086,
          190490976,
          4306532474,
          3243160937,
          1668329014,
          3192219557,
          3234179043,
          15716459992,
          3586742600,
          8469719360,
          2367015704,
          12047127339
         ]
        },
        {
         "mode": "lines+markers",
         "name": "PB",
         "type": "scatter",
         "visible": false,
         "x": [
          1,
          3,
          4,
          5,
          6,
          7,
          8,
          9,
          10,
          11,
          12
         ],
         "y": [
          965000,
          11090208,
          371462818,
          191513293,
          483680335,
          1042434635,
          612027044,
          21740000,
          211767827,
          76298314,
          341096868
         ]
        },
        {
         "line": {
          "dash": "dash"
         },
         "mode": "lines",
         "name": "Região NORDESTE",
         "type": "scatter",
         "visible": false,
         "x": [
          1,
          2,
          3,
          4,
          5,
          6,
          7,
          8,
          9,
          10,
          11,
          12
         ],
         "y": [
          290902086,
          190490976,
          4306532474,
          3243160937,
          1668329014,
          3192219557,
          3234179043,
          15716459992,
          3586742600,
          8469719360,
          2367015704,
          12047127339
         ]
        },
        {
         "mode": "lines+markers",
         "name": "AL",
         "type": "scatter",
         "visible": false,
         "x": [
          1,
          4,
          5,
          6,
          7,
          8,
          9,
          10,
          11,
          12
         ],
         "y": [
          2766043,
          135483651,
          32119472,
          66614558,
          27047619,
          449208128,
          30942568,
          194026358,
          2891549,
          695269457
         ]
        },
        {
         "line": {
          "dash": "dash"
         },
         "mode": "lines",
         "name": "Região NORDESTE",
         "type": "scatter",
         "visible": false,
         "x": [
          1,
          2,
          3,
          4,
          5,
          6,
          7,
          8,
          9,
          10,
          11,
          12
         ],
         "y": [
          290902086,
          190490976,
          4306532474,
          3243160937,
          1668329014,
          3192219557,
          3234179043,
          15716459992,
          3586742600,
          8469719360,
          2367015704,
          12047127339
         ]
        },
        {
         "mode": "lines+markers",
         "name": "PI",
         "type": "scatter",
         "visible": false,
         "x": [
          1,
          3,
          4,
          5,
          6,
          7,
          8,
          9,
          10,
          11,
          12
         ],
         "y": [
          54816050,
          287549100,
          387734146,
          335737751,
          236529783,
          44537509,
          1008014274,
          132614388,
          499291684,
          43571,
          1078721017
         ]
        },
        {
         "line": {
          "dash": "dash"
         },
         "mode": "lines",
         "name": "Região NORDESTE",
         "type": "scatter",
         "visible": false,
         "x": [
          1,
          2,
          3,
          4,
          5,
          6,
          7,
          8,
          9,
          10,
          11,
          12
         ],
         "y": [
          290902086,
          190490976,
          4306532474,
          3243160937,
          1668329014,
          3192219557,
          3234179043,
          15716459992,
          3586742600,
          8469719360,
          2367015704,
          12047127339
         ]
        },
        {
         "mode": "lines+markers",
         "name": "RO",
         "type": "scatter",
         "visible": false,
         "x": [
          1,
          2,
          3,
          4,
          5,
          6,
          7,
          8,
          9,
          10,
          11,
          12
         ],
         "y": [
          316713320,
          22813201,
          513852565,
          346144483,
          36071574,
          290871521,
          332263297,
          1108004916,
          1002719405,
          624621547,
          1049985688,
          1220292692
         ]
        },
        {
         "line": {
          "dash": "dash"
         },
         "mode": "lines",
         "name": "Região NORTE",
         "type": "scatter",
         "visible": false,
         "x": [
          1,
          2,
          3,
          4,
          5,
          6,
          7,
          8,
          9,
          10,
          11,
          12
         ],
         "y": [
          835921712,
          449066058,
          3820733787,
          2321621137,
          1450767661,
          2426481000,
          4329272690,
          16770112578,
          3076341753,
          9002864541,
          5725434066,
          16504093517
         ]
        },
        {
         "mode": "lines+markers",
         "name": "TO",
         "type": "scatter",
         "visible": false,
         "x": [
          1,
          2,
          3,
          4,
          5,
          6,
          7,
          8,
          9,
          10,
          11,
          12
         ],
         "y": [
          272852814,
          279596469,
          406810034,
          592033041,
          606188393,
          315522560,
          210932078,
          2837990207,
          392088154,
          1867108732,
          954163534,
          2048970204
         ]
        },
        {
         "line": {
          "dash": "dash"
         },
         "mode": "lines",
         "name": "Região NORTE",
         "type": "scatter",
         "visible": false,
         "x": [
          1,
          2,
          3,
          4,
          5,
          6,
          7,
          8,
          9,
          10,
          11,
          12
         ],
         "y": [
          835921712,
          449066058,
          3820733787,
          2321621137,
          1450767661,
          2426481000,
          4329272690,
          16770112578,
          3076341753,
          9002864541,
          5725434066,
          16504093517
         ]
        },
        {
         "mode": "lines+markers",
         "name": "PA",
         "type": "scatter",
         "visible": false,
         "x": [
          1,
          2,
          3,
          4,
          5,
          6,
          7,
          8,
          9,
          10,
          11,
          12
         ],
         "y": [
          39004265,
          23646609,
          404625178,
          13783282,
          116680801,
          43967697,
          113117425,
          1998723054,
          254376645,
          682155909,
          177323432,
          1084721313
         ]
        },
        {
         "line": {
          "dash": "dash"
         },
         "mode": "lines",
         "name": "Região NORTE",
         "type": "scatter",
         "visible": false,
         "x": [
          1,
          2,
          3,
          4,
          5,
          6,
          7,
          8,
          9,
          10,
          11,
          12
         ],
         "y": [
          835921712,
          449066058,
          3820733787,
          2321621137,
          1450767661,
          2426481000,
          4329272690,
          16770112578,
          3076341753,
          9002864541,
          5725434066,
          16504093517
         ]
        },
        {
         "mode": "lines+markers",
         "name": "AC",
         "type": "scatter",
         "visible": false,
         "x": [
          1,
          2,
          3,
          4,
          5,
          6,
          7,
          8,
          9,
          10,
          11,
          12
         ],
         "y": [
          98200000,
          32418138,
          255291634,
          406654627,
          125809634,
          202661889,
          171554418,
          3276921978,
          59116068,
          2155569994,
          226995167,
          2148113221
         ]
        },
        {
         "line": {
          "dash": "dash"
         },
         "mode": "lines",
         "name": "Região NORTE",
         "type": "scatter",
         "visible": false,
         "x": [
          1,
          2,
          3,
          4,
          5,
          6,
          7,
          8,
          9,
          10,
          11,
          12
         ],
         "y": [
          835921712,
          449066058,
          3820733787,
          2321621137,
          1450767661,
          2426481000,
          4329272690,
          16770112578,
          3076341753,
          9002864541,
          5725434066,
          16504093517
         ]
        },
        {
         "mode": "lines+markers",
         "name": "RR",
         "type": "scatter",
         "visible": false,
         "x": [
          3,
          4,
          5,
          6,
          7,
          8,
          9,
          10,
          11,
          12
         ],
         "y": [
          1131558291,
          472377665,
          250048576,
          231852282,
          2835594961,
          4646376159,
          1029829282,
          2173281460,
          1918146797,
          4452060346
         ]
        },
        {
         "line": {
          "dash": "dash"
         },
         "mode": "lines",
         "name": "Região NORTE",
         "type": "scatter",
         "visible": false,
         "x": [
          1,
          2,
          3,
          4,
          5,
          6,
          7,
          8,
          9,
          10,
          11,
          12
         ],
         "y": [
          835921712,
          449066058,
          3820733787,
          2321621137,
          1450767661,
          2426481000,
          4329272690,
          16770112578,
          3076341753,
          9002864541,
          5725434066,
          16504093517
         ]
        },
        {
         "mode": "lines+markers",
         "name": "AM",
         "type": "scatter",
         "visible": false,
         "x": [
          1,
          2,
          3,
          4,
          5,
          6,
          7,
          8,
          9,
          10,
          11,
          12
         ],
         "y": [
          109151313,
          90574436,
          753077050,
          90738368,
          310730683,
          1168970514,
          342256983,
          1859123213,
          223906883,
          833807606,
          1319462748,
          4984150210
         ]
        },
        {
         "line": {
          "dash": "dash"
         },
         "mode": "lines",
         "name": "Região NORTE",
         "type": "scatter",
         "visible": false,
         "x": [
          1,
          2,
          3,
          4,
          5,
          6,
          7,
          8,
          9,
          10,
          11,
          12
         ],
         "y": [
          835921712,
          449066058,
          3820733787,
          2321621137,
          1450767661,
          2426481000,
          4329272690,
          16770112578,
          3076341753,
          9002864541,
          5725434066,
          16504093517
         ]
        },
        {
         "mode": "lines+markers",
         "name": "AP",
         "type": "scatter",
         "visible": false,
         "x": [
          2,
          3,
          4,
          5,
          6,
          7,
          8,
          9,
          10,
          11,
          12
         ],
         "y": [
          17205,
          355519035,
          399889671,
          5238000,
          172634537,
          323553528,
          1042973051,
          114305316,
          666319293,
          79356700,
          565785531
         ]
        },
        {
         "line": {
          "dash": "dash"
         },
         "mode": "lines",
         "name": "Região NORTE",
         "type": "scatter",
         "visible": false,
         "x": [
          1,
          2,
          3,
          4,
          5,
          6,
          7,
          8,
          9,
          10,
          11,
          12
         ],
         "y": [
          835921712,
          449066058,
          3820733787,
          2321621137,
          1450767661,
          2426481000,
          4329272690,
          16770112578,
          3076341753,
          9002864541,
          5725434066,
          16504093517
         ]
        },
        {
         "mode": "lines+markers",
         "name": "SP",
         "type": "scatter",
         "visible": true,
         "x": [
          1,
          2,
          3,
          4,
          5,
          6,
          7,
          8,
          9,
          10,
          11,
          12
         ],
         "y": [
          262257003,
          75637304,
          1156082182,
          413954808,
          835642609,
          541278385,
          714380218,
          5814118912,
          2166143574,
          853624582,
          392548517,
          4446863908
         ]
        },
        {
         "line": {
          "dash": "dash"
         },
         "mode": "lines",
         "name": "Região SUDESTE",
         "type": "scatter",
         "visible": true,
         "x": [
          1,
          2,
          3,
          4,
          5,
          6,
          7,
          8,
          9,
          10,
          11,
          12
         ],
         "y": [
          6084873484,
          653653860,
          3878466279,
          1103592719,
          3220455676,
          1793313315,
          1454440361,
          15378007674,
          4399853528,
          6331285814,
          1856659760,
          10787563395
         ]
        },
        {
         "mode": "lines+markers",
         "name": "RJ",
         "type": "scatter",
         "visible": false,
         "x": [
          1,
          2,
          3,
          4,
          5,
          6,
          7,
          8,
          9,
          10,
          11,
          12
         ],
         "y": [
          72498728,
          39172967,
          814143582,
          519554413,
          524265629,
          648853122,
          203493727,
          4283327912,
          622868919,
          1592372311,
          446909360,
          2747109114
         ]
        },
        {
         "line": {
          "dash": "dash"
         },
         "mode": "lines",
         "name": "Região SUDESTE",
         "type": "scatter",
         "visible": false,
         "x": [
          1,
          2,
          3,
          4,
          5,
          6,
          7,
          8,
          9,
          10,
          11,
          12
         ],
         "y": [
          6084873484,
          653653860,
          3878466279,
          1103592719,
          3220455676,
          1793313315,
          1454440361,
          15378007674,
          4399853528,
          6331285814,
          1856659760,
          10787563395
         ]
        },
        {
         "mode": "lines+markers",
         "name": "MG",
         "type": "scatter",
         "visible": false,
         "x": [
          1,
          2,
          3,
          4,
          5,
          6,
          7,
          8,
          9,
          10,
          11,
          12
         ],
         "y": [
          5185784932,
          6346211,
          527696745,
          90349924,
          382979304,
          246374150,
          59255230,
          2596984864,
          282087420,
          494730283,
          156456706,
          2723212961
         ]
        },
        {
         "line": {
          "dash": "dash"
         },
         "mode": "lines",
         "name": "Região SUDESTE",
         "type": "scatter",
         "visible": false,
         "x": [
          1,
          2,
          3,
          4,
          5,
          6,
          7,
          8,
          9,
          10,
          11,
          12
         ],
         "y": [
          6084873484,
          653653860,
          3878466279,
          1103592719,
          3220455676,
          1793313315,
          1454440361,
          15378007674,
          4399853528,
          6331285814,
          1856659760,
          10787563395
         ]
        },
        {
         "mode": "lines+markers",
         "name": "ES",
         "type": "scatter",
         "visible": false,
         "x": [
          1,
          2,
          3,
          4,
          5,
          6,
          7,
          8,
          9,
          10,
          11,
          12
         ],
         "y": [
          564332821,
          532497378,
          1380543770,
          79733574,
          1477568134,
          356807658,
          477311186,
          2683575986,
          1328753615,
          3390558638,
          860745177,
          870377412
         ]
        },
        {
         "line": {
          "dash": "dash"
         },
         "mode": "lines",
         "name": "Região SUDESTE",
         "type": "scatter",
         "visible": false,
         "x": [
          1,
          2,
          3,
          4,
          5,
          6,
          7,
          8,
          9,
          10,
          11,
          12
         ],
         "y": [
          6084873484,
          653653860,
          3878466279,
          1103592719,
          3220455676,
          1793313315,
          1454440361,
          15378007674,
          4399853528,
          6331285814,
          1856659760,
          10787563395
         ]
        },
        {
         "mode": "lines+markers",
         "name": "PR",
         "type": "scatter",
         "visible": false,
         "x": [
          1,
          2,
          3,
          4,
          5,
          6,
          7,
          8,
          9,
          10,
          11,
          12
         ],
         "y": [
          12948882,
          9513465,
          749011305,
          167578373,
          167030480,
          100228408,
          157252008,
          2689975156,
          403049974,
          1371163540,
          515563985,
          2820959821
         ]
        },
        {
         "line": {
          "dash": "dash"
         },
         "mode": "lines",
         "name": "Região SUL",
         "type": "scatter",
         "visible": false,
         "x": [
          1,
          2,
          3,
          4,
          5,
          6,
          7,
          8,
          9,
          10,
          11,
          12
         ],
         "y": [
          117089841,
          85173428,
          1225324794,
          454011746,
          579747543,
          397241321,
          331241089,
          9712150126,
          1135434495,
          3374969667,
          1611003214,
          5651363614
         ]
        },
        {
         "mode": "lines+markers",
         "name": "RS",
         "type": "scatter",
         "visible": false,
         "x": [
          1,
          2,
          3,
          4,
          5,
          6,
          7,
          8,
          9,
          10,
          11,
          12
         ],
         "y": [
          78239832,
          58619160,
          189213157,
          174243603,
          88117626,
          203424341,
          163581989,
          1905394270,
          64413624,
          563271509,
          903359160,
          765035280
         ]
        },
        {
         "line": {
          "dash": "dash"
         },
         "mode": "lines",
         "name": "Região SUL",
         "type": "scatter",
         "visible": false,
         "x": [
          1,
          2,
          3,
          4,
          5,
          6,
          7,
          8,
          9,
          10,
          11,
          12
         ],
         "y": [
          117089841,
          85173428,
          1225324794,
          454011746,
          579747543,
          397241321,
          331241089,
          9712150126,
          1135434495,
          3374969667,
          1611003214,
          5651363614
         ]
        },
        {
         "mode": "lines+markers",
         "name": "SC",
         "type": "scatter",
         "visible": false,
         "x": [
          1,
          2,
          3,
          4,
          5,
          6,
          7,
          8,
          9,
          10,
          11,
          12
         ],
         "y": [
          25901127,
          17040803,
          287100332,
          112189770,
          324599437,
          93588572,
          10407092,
          5116780700,
          667970897,
          1440534618,
          192080069,
          2065368513
         ]
        },
        {
         "line": {
          "dash": "dash"
         },
         "mode": "lines",
         "name": "Região SUL",
         "type": "scatter",
         "visible": false,
         "x": [
          1,
          2,
          3,
          4,
          5,
          6,
          7,
          8,
          9,
          10,
          11,
          12
         ],
         "y": [
          117089841,
          85173428,
          1225324794,
          454011746,
          579747543,
          397241321,
          331241089,
          9712150126,
          1135434495,
          3374969667,
          1611003214,
          5651363614
         ]
        },
        {
         "line": {
          "dash": "dot"
         },
         "mode": "lines",
         "name": "Região CENTRO-OESTE",
         "type": "scatter",
         "visible": false,
         "x": [
          1,
          2,
          3,
          4,
          5,
          6,
          7,
          8,
          9,
          10,
          11,
          12
         ],
         "y": [
          677339984,
          616667805,
          1045411185,
          2264481203,
          2407460080,
          2130619167,
          1511315841,
          5382102864,
          2240907662,
          2654166086,
          1244946660,
          6826031805
         ]
        },
        {
         "line": {
          "dash": "dot"
         },
         "mode": "lines",
         "name": "Região SUL",
         "type": "scatter",
         "visible": false,
         "x": [
          1,
          2,
          3,
          4,
          5,
          6,
          7,
          8,
          9,
          10,
          11,
          12
         ],
         "y": [
          117089841,
          85173428,
          1225324794,
          454011746,
          579747543,
          397241321,
          331241089,
          9712150126,
          1135434495,
          3374969667,
          1611003214,
          5651363614
         ]
        },
        {
         "line": {
          "dash": "dot"
         },
         "mode": "lines",
         "name": "Região NORDESTE",
         "type": "scatter",
         "visible": false,
         "x": [
          1,
          2,
          3,
          4,
          5,
          6,
          7,
          8,
          9,
          10,
          11,
          12
         ],
         "y": [
          290902086,
          190490976,
          4306532474,
          3243160937,
          1668329014,
          3192219557,
          3234179043,
          15716459992,
          3586742600,
          8469719360,
          2367015704,
          12047127339
         ]
        },
        {
         "line": {
          "dash": "dot"
         },
         "mode": "lines",
         "name": "Região NORTE",
         "type": "scatter",
         "visible": false,
         "x": [
          1,
          2,
          3,
          4,
          5,
          6,
          7,
          8,
          9,
          10,
          11,
          12
         ],
         "y": [
          835921712,
          449066058,
          3820733787,
          2321621137,
          1450767661,
          2426481000,
          4329272690,
          16770112578,
          3076341753,
          9002864541,
          5725434066,
          16504093517
         ]
        },
        {
         "line": {
          "dash": "dot"
         },
         "mode": "lines",
         "name": "Região SUDESTE",
         "type": "scatter",
         "visible": false,
         "x": [
          1,
          2,
          3,
          4,
          5,
          6,
          7,
          8,
          9,
          10,
          11,
          12
         ],
         "y": [
          6084873484,
          653653860,
          3878466279,
          1103592719,
          3220455676,
          1793313315,
          1454440361,
          15378007674,
          4399853528,
          6331285814,
          1856659760,
          10787563395
         ]
        }
       ],
       "layout": {
        "autosize": true,
        "height": 360,
        "template": {
         "data": {
          "bar": [
           {
            "error_x": {
             "color": "#2a3f5f"
            },
            "error_y": {
             "color": "#2a3f5f"
            },
            "marker": {
             "line": {
              "color": "white",
              "width": 0.5
             },
             "pattern": {
              "fillmode": "overlay",
              "size": 10,
              "solidity": 0.2
             }
            },
            "type": "bar"
           }
          ],
          "barpolar": [
           {
            "marker": {
             "line": {
              "color": "white",
              "width": 0.5
             },
             "pattern": {
              "fillmode": "overlay",
              "size": 10,
              "solidity": 0.2
             }
            },
            "type": "barpolar"
           }
          ],
          "carpet": [
           {
            "aaxis": {
             "endlinecolor": "#2a3f5f",
             "gridcolor": "#C8D4E3",
             "linecolor": "#C8D4E3",
             "minorgridcolor": "#C8D4E3",
             "startlinecolor": "#2a3f5f"
            },
            "baxis": {
             "endlinecolor": "#2a3f5f",
             "gridcolor": "#C8D4E3",
             "linecolor": "#C8D4E3",
             "minorgridcolor": "#C8D4E3",
             "startlinecolor": "#2a3f5f"
            },
            "type": "carpet"
           }
          ],
          "choropleth": [
           {
            "colorbar": {
             "outlinewidth": 0,
             "ticks": ""
            },
            "type": "choropleth"
           }
          ],
          "contour": [
           {
            "colorbar": {
             "outlinewidth": 0,
             "ticks": ""
            },
            "colorscale": [
             [
              0,
              "#0d0887"
             ],
             [
              0.1111111111111111,
              "#46039f"
             ],
             [
              0.2222222222222222,
              "#7201a8"
             ],
             [
              0.3333333333333333,
              "#9c179e"
             ],
             [
              0.4444444444444444,
              "#bd3786"
             ],
             [
              0.5555555555555556,
              "#d8576b"
             ],
             [
              0.6666666666666666,
              "#ed7953"
             ],
             [
              0.7777777777777778,
              "#fb9f3a"
             ],
             [
              0.8888888888888888,
              "#fdca26"
             ],
             [
              1,
              "#f0f921"
             ]
            ],
            "type": "contour"
           }
          ],
          "contourcarpet": [
           {
            "colorbar": {
             "outlinewidth": 0,
             "ticks": ""
            },
            "type": "contourcarpet"
           }
          ],
          "heatmap": [
           {
            "colorbar": {
             "outlinewidth": 0,
             "ticks": ""
            },
            "colorscale": [
             [
              0,
              "#0d0887"
             ],
             [
              0.1111111111111111,
              "#46039f"
             ],
             [
              0.2222222222222222,
              "#7201a8"
             ],
             [
              0.3333333333333333,
              "#9c179e"
             ],
             [
              0.4444444444444444,
              "#bd3786"
             ],
             [
              0.5555555555555556,
              "#d8576b"
             ],
             [
              0.6666666666666666,
              "#ed7953"
             ],
             [
              0.7777777777777778,
              "#fb9f3a"
             ],
             [
              0.8888888888888888,
              "#fdca26"
             ],
             [
              1,
              "#f0f921"
             ]
            ],
            "type": "heatmap"
           }
          ],
          "heatmapgl": [
           {
            "colorbar": {
             "outlinewidth": 0,
             "ticks": ""
            },
            "colorscale": [
             [
              0,
              "#0d0887"
             ],
             [
              0.1111111111111111,
              "#46039f"
             ],
             [
              0.2222222222222222,
              "#7201a8"
             ],
             [
              0.3333333333333333,
              "#9c179e"
             ],
             [
              0.4444444444444444,
              "#bd3786"
             ],
             [
              0.5555555555555556,
              "#d8576b"
             ],
             [
              0.6666666666666666,
              "#ed7953"
             ],
             [
              0.7777777777777778,
              "#fb9f3a"
             ],
             [
              0.8888888888888888,
              "#fdca26"
             ],
             [
              1,
              "#f0f921"
             ]
            ],
            "type": "heatmapgl"
           }
          ],
          "histogram": [
           {
            "marker": {
             "pattern": {
              "fillmode": "overlay",
              "size": 10,
              "solidity": 0.2
             }
            },
            "type": "histogram"
           }
          ],
          "histogram2d": [
           {
            "colorbar": {
             "outlinewidth": 0,
             "ticks": ""
            },
            "colorscale": [
             [
              0,
              "#0d0887"
             ],
             [
              0.1111111111111111,
              "#46039f"
             ],
             [
              0.2222222222222222,
              "#7201a8"
             ],
             [
              0.3333333333333333,
              "#9c179e"
             ],
             [
              0.4444444444444444,
              "#bd3786"
             ],
             [
              0.5555555555555556,
              "#d8576b"
             ],
             [
              0.6666666666666666,
              "#ed7953"
             ],
             [
              0.7777777777777778,
              "#fb9f3a"
             ],
             [
              0.8888888888888888,
              "#fdca26"
             ],
             [
              1,
              "#f0f921"
             ]
            ],
            "type": "histogram2d"
           }
          ],
          "histogram2dcontour": [
           {
            "colorbar": {
             "outlinewidth": 0,
             "ticks": ""
            },
            "colorscale": [
             [
              0,
              "#0d0887"
             ],
             [
              0.1111111111111111,
              "#46039f"
             ],
             [
              0.2222222222222222,
              "#7201a8"
             ],
             [
              0.3333333333333333,
              "#9c179e"
             ],
             [
              0.4444444444444444,
              "#bd3786"
             ],
             [
              0.5555555555555556,
              "#d8576b"
             ],
             [
              0.6666666666666666,
              "#ed7953"
             ],
             [
              0.7777777777777778,
              "#fb9f3a"
             ],
             [
              0.8888888888888888,
              "#fdca26"
             ],
             [
              1,
              "#f0f921"
             ]
            ],
            "type": "histogram2dcontour"
           }
          ],
          "mesh3d": [
           {
            "colorbar": {
             "outlinewidth": 0,
             "ticks": ""
            },
            "type": "mesh3d"
           }
          ],
          "parcoords": [
           {
            "line": {
             "colorbar": {
              "outlinewidth": 0,
              "ticks": ""
             }
            },
            "type": "parcoords"
           }
          ],
          "pie": [
           {
            "automargin": true,
            "type": "pie"
           }
          ],
          "scatter": [
           {
            "fillpattern": {
             "fillmode": "overlay",
             "size": 10,
             "solidity": 0.2
            },
            "type": "scatter"
           }
          ],
          "scatter3d": [
           {
            "line": {
             "colorbar": {
              "outlinewidth": 0,
              "ticks": ""
             }
            },
            "marker": {
             "colorbar": {
              "outlinewidth": 0,
              "ticks": ""
             }
            },
            "type": "scatter3d"
           }
          ],
          "scattercarpet": [
           {
            "marker": {
             "colorbar": {
              "outlinewidth": 0,
              "ticks": ""
             }
            },
            "type": "scattercarpet"
           }
          ],
          "scattergeo": [
           {
            "marker": {
             "colorbar": {
              "outlinewidth": 0,
              "ticks": ""
             }
            },
            "type": "scattergeo"
           }
          ],
          "scattergl": [
           {
            "marker": {
             "colorbar": {
              "outlinewidth": 0,
              "ticks": ""
             }
            },
            "type": "scattergl"
           }
          ],
          "scattermapbox": [
           {
            "marker": {
             "colorbar": {
              "outlinewidth": 0,
              "ticks": ""
             }
            },
            "type": "scattermapbox"
           }
          ],
          "scatterpolar": [
           {
            "marker": {
             "colorbar": {
              "outlinewidth": 0,
              "ticks": ""
             }
            },
            "type": "scatterpolar"
           }
          ],
          "scatterpolargl": [
           {
            "marker": {
             "colorbar": {
              "outlinewidth": 0,
              "ticks": ""
             }
            },
            "type": "scatterpolargl"
           }
          ],
          "scatterternary": [
           {
            "marker": {
             "colorbar": {
              "outlinewidth": 0,
              "ticks": ""
             }
            },
            "type": "scatterternary"
           }
          ],
          "surface": [
           {
            "colorbar": {
             "outlinewidth": 0,
             "ticks": ""
            },
            "colorscale": [
             [
              0,
              "#0d0887"
             ],
             [
              0.1111111111111111,
              "#46039f"
             ],
             [
              0.2222222222222222,
              "#7201a8"
             ],
             [
              0.3333333333333333,
              "#9c179e"
             ],
             [
              0.4444444444444444,
              "#bd3786"
             ],
             [
              0.5555555555555556,
              "#d8576b"
             ],
             [
              0.6666666666666666,
              "#ed7953"
             ],
             [
              0.7777777777777778,
              "#fb9f3a"
             ],
             [
              0.8888888888888888,
              "#fdca26"
             ],
             [
              1,
              "#f0f921"
             ]
            ],
            "type": "surface"
           }
          ],
          "table": [
           {
            "cells": {
             "fill": {
              "color": "#EBF0F8"
             },
             "line": {
              "color": "white"
             }
            },
            "header": {
             "fill": {
              "color": "#C8D4E3"
             },
             "line": {
              "color": "white"
             }
            },
            "type": "table"
           }
          ]
         },
         "layout": {
          "annotationdefaults": {
           "arrowcolor": "#2a3f5f",
           "arrowhead": 0,
           "arrowwidth": 1
          },
          "autotypenumbers": "strict",
          "coloraxis": {
           "colorbar": {
            "outlinewidth": 0,
            "ticks": ""
           }
          },
          "colorscale": {
           "diverging": [
            [
             0,
             "#8e0152"
            ],
            [
             0.1,
             "#c51b7d"
            ],
            [
             0.2,
             "#de77ae"
            ],
            [
             0.3,
             "#f1b6da"
            ],
            [
             0.4,
             "#fde0ef"
            ],
            [
             0.5,
             "#f7f7f7"
            ],
            [
             0.6,
             "#e6f5d0"
            ],
            [
             0.7,
             "#b8e186"
            ],
            [
             0.8,
             "#7fbc41"
            ],
            [
             0.9,
             "#4d9221"
            ],
            [
             1,
             "#276419"
            ]
           ],
           "sequential": [
            [
             0,
             "#0d0887"
            ],
            [
             0.1111111111111111,
             "#46039f"
            ],
            [
             0.2222222222222222,
             "#7201a8"
            ],
            [
             0.3333333333333333,
             "#9c179e"
            ],
            [
             0.4444444444444444,
             "#bd3786"
            ],
            [
             0.5555555555555556,
             "#d8576b"
            ],
            [
             0.6666666666666666,
             "#ed7953"
            ],
            [
             0.7777777777777778,
             "#fb9f3a"
            ],
            [
             0.8888888888888888,
             "#fdca26"
            ],
            [
             1,
             "#f0f921"
            ]
           ],
           "sequentialminus": [
            [
             0,
             "#0d0887"
            ],
            [
             0.1111111111111111,
             "#46039f"
            ],
            [
             0.2222222222222222,
             "#7201a8"
            ],
            [
             0.3333333333333333,
             "#9c179e"
            ],
            [
             0.4444444444444444,
             "#bd3786"
            ],
            [
             0.5555555555555556,
             "#d8576b"
            ],
            [
             0.6666666666666666,
             "#ed7953"
            ],
            [
             0.7777777777777778,
             "#fb9f3a"
            ],
            [
             0.8888888888888888,
             "#fdca26"
            ],
            [
             1,
             "#f0f921"
            ]
           ]
          },
          "colorway": [
           "#636efa",
           "#EF553B",
           "#00cc96",
           "#ab63fa",
           "#FFA15A",
           "#19d3f3",
           "#FF6692",
           "#B6E880",
           "#FF97FF",
           "#FECB52"
          ],
          "font": {
           "color": "#2a3f5f"
          },
          "geo": {
           "bgcolor": "white",
           "lakecolor": "white",
           "landcolor": "white",
           "showlakes": true,
           "showland": true,
           "subunitcolor": "#C8D4E3"
          },
          "hoverlabel": {
           "align": "left"
          },
          "hovermode": "closest",
          "mapbox": {
           "style": "light"
          },
          "paper_bgcolor": "white",
          "plot_bgcolor": "white",
          "polar": {
           "angularaxis": {
            "gridcolor": "#EBF0F8",
            "linecolor": "#EBF0F8",
            "ticks": ""
           },
           "bgcolor": "white",
           "radialaxis": {
            "gridcolor": "#EBF0F8",
            "linecolor": "#EBF0F8",
            "ticks": ""
           }
          },
          "scene": {
           "xaxis": {
            "backgroundcolor": "white",
            "gridcolor": "#DFE8F3",
            "gridwidth": 2,
            "linecolor": "#EBF0F8",
            "showbackground": true,
            "ticks": "",
            "zerolinecolor": "#EBF0F8"
           },
           "yaxis": {
            "backgroundcolor": "white",
            "gridcolor": "#DFE8F3",
            "gridwidth": 2,
            "linecolor": "#EBF0F8",
            "showbackground": true,
            "ticks": "",
            "zerolinecolor": "#EBF0F8"
           },
           "zaxis": {
            "backgroundcolor": "white",
            "gridcolor": "#DFE8F3",
            "gridwidth": 2,
            "linecolor": "#EBF0F8",
            "showbackground": true,
            "ticks": "",
            "zerolinecolor": "#EBF0F8"
           }
          },
          "shapedefaults": {
           "line": {
            "color": "#2a3f5f"
           }
          },
          "ternary": {
           "aaxis": {
            "gridcolor": "#DFE8F3",
            "linecolor": "#A2B1C6",
            "ticks": ""
           },
           "baxis": {
            "gridcolor": "#DFE8F3",
            "linecolor": "#A2B1C6",
            "ticks": ""
           },
           "bgcolor": "white",
           "caxis": {
            "gridcolor": "#DFE8F3",
            "linecolor": "#A2B1C6",
            "ticks": ""
           }
          },
          "title": {
           "x": 0.05
          },
          "xaxis": {
           "automargin": true,
           "gridcolor": "#EBF0F8",
           "linecolor": "#EBF0F8",
           "ticks": "",
           "title": {
            "standoff": 15
           },
           "zerolinecolor": "#EBF0F8",
           "zerolinewidth": 2
          },
          "yaxis": {
           "automargin": true,
           "gridcolor": "#EBF0F8",
           "linecolor": "#EBF0F8",
           "ticks": "",
           "title": {
            "standoff": 15
           },
           "zerolinecolor": "#EBF0F8",
           "zerolinewidth": 2
          }
         }
        },
        "title": {
         "text": "Movimento Líquido Reais by Month for SP and Região SUDESTE"
        },
        "updatemenus": [
         {
          "active": 20,
          "buttons": [
           {
            "args": [
             {
              "visible": [
               true,
               true,
               false,
               false,
               false,
               false,
               false,
               false,
               false,
               false,
               false,
               false,
               false,
               false,
               false,
               false,
               false,
               false,
               false,
               false,
               false,
               false,
               false,
               false,
               false,
               false,
               false,
               false,
               false,
               false,
               false,
               false,
               false,
               false,
               false,
               false,
               false,
               false,
               false,
               false,
               false,
               false,
               false,
               false,
               false,
               false,
               false,
               false,
               false,
               false,
               false,
               false,
               false,
               false
              ]
             },
             {
              "title": "Movimento Líquido Reais by Month for DF and Região CENTRO-OESTE"
             }
            ],
            "label": "DF",
            "method": "update"
           },
           {
            "args": [
             {
              "visible": [
               false,
               false,
               true,
               true,
               false,
               false,
               false,
               false,
               false,
               false,
               false,
               false,
               false,
               false,
               false,
               false,
               false,
               false,
               false,
               false,
               false,
               false,
               false,
               false,
               false,
               false,
               false,
               false,
               false,
               false,
               false,
               false,
               false,
               false,
               false,
               false,
               false,
               false,
               false,
               false,
               false,
               false,
               false,
               false,
               false,
               false,
               false,
               false,
               false,
               false,
               false,
               false,
               false,
               false
              ]
             },
             {
              "title": "Movimento Líquido Reais by Month for MT and Região CENTRO-OESTE"
             }
            ],
            "label": "MT",
            "method": "update"
           },
           {
            "args": [
             {
              "visible": [
               false,
               false,
               false,
               false,
               true,
               true,
               false,
               false,
               false,
               false,
               false,
               false,
               false,
               false,
               false,
               false,
               false,
               false,
               false,
               false,
               false,
               false,
               false,
               false,
               false,
               false,
               false,
               false,
               false,
               false,
               false,
               false,
               false,
               false,
               false,
               false,
               false,
               false,
               false,
               false,
               false,
               false,
               false,
               false,
               false,
               false,
               false,
               false,
               false,
               false,
               false,
               false,
               false,
               false
              ]
             },
             {
              "title": "Movimento Líquido Reais by Month for MS and Região CENTRO-OESTE"
             }
            ],
            "label": "MS",
            "method": "update"
           },
           {
            "args": [
             {
              "visible": [
               false,
               false,
               false,
               false,
               false,
               false,
               true,
               true,
               false,
               false,
               false,
               false,
               false,
               false,
               false,
               false,
               false,
               false,
               false,
               false,
               false,
               false,
               false,
               false,
               false,
               false,
               false,
               false,
               false,
               false,
               false,
               false,
               false,
               false,
               false,
               false,
               false,
               false,
               false,
               false,
               false,
               false,
               false,
               false,
               false,
               false,
               false,
               false,
               false,
               false,
               false,
               false,
               false,
               false
              ]
             },
             {
              "title": "Movimento Líquido Reais by Month for GO and Região CENTRO-OESTE"
             }
            ],
            "label": "GO",
            "method": "update"
           },
           {
            "args": [
             {
              "visible": [
               false,
               false,
               false,
               false,
               false,
               false,
               false,
               false,
               true,
               true,
               false,
               false,
               false,
               false,
               false,
               false,
               false,
               false,
               false,
               false,
               false,
               false,
               false,
               false,
               false,
               false,
               false,
               false,
               false,
               false,
               false,
               false,
               false,
               false,
               false,
               false,
               false,
               false,
               false,
               false,
               false,
               false,
               false,
               false,
               false,
               false,
               false,
               false,
               false,
               false,
               false,
               false,
               false,
               false
              ]
             },
             {
              "title": "Movimento Líquido Reais by Month for CE and Região NORDESTE"
             }
            ],
            "label": "CE",
            "method": "update"
           },
           {
            "args": [
             {
              "visible": [
               false,
               false,
               false,
               false,
               false,
               false,
               false,
               false,
               false,
               false,
               true,
               true,
               false,
               false,
               false,
               false,
               false,
               false,
               false,
               false,
               false,
               false,
               false,
               false,
               false,
               false,
               false,
               false,
               false,
               false,
               false,
               false,
               false,
               false,
               false,
               false,
               false,
               false,
               false,
               false,
               false,
               false,
               false,
               false,
               false,
               false,
               false,
               false,
               false,
               false,
               false,
               false,
               false,
               false
              ]
             },
             {
              "title": "Movimento Líquido Reais by Month for BA and Região NORDESTE"
             }
            ],
            "label": "BA",
            "method": "update"
           },
           {
            "args": [
             {
              "visible": [
               false,
               false,
               false,
               false,
               false,
               false,
               false,
               false,
               false,
               false,
               false,
               false,
               true,
               true,
               false,
               false,
               false,
               false,
               false,
               false,
               false,
               false,
               false,
               false,
               false,
               false,
               false,
               false,
               false,
               false,
               false,
               false,
               false,
               false,
               false,
               false,
               false,
               false,
               false,
               false,
               false,
               false,
               false,
               false,
               false,
               false,
               false,
               false,
               false,
               false,
               false,
               false,
               false,
               false
              ]
             },
             {
              "title": "Movimento Líquido Reais by Month for SE and Região NORDESTE"
             }
            ],
            "label": "SE",
            "method": "update"
           },
           {
            "args": [
             {
              "visible": [
               false,
               false,
               false,
               false,
               false,
               false,
               false,
               false,
               false,
               false,
               false,
               false,
               false,
               false,
               true,
               true,
               false,
               false,
               false,
               false,
               false,
               false,
               false,
               false,
               false,
               false,
               false,
               false,
               false,
               false,
               false,
               false,
               false,
               false,
               false,
               false,
               false,
               false,
               false,
               false,
               false,
               false,
               false,
               false,
               false,
               false,
               false,
               false,
               false,
               false,
               false,
               false,
               false,
               false
              ]
             },
             {
              "title": "Movimento Líquido Reais by Month for MA and Região NORDESTE"
             }
            ],
            "label": "MA",
            "method": "update"
           },
           {
            "args": [
             {
              "visible": [
               false,
               false,
               false,
               false,
               false,
               false,
               false,
               false,
               false,
               false,
               false,
               false,
               false,
               false,
               false,
               false,
               true,
               true,
               false,
               false,
               false,
               false,
               false,
               false,
               false,
               false,
               false,
               false,
               false,
               false,
               false,
               false,
               false,
               false,
               false,
               false,
               false,
               false,
               false,
               false,
               false,
               false,
               false,
               false,
               false,
               false,
               false,
               false,
               false,
               false,
               false,
               false,
               false,
               false
              ]
             },
             {
              "title": "Movimento Líquido Reais by Month for RN and Região NORDESTE"
             }
            ],
            "label": "RN",
            "method": "update"
           },
           {
            "args": [
             {
              "visible": [
               false,
               false,
               false,
               false,
               false,
               false,
               false,
               false,
               false,
               false,
               false,
               false,
               false,
               false,
               false,
               false,
               false,
               false,
               true,
               true,
               false,
               false,
               false,
               false,
               false,
               false,
               false,
               false,
               false,
               false,
               false,
               false,
               false,
               false,
               false,
               false,
               false,
               false,
               false,
               false,
               false,
               false,
               false,
               false,
               false,
               false,
               false,
               false,
               false,
               false,
               false,
               false,
               false,
               false
              ]
             },
             {
              "title": "Movimento Líquido Reais by Month for PE and Região NORDESTE"
             }
            ],
            "label": "PE",
            "method": "update"
           },
           {
            "args": [
             {
              "visible": [
               false,
               false,
               false,
               false,
               false,
               false,
               false,
               false,
               false,
               false,
               false,
               false,
               false,
               false,
               false,
               false,
               false,
               false,
               false,
               false,
               true,
               true,
               false,
               false,
               false,
               false,
               false,
               false,
               false,
               false,
               false,
               false,
               false,
               false,
               false,
               false,
               false,
               false,
               false,
               false,
               false,
               false,
               false,
               false,
               false,
               false,
               false,
               false,
               false,
               false,
               false,
               false,
               false,
               false
              ]
             },
             {
              "title": "Movimento Líquido Reais by Month for PB and Região NORDESTE"
             }
            ],
            "label": "PB",
            "method": "update"
           },
           {
            "args": [
             {
              "visible": [
               false,
               false,
               false,
               false,
               false,
               false,
               false,
               false,
               false,
               false,
               false,
               false,
               false,
               false,
               false,
               false,
               false,
               false,
               false,
               false,
               false,
               false,
               true,
               true,
               false,
               false,
               false,
               false,
               false,
               false,
               false,
               false,
               false,
               false,
               false,
               false,
               false,
               false,
               false,
               false,
               false,
               false,
               false,
               false,
               false,
               false,
               false,
               false,
               false,
               false,
               false,
               false,
               false,
               false
              ]
             },
             {
              "title": "Movimento Líquido Reais by Month for AL and Região NORDESTE"
             }
            ],
            "label": "AL",
            "method": "update"
           },
           {
            "args": [
             {
              "visible": [
               false,
               false,
               false,
               false,
               false,
               false,
               false,
               false,
               false,
               false,
               false,
               false,
               false,
               false,
               false,
               false,
               false,
               false,
               false,
               false,
               false,
               false,
               false,
               false,
               true,
               true,
               false,
               false,
               false,
               false,
               false,
               false,
               false,
               false,
               false,
               false,
               false,
               false,
               false,
               false,
               false,
               false,
               false,
               false,
               false,
               false,
               false,
               false,
               false,
               false,
               false,
               false,
               false,
               false
              ]
             },
             {
              "title": "Movimento Líquido Reais by Month for PI and Região NORDESTE"
             }
            ],
            "label": "PI",
            "method": "update"
           },
           {
            "args": [
             {
              "visible": [
               false,
               false,
               false,
               false,
               false,
               false,
               false,
               false,
               false,
               false,
               false,
               false,
               false,
               false,
               false,
               false,
               false,
               false,
               false,
               false,
               false,
               false,
               false,
               false,
               false,
               false,
               true,
               true,
               false,
               false,
               false,
               false,
               false,
               false,
               false,
               false,
               false,
               false,
               false,
               false,
               false,
               false,
               false,
               false,
               false,
               false,
               false,
               false,
               false,
               false,
               false,
               false,
               false,
               false
              ]
             },
             {
              "title": "Movimento Líquido Reais by Month for RO and Região NORTE"
             }
            ],
            "label": "RO",
            "method": "update"
           },
           {
            "args": [
             {
              "visible": [
               false,
               false,
               false,
               false,
               false,
               false,
               false,
               false,
               false,
               false,
               false,
               false,
               false,
               false,
               false,
               false,
               false,
               false,
               false,
               false,
               false,
               false,
               false,
               false,
               false,
               false,
               false,
               false,
               true,
               true,
               false,
               false,
               false,
               false,
               false,
               false,
               false,
               false,
               false,
               false,
               false,
               false,
               false,
               false,
               false,
               false,
               false,
               false,
               false,
               false,
               false,
               false,
               false,
               false
              ]
             },
             {
              "title": "Movimento Líquido Reais by Month for TO and Região NORTE"
             }
            ],
            "label": "TO",
            "method": "update"
           },
           {
            "args": [
             {
              "visible": [
               false,
               false,
               false,
               false,
               false,
               false,
               false,
               false,
               false,
               false,
               false,
               false,
               false,
               false,
               false,
               false,
               false,
               false,
               false,
               false,
               false,
               false,
               false,
               false,
               false,
               false,
               false,
               false,
               false,
               false,
               true,
               true,
               false,
               false,
               false,
               false,
               false,
               false,
               false,
               false,
               false,
               false,
               false,
               false,
               false,
               false,
               false,
               false,
               false,
               false,
               false,
               false,
               false,
               false
              ]
             },
             {
              "title": "Movimento Líquido Reais by Month for PA and Região NORTE"
             }
            ],
            "label": "PA",
            "method": "update"
           },
           {
            "args": [
             {
              "visible": [
               false,
               false,
               false,
               false,
               false,
               false,
               false,
               false,
               false,
               false,
               false,
               false,
               false,
               false,
               false,
               false,
               false,
               false,
               false,
               false,
               false,
               false,
               false,
               false,
               false,
               false,
               false,
               false,
               false,
               false,
               false,
               false,
               true,
               true,
               false,
               false,
               false,
               false,
               false,
               false,
               false,
               false,
               false,
               false,
               false,
               false,
               false,
               false,
               false,
               false,
               false,
               false,
               false,
               false
              ]
             },
             {
              "title": "Movimento Líquido Reais by Month for AC and Região NORTE"
             }
            ],
            "label": "AC",
            "method": "update"
           },
           {
            "args": [
             {
              "visible": [
               false,
               false,
               false,
               false,
               false,
               false,
               false,
               false,
               false,
               false,
               false,
               false,
               false,
               false,
               false,
               false,
               false,
               false,
               false,
               false,
               false,
               false,
               false,
               false,
               false,
               false,
               false,
               false,
               false,
               false,
               false,
               false,
               false,
               false,
               true,
               true,
               false,
               false,
               false,
               false,
               false,
               false,
               false,
               false,
               false,
               false,
               false,
               false,
               false,
               false,
               false,
               false,
               false,
               false
              ]
             },
             {
              "title": "Movimento Líquido Reais by Month for RR and Região NORTE"
             }
            ],
            "label": "RR",
            "method": "update"
           },
           {
            "args": [
             {
              "visible": [
               false,
               false,
               false,
               false,
               false,
               false,
               false,
               false,
               false,
               false,
               false,
               false,
               false,
               false,
               false,
               false,
               false,
               false,
               false,
               false,
               false,
               false,
               false,
               false,
               false,
               false,
               false,
               false,
               false,
               false,
               false,
               false,
               false,
               false,
               false,
               false,
               true,
               true,
               false,
               false,
               false,
               false,
               false,
               false,
               false,
               false,
               false,
               false,
               false,
               false,
               false,
               false,
               false,
               false
              ]
             },
             {
              "title": "Movimento Líquido Reais by Month for AM and Região NORTE"
             }
            ],
            "label": "AM",
            "method": "update"
           },
           {
            "args": [
             {
              "visible": [
               false,
               false,
               false,
               false,
               false,
               false,
               false,
               false,
               false,
               false,
               false,
               false,
               false,
               false,
               false,
               false,
               false,
               false,
               false,
               false,
               false,
               false,
               false,
               false,
               false,
               false,
               false,
               false,
               false,
               false,
               false,
               false,
               false,
               false,
               false,
               false,
               false,
               false,
               true,
               true,
               false,
               false,
               false,
               false,
               false,
               false,
               false,
               false,
               false,
               false,
               false,
               false,
               false,
               false
              ]
             },
             {
              "title": "Movimento Líquido Reais by Month for AP and Região NORTE"
             }
            ],
            "label": "AP",
            "method": "update"
           },
           {
            "args": [
             {
              "visible": [
               false,
               false,
               false,
               false,
               false,
               false,
               false,
               false,
               false,
               false,
               false,
               false,
               false,
               false,
               false,
               false,
               false,
               false,
               false,
               false,
               false,
               false,
               false,
               false,
               false,
               false,
               false,
               false,
               false,
               false,
               false,
               false,
               false,
               false,
               false,
               false,
               false,
               false,
               false,
               false,
               true,
               true,
               false,
               false,
               false,
               false,
               false,
               false,
               false,
               false,
               false,
               false,
               false,
               false
              ]
             },
             {
              "title": "Movimento Líquido Reais by Month for SP and Região SUDESTE"
             }
            ],
            "label": "SP",
            "method": "update"
           },
           {
            "args": [
             {
              "visible": [
               false,
               false,
               false,
               false,
               false,
               false,
               false,
               false,
               false,
               false,
               false,
               false,
               false,
               false,
               false,
               false,
               false,
               false,
               false,
               false,
               false,
               false,
               false,
               false,
               false,
               false,
               false,
               false,
               false,
               false,
               false,
               false,
               false,
               false,
               false,
               false,
               false,
               false,
               false,
               false,
               false,
               false,
               true,
               true,
               false,
               false,
               false,
               false,
               false,
               false,
               false,
               false,
               false,
               false
              ]
             },
             {
              "title": "Movimento Líquido Reais by Month for RJ and Região SUDESTE"
             }
            ],
            "label": "RJ",
            "method": "update"
           },
           {
            "args": [
             {
              "visible": [
               false,
               false,
               false,
               false,
               false,
               false,
               false,
               false,
               false,
               false,
               false,
               false,
               false,
               false,
               false,
               false,
               false,
               false,
               false,
               false,
               false,
               false,
               false,
               false,
               false,
               false,
               false,
               false,
               false,
               false,
               false,
               false,
               false,
               false,
               false,
               false,
               false,
               false,
               false,
               false,
               false,
               false,
               false,
               false,
               true,
               true,
               false,
               false,
               false,
               false,
               false,
               false,
               false,
               false
              ]
             },
             {
              "title": "Movimento Líquido Reais by Month for MG and Região SUDESTE"
             }
            ],
            "label": "MG",
            "method": "update"
           },
           {
            "args": [
             {
              "visible": [
               false,
               false,
               false,
               false,
               false,
               false,
               false,
               false,
               false,
               false,
               false,
               false,
               false,
               false,
               false,
               false,
               false,
               false,
               false,
               false,
               false,
               false,
               false,
               false,
               false,
               false,
               false,
               false,
               false,
               false,
               false,
               false,
               false,
               false,
               false,
               false,
               false,
               false,
               false,
               false,
               false,
               false,
               false,
               false,
               false,
               false,
               true,
               true,
               false,
               false,
               false,
               false,
               false,
               false
              ]
             },
             {
              "title": "Movimento Líquido Reais by Month for ES and Região SUDESTE"
             }
            ],
            "label": "ES",
            "method": "update"
           },
           {
            "args": [
             {
              "visible": [
               false,
               false,
               false,
               false,
               false,
               false,
               false,
               false,
               false,
               false,
               false,
               false,
               false,
               false,
               false,
               false,
               false,
               false,
               false,
               false,
               false,
               false,
               false,
               false,
               false,
               false,
               false,
               false,
               false,
               false,
               false,
               false,
               false,
               false,
               false,
               false,
               false,
               false,
               false,
               false,
               false,
               false,
               false,
               false,
               false,
               false,
               false,
               false,
               true,
               true,
               false,
               false,
               false,
               false
              ]
             },
             {
              "title": "Movimento Líquido Reais by Month for PR and Região SUL"
             }
            ],
            "label": "PR",
            "method": "update"
           },
           {
            "args": [
             {
              "visible": [
               false,
               false,
               false,
               false,
               false,
               false,
               false,
               false,
               false,
               false,
               false,
               false,
               false,
               false,
               false,
               false,
               false,
               false,
               false,
               false,
               false,
               false,
               false,
               false,
               false,
               false,
               false,
               false,
               false,
               false,
               false,
               false,
               false,
               false,
               false,
               false,
               false,
               false,
               false,
               false,
               false,
               false,
               false,
               false,
               false,
               false,
               false,
               false,
               false,
               false,
               true,
               true,
               false,
               false
              ]
             },
             {
              "title": "Movimento Líquido Reais by Month for RS and Região SUL"
             }
            ],
            "label": "RS",
            "method": "update"
           },
           {
            "args": [
             {
              "visible": [
               false,
               false,
               false,
               false,
               false,
               false,
               false,
               false,
               false,
               false,
               false,
               false,
               false,
               false,
               false,
               false,
               false,
               false,
               false,
               false,
               false,
               false,
               false,
               false,
               false,
               false,
               false,
               false,
               false,
               false,
               false,
               false,
               false,
               false,
               false,
               false,
               false,
               false,
               false,
               false,
               false,
               false,
               false,
               false,
               false,
               false,
               false,
               false,
               false,
               false,
               false,
               false,
               true,
               true
              ]
             },
             {
              "title": "Movimento Líquido Reais by Month for SC and Região SUL"
             }
            ],
            "label": "SC",
            "method": "update"
           },
           {
            "args": [
             {
              "visible": [
               false,
               false,
               false,
               false,
               false,
               false,
               false,
               false,
               false,
               false,
               false,
               false,
               false,
               false,
               false,
               false,
               false,
               false,
               false,
               false,
               false,
               false,
               false,
               false,
               false,
               false,
               false,
               false,
               false,
               false,
               false,
               false,
               false,
               false,
               false,
               false,
               false,
               false,
               false,
               false,
               false,
               false,
               false,
               false,
               false,
               false,
               false,
               false,
               false,
               false,
               false,
               false,
               false,
               false,
               true,
               true,
               true,
               true,
               true
              ]
             },
             {
              "title": "Movimento Líquido Reais by Month for All Regions"
             }
            ],
            "label": "All Regions",
            "method": "update"
           }
          ],
          "direction": "down",
          "showactive": true
         }
        ],
        "xaxis": {
         "autorange": true,
         "range": [
          0.3427881713940856,
          12.657211828605915
         ],
         "tickmode": "array",
         "ticktext": [
          "Janeiro",
          "Fevereiro",
          "Março",
          "Abril",
          "Maio",
          "Junho",
          "Julho",
          "Agosto",
          "Setembro",
          "Outubro",
          "Novembro",
          "Dezembro"
         ],
         "tickvals": [
          1,
          2,
          3,
          4,
          5,
          6,
          7,
          8,
          9,
          10,
          11,
          12
         ],
         "title": {
          "text": "Month"
         },
         "type": "linear"
        },
        "yaxis": {
         "autorange": true,
         "range": [
          -1157255095.478673,
          16248284661.867298
         ],
         "title": {
          "text": "Movimento Líquido (R$)"
         },
         "type": "linear"
        }
       }
      },
      "image/png": "[encoded data removed]",
      "text/html": [
       "<div>                            <div id=\"30434b6e-01ed-44ca-8c00-89ae9c603d21\" class=\"plotly-graph-div\" style=\"height:525px; width:100%;\"></div>            <script type=\"text/javascript\">                require([\"plotly\"], function(Plotly) {                    window.PLOTLYENV=window.PLOTLYENV || {};                                    if (document.getElementById(\"30434b6e-01ed-44ca-8c00-89ae9c603d21\")) {                    Plotly.newPlot(                        \"30434b6e-01ed-44ca-8c00-89ae9c603d21\",                        [{\"mode\":\"lines+markers\",\"name\":\"DF\",\"visible\":true,\"x\":[1,2,3,4,5,6,7,8,9,10,11,12],\"y\":[489121610.0,387729489.0,685207514.0,695520987.0,1123606689.0,1018259339.0,1175747117.0,672545930.0,1428519531.0,908204379.0,633216290.0,3307203854.0],\"type\":\"scatter\"},{\"line\":{\"dash\":\"dash\"},\"mode\":\"lines\",\"name\":\"Regi\\u00e3o CENTRO-OESTE\",\"visible\":true,\"x\":[1,2,3,4,5,6,7,8,9,10,11,12],\"y\":[677339984.0,616667805.0,1045411185.0,2264481203.0,2407460080.0,2130619167.0,1511315841.0,5382102864.0,2240907662.0,2654166086.0,1244946660.0,6826031805.0],\"type\":\"scatter\"},{\"mode\":\"lines+markers\",\"name\":\"MT\",\"visible\":false,\"x\":[1,2,3,4,5,6,7,8,9,10,11,12],\"y\":[2493238.0,13505680.0,59301187.0,35487833.0,76499755.0,202199793.0,79867417.0,270547862.0,129309180.0,268311459.0,48481357.0,676874182.0],\"type\":\"scatter\"},{\"line\":{\"dash\":\"dash\"},\"mode\":\"lines\",\"name\":\"Regi\\u00e3o CENTRO-OESTE\",\"visible\":false,\"x\":[1,2,3,4,5,6,7,8,9,10,11,12],\"y\":[677339984.0,616667805.0,1045411185.0,2264481203.0,2407460080.0,2130619167.0,1511315841.0,5382102864.0,2240907662.0,2654166086.0,1244946660.0,6826031805.0],\"type\":\"scatter\"},{\"mode\":\"lines+markers\",\"name\":\"MS\",\"visible\":false,\"x\":[1,2,3,4,5,6,7,8,9,10,11,12],\"y\":[83505099.0,215432636.0,187188522.0,1315096346.0,289058539.0,217946605.0,209752712.0,3289799935.0,549489187.0,983850998.0,467860652.0,2584163378.0],\"type\":\"scatter\"},{\"line\":{\"dash\":\"dash\"},\"mode\":\"lines\",\"name\":\"Regi\\u00e3o CENTRO-OESTE\",\"visible\":false,\"x\":[1,2,3,4,5,6,7,8,9,10,11,12],\"y\":[677339984.0,616667805.0,1045411185.0,2264481203.0,2407460080.0,2130619167.0,1511315841.0,5382102864.0,2240907662.0,2654166086.0,1244946660.0,6826031805.0],\"type\":\"scatter\"},{\"mode\":\"lines+markers\",\"name\":\"GO\",\"visible\":false,\"x\":[1,3,4,5,6,7,8,9,10,11,12],\"y\":[102220037.0,113713962.0,218376037.0,918295097.0,692213430.0,45948595.0,1149209137.0,133589764.0,493799250.0,95388361.0,257790391.0],\"type\":\"scatter\"},{\"line\":{\"dash\":\"dash\"},\"mode\":\"lines\",\"name\":\"Regi\\u00e3o CENTRO-OESTE\",\"visible\":false,\"x\":[1,2,3,4,5,6,7,8,9,10,11,12],\"y\":[677339984.0,616667805.0,1045411185.0,2264481203.0,2407460080.0,2130619167.0,1511315841.0,5382102864.0,2240907662.0,2654166086.0,1244946660.0,6826031805.0],\"type\":\"scatter\"},{\"mode\":\"lines+markers\",\"name\":\"CE\",\"visible\":false,\"x\":[1,2,3,4,5,6,7,8,9,10,11,12],\"y\":[60940766.0,9842650.0,1655327939.0,196231597.0,87097000.0,314780334.0,289031748.0,5700905795.0,277934950.0,2408393498.0,265616806.0,2234845356.0],\"type\":\"scatter\"},{\"line\":{\"dash\":\"dash\"},\"mode\":\"lines\",\"name\":\"Regi\\u00e3o NORDESTE\",\"visible\":false,\"x\":[1,2,3,4,5,6,7,8,9,10,11,12],\"y\":[290902086.0,190490976.0,4306532474.0,3243160937.0,1668329014.0,3192219557.0,3234179043.0,15716459992.0,3586742600.0,8469719360.0,2367015704.0,12047127339.0],\"type\":\"scatter\"},{\"mode\":\"lines+markers\",\"name\":\"BA\",\"visible\":false,\"x\":[1,2,3,4,5,6,7,8,9,10,11,12],\"y\":[77101575.0,24605326.0,1036493966.0,135474904.0,278623697.0,240692574.0,810900764.0,3638565999.0,1113693279.0,1677578949.0,783409647.0,3018673901.0],\"type\":\"scatter\"},{\"line\":{\"dash\":\"dash\"},\"mode\":\"lines\",\"name\":\"Regi\\u00e3o NORDESTE\",\"visible\":false,\"x\":[1,2,3,4,5,6,7,8,9,10,11,12],\"y\":[290902086.0,190490976.0,4306532474.0,3243160937.0,1668329014.0,3192219557.0,3234179043.0,15716459992.0,3586742600.0,8469719360.0,2367015704.0,12047127339.0],\"type\":\"scatter\"},{\"mode\":\"lines+markers\",\"name\":\"SE\",\"visible\":false,\"x\":[1,2,3,4,5,6,7,8,9,10,11,12],\"y\":[5267302.0,23540312.0,31135211.0,11439506.0,11881169.0,73312160.0,29920959.0,285197799.0,359787956.0,1501908672.0,40716478.0,971314657.0],\"type\":\"scatter\"},{\"line\":{\"dash\":\"dash\"},\"mode\":\"lines\",\"name\":\"Regi\\u00e3o NORDESTE\",\"visible\":false,\"x\":[1,2,3,4,5,6,7,8,9,10,11,12],\"y\":[290902086.0,190490976.0,4306532474.0,3243160937.0,1668329014.0,3192219557.0,3234179043.0,15716459992.0,3586742600.0,8469719360.0,2367015704.0,12047127339.0],\"type\":\"scatter\"},{\"mode\":\"lines+markers\",\"name\":\"MA\",\"visible\":false,\"x\":[1,2,3,4,5,6,7,8,9,10,11,12],\"y\":[75845977.0,99657653.0,668406657.0,967255813.0,303213898.0,660971266.0,246692928.0,1347585750.0,1469082005.0,1342410766.0,860319731.0,2048181795.0],\"type\":\"scatter\"},{\"line\":{\"dash\":\"dash\"},\"mode\":\"lines\",\"name\":\"Regi\\u00e3o NORDESTE\",\"visible\":false,\"x\":[1,2,3,4,5,6,7,8,9,10,11,12],\"y\":[290902086.0,190490976.0,4306532474.0,3243160937.0,1668329014.0,3192219557.0,3234179043.0,15716459992.0,3586742600.0,8469719360.0,2367015704.0,12047127339.0],\"type\":\"scatter\"},{\"mode\":\"lines+markers\",\"name\":\"RN\",\"visible\":false,\"x\":[2,3,4,5,6,7,8,9,10,11,12],\"y\":[25837645.0,145342661.0,551412354.0,125322685.0,590696560.0,194162918.0,163477119.0,150895819.0,18068068.0,893333.0,355925848.0],\"type\":\"scatter\"},{\"line\":{\"dash\":\"dash\"},\"mode\":\"lines\",\"name\":\"Regi\\u00e3o NORDESTE\",\"visible\":false,\"x\":[1,2,3,4,5,6,7,8,9,10,11,12],\"y\":[290902086.0,190490976.0,4306532474.0,3243160937.0,1668329014.0,3192219557.0,3234179043.0,15716459992.0,3586742600.0,8469719360.0,2367015704.0,12047127339.0],\"type\":\"scatter\"},{\"mode\":\"lines+markers\",\"name\":\"PE\",\"visible\":false,\"x\":[1,2,3,4,5,6,7,8,9,10,11,12],\"y\":[13199373.0,7007390.0,471186732.0,486666148.0,302820049.0,524941987.0,549449963.0,2511478084.0,30051635.0,616273538.0,336826275.0,1303098440.0],\"type\":\"scatter\"},{\"line\":{\"dash\":\"dash\"},\"mode\":\"lines\",\"name\":\"Regi\\u00e3o NORDESTE\",\"visible\":false,\"x\":[1,2,3,4,5,6,7,8,9,10,11,12],\"y\":[290902086.0,190490976.0,4306532474.0,3243160937.0,1668329014.0,3192219557.0,3234179043.0,15716459992.0,3586742600.0,8469719360.0,2367015704.0,12047127339.0],\"type\":\"scatter\"},{\"mode\":\"lines+markers\",\"name\":\"PB\",\"visible\":false,\"x\":[1,3,4,5,6,7,8,9,10,11,12],\"y\":[965000.0,11090208.0,371462818.0,191513293.0,483680335.0,1042434635.0,612027044.0,21740000.0,211767827.0,76298314.0,341096868.0],\"type\":\"scatter\"},{\"line\":{\"dash\":\"dash\"},\"mode\":\"lines\",\"name\":\"Regi\\u00e3o NORDESTE\",\"visible\":false,\"x\":[1,2,3,4,5,6,7,8,9,10,11,12],\"y\":[290902086.0,190490976.0,4306532474.0,3243160937.0,1668329014.0,3192219557.0,3234179043.0,15716459992.0,3586742600.0,8469719360.0,2367015704.0,12047127339.0],\"type\":\"scatter\"},{\"mode\":\"lines+markers\",\"name\":\"AL\",\"visible\":false,\"x\":[1,4,5,6,7,8,9,10,11,12],\"y\":[2766043.0,135483651.0,32119472.0,66614558.0,27047619.0,449208128.0,30942568.0,194026358.0,2891549.0,695269457.0],\"type\":\"scatter\"},{\"line\":{\"dash\":\"dash\"},\"mode\":\"lines\",\"name\":\"Regi\\u00e3o NORDESTE\",\"visible\":false,\"x\":[1,2,3,4,5,6,7,8,9,10,11,12],\"y\":[290902086.0,190490976.0,4306532474.0,3243160937.0,1668329014.0,3192219557.0,3234179043.0,15716459992.0,3586742600.0,8469719360.0,2367015704.0,12047127339.0],\"type\":\"scatter\"},{\"mode\":\"lines+markers\",\"name\":\"PI\",\"visible\":false,\"x\":[1,3,4,5,6,7,8,9,10,11,12],\"y\":[54816050.0,287549100.0,387734146.0,335737751.0,236529783.0,44537509.0,1008014274.0,132614388.0,499291684.0,43571.0,1078721017.0],\"type\":\"scatter\"},{\"line\":{\"dash\":\"dash\"},\"mode\":\"lines\",\"name\":\"Regi\\u00e3o NORDESTE\",\"visible\":false,\"x\":[1,2,3,4,5,6,7,8,9,10,11,12],\"y\":[290902086.0,190490976.0,4306532474.0,3243160937.0,1668329014.0,3192219557.0,3234179043.0,15716459992.0,3586742600.0,8469719360.0,2367015704.0,12047127339.0],\"type\":\"scatter\"},{\"mode\":\"lines+markers\",\"name\":\"RO\",\"visible\":false,\"x\":[1,2,3,4,5,6,7,8,9,10,11,12],\"y\":[316713320.0,22813201.0,513852565.0,346144483.0,36071574.0,290871521.0,332263297.0,1108004916.0,1002719405.0,624621547.0,1049985688.0,1220292692.0],\"type\":\"scatter\"},{\"line\":{\"dash\":\"dash\"},\"mode\":\"lines\",\"name\":\"Regi\\u00e3o NORTE\",\"visible\":false,\"x\":[1,2,3,4,5,6,7,8,9,10,11,12],\"y\":[835921712.0,449066058.0,3820733787.0,2321621137.0,1450767661.0,2426481000.0,4329272690.0,16770112578.0,3076341753.0,9002864541.0,5725434066.0,16504093517.0],\"type\":\"scatter\"},{\"mode\":\"lines+markers\",\"name\":\"TO\",\"visible\":false,\"x\":[1,2,3,4,5,6,7,8,9,10,11,12],\"y\":[272852814.0,279596469.0,406810034.0,592033041.0,606188393.0,315522560.0,210932078.0,2837990207.0,392088154.0,1867108732.0,954163534.0,2048970204.0],\"type\":\"scatter\"},{\"line\":{\"dash\":\"dash\"},\"mode\":\"lines\",\"name\":\"Regi\\u00e3o NORTE\",\"visible\":false,\"x\":[1,2,3,4,5,6,7,8,9,10,11,12],\"y\":[835921712.0,449066058.0,3820733787.0,2321621137.0,1450767661.0,2426481000.0,4329272690.0,16770112578.0,3076341753.0,9002864541.0,5725434066.0,16504093517.0],\"type\":\"scatter\"},{\"mode\":\"lines+markers\",\"name\":\"PA\",\"visible\":false,\"x\":[1,2,3,4,5,6,7,8,9,10,11,12],\"y\":[39004265.0,23646609.0,404625178.0,13783282.0,116680801.0,43967697.0,113117425.0,1998723054.0,254376645.0,682155909.0,177323432.0,1084721313.0],\"type\":\"scatter\"},{\"line\":{\"dash\":\"dash\"},\"mode\":\"lines\",\"name\":\"Regi\\u00e3o NORTE\",\"visible\":false,\"x\":[1,2,3,4,5,6,7,8,9,10,11,12],\"y\":[835921712.0,449066058.0,3820733787.0,2321621137.0,1450767661.0,2426481000.0,4329272690.0,16770112578.0,3076341753.0,9002864541.0,5725434066.0,16504093517.0],\"type\":\"scatter\"},{\"mode\":\"lines+markers\",\"name\":\"AC\",\"visible\":false,\"x\":[1,2,3,4,5,6,7,8,9,10,11,12],\"y\":[98200000.0,32418138.0,255291634.0,406654627.0,125809634.0,202661889.0,171554418.0,3276921978.0,59116068.0,2155569994.0,226995167.0,2148113221.0],\"type\":\"scatter\"},{\"line\":{\"dash\":\"dash\"},\"mode\":\"lines\",\"name\":\"Regi\\u00e3o NORTE\",\"visible\":false,\"x\":[1,2,3,4,5,6,7,8,9,10,11,12],\"y\":[835921712.0,449066058.0,3820733787.0,2321621137.0,1450767661.0,2426481000.0,4329272690.0,16770112578.0,3076341753.0,9002864541.0,5725434066.0,16504093517.0],\"type\":\"scatter\"},{\"mode\":\"lines+markers\",\"name\":\"RR\",\"visible\":false,\"x\":[3,4,5,6,7,8,9,10,11,12],\"y\":[1131558291.0,472377665.0,250048576.0,231852282.0,2835594961.0,4646376159.0,1029829282.0,2173281460.0,1918146797.0,4452060346.0],\"type\":\"scatter\"},{\"line\":{\"dash\":\"dash\"},\"mode\":\"lines\",\"name\":\"Regi\\u00e3o NORTE\",\"visible\":false,\"x\":[1,2,3,4,5,6,7,8,9,10,11,12],\"y\":[835921712.0,449066058.0,3820733787.0,2321621137.0,1450767661.0,2426481000.0,4329272690.0,16770112578.0,3076341753.0,9002864541.0,5725434066.0,16504093517.0],\"type\":\"scatter\"},{\"mode\":\"lines+markers\",\"name\":\"AM\",\"visible\":false,\"x\":[1,2,3,4,5,6,7,8,9,10,11,12],\"y\":[109151313.0,90574436.0,753077050.0,90738368.0,310730683.0,1168970514.0,342256983.0,1859123213.0,223906883.0,833807606.0,1319462748.0,4984150210.0],\"type\":\"scatter\"},{\"line\":{\"dash\":\"dash\"},\"mode\":\"lines\",\"name\":\"Regi\\u00e3o NORTE\",\"visible\":false,\"x\":[1,2,3,4,5,6,7,8,9,10,11,12],\"y\":[835921712.0,449066058.0,3820733787.0,2321621137.0,1450767661.0,2426481000.0,4329272690.0,16770112578.0,3076341753.0,9002864541.0,5725434066.0,16504093517.0],\"type\":\"scatter\"},{\"mode\":\"lines+markers\",\"name\":\"AP\",\"visible\":false,\"x\":[2,3,4,5,6,7,8,9,10,11,12],\"y\":[17205.0,355519035.0,399889671.0,5238000.0,172634537.0,323553528.0,1042973051.0,114305316.0,666319293.0,79356700.0,565785531.0],\"type\":\"scatter\"},{\"line\":{\"dash\":\"dash\"},\"mode\":\"lines\",\"name\":\"Regi\\u00e3o NORTE\",\"visible\":false,\"x\":[1,2,3,4,5,6,7,8,9,10,11,12],\"y\":[835921712.0,449066058.0,3820733787.0,2321621137.0,1450767661.0,2426481000.0,4329272690.0,16770112578.0,3076341753.0,9002864541.0,5725434066.0,16504093517.0],\"type\":\"scatter\"},{\"mode\":\"lines+markers\",\"name\":\"SP\",\"visible\":false,\"x\":[1,2,3,4,5,6,7,8,9,10,11,12],\"y\":[262257003.0,75637304.0,1156082182.0,413954808.0,835642609.0,541278385.0,714380218.0,5814118912.0,2166143574.0,853624582.0,392548517.0,4446863908.0],\"type\":\"scatter\"},{\"line\":{\"dash\":\"dash\"},\"mode\":\"lines\",\"name\":\"Regi\\u00e3o SUDESTE\",\"visible\":false,\"x\":[1,2,3,4,5,6,7,8,9,10,11,12],\"y\":[6084873484.0,653653860.0,3878466279.0,1103592719.0,3220455676.0,1793313315.0,1454440361.0,15378007674.0,4399853528.0,6331285814.0,1856659760.0,10787563395.0],\"type\":\"scatter\"},{\"mode\":\"lines+markers\",\"name\":\"RJ\",\"visible\":false,\"x\":[1,2,3,4,5,6,7,8,9,10,11,12],\"y\":[72498728.0,39172967.0,814143582.0,519554413.0,524265629.0,648853122.0,203493727.0,4283327912.0,622868919.0,1592372311.0,446909360.0,2747109114.0],\"type\":\"scatter\"},{\"line\":{\"dash\":\"dash\"},\"mode\":\"lines\",\"name\":\"Regi\\u00e3o SUDESTE\",\"visible\":false,\"x\":[1,2,3,4,5,6,7,8,9,10,11,12],\"y\":[6084873484.0,653653860.0,3878466279.0,1103592719.0,3220455676.0,1793313315.0,1454440361.0,15378007674.0,4399853528.0,6331285814.0,1856659760.0,10787563395.0],\"type\":\"scatter\"},{\"mode\":\"lines+markers\",\"name\":\"MG\",\"visible\":false,\"x\":[1,2,3,4,5,6,7,8,9,10,11,12],\"y\":[5185784932.0,6346211.0,527696745.0,90349924.0,382979304.0,246374150.0,59255230.0,2596984864.0,282087420.0,494730283.0,156456706.0,2723212961.0],\"type\":\"scatter\"},{\"line\":{\"dash\":\"dash\"},\"mode\":\"lines\",\"name\":\"Regi\\u00e3o SUDESTE\",\"visible\":false,\"x\":[1,2,3,4,5,6,7,8,9,10,11,12],\"y\":[6084873484.0,653653860.0,3878466279.0,1103592719.0,3220455676.0,1793313315.0,1454440361.0,15378007674.0,4399853528.0,6331285814.0,1856659760.0,10787563395.0],\"type\":\"scatter\"},{\"mode\":\"lines+markers\",\"name\":\"ES\",\"visible\":false,\"x\":[1,2,3,4,5,6,7,8,9,10,11,12],\"y\":[564332821.0,532497378.0,1380543770.0,79733574.0,1477568134.0,356807658.0,477311186.0,2683575986.0,1328753615.0,3390558638.0,860745177.0,870377412.0],\"type\":\"scatter\"},{\"line\":{\"dash\":\"dash\"},\"mode\":\"lines\",\"name\":\"Regi\\u00e3o SUDESTE\",\"visible\":false,\"x\":[1,2,3,4,5,6,7,8,9,10,11,12],\"y\":[6084873484.0,653653860.0,3878466279.0,1103592719.0,3220455676.0,1793313315.0,1454440361.0,15378007674.0,4399853528.0,6331285814.0,1856659760.0,10787563395.0],\"type\":\"scatter\"},{\"mode\":\"lines+markers\",\"name\":\"PR\",\"visible\":false,\"x\":[1,2,3,4,5,6,7,8,9,10,11,12],\"y\":[12948882.0,9513465.0,749011305.0,167578373.0,167030480.0,100228408.0,157252008.0,2689975156.0,403049974.0,1371163540.0,515563985.0,2820959821.0],\"type\":\"scatter\"},{\"line\":{\"dash\":\"dash\"},\"mode\":\"lines\",\"name\":\"Regi\\u00e3o SUL\",\"visible\":false,\"x\":[1,2,3,4,5,6,7,8,9,10,11,12],\"y\":[117089841.0,85173428.0,1225324794.0,454011746.0,579747543.0,397241321.0,331241089.0,9712150126.0,1135434495.0,3374969667.0,1611003214.0,5651363614.0],\"type\":\"scatter\"},{\"mode\":\"lines+markers\",\"name\":\"RS\",\"visible\":false,\"x\":[1,2,3,4,5,6,7,8,9,10,11,12],\"y\":[78239832.0,58619160.0,189213157.0,174243603.0,88117626.0,203424341.0,163581989.0,1905394270.0,64413624.0,563271509.0,903359160.0,765035280.0],\"type\":\"scatter\"},{\"line\":{\"dash\":\"dash\"},\"mode\":\"lines\",\"name\":\"Regi\\u00e3o SUL\",\"visible\":false,\"x\":[1,2,3,4,5,6,7,8,9,10,11,12],\"y\":[117089841.0,85173428.0,1225324794.0,454011746.0,579747543.0,397241321.0,331241089.0,9712150126.0,1135434495.0,3374969667.0,1611003214.0,5651363614.0],\"type\":\"scatter\"},{\"mode\":\"lines+markers\",\"name\":\"SC\",\"visible\":false,\"x\":[1,2,3,4,5,6,7,8,9,10,11,12],\"y\":[25901127.0,17040803.0,287100332.0,112189770.0,324599437.0,93588572.0,10407092.0,5116780700.0,667970897.0,1440534618.0,192080069.0,2065368513.0],\"type\":\"scatter\"},{\"line\":{\"dash\":\"dash\"},\"mode\":\"lines\",\"name\":\"Regi\\u00e3o SUL\",\"visible\":false,\"x\":[1,2,3,4,5,6,7,8,9,10,11,12],\"y\":[117089841.0,85173428.0,1225324794.0,454011746.0,579747543.0,397241321.0,331241089.0,9712150126.0,1135434495.0,3374969667.0,1611003214.0,5651363614.0],\"type\":\"scatter\"},{\"line\":{\"dash\":\"dot\"},\"mode\":\"lines\",\"name\":\"Regi\\u00e3o CENTRO-OESTE\",\"visible\":false,\"x\":[1,2,3,4,5,6,7,8,9,10,11,12],\"y\":[677339984.0,616667805.0,1045411185.0,2264481203.0,2407460080.0,2130619167.0,1511315841.0,5382102864.0,2240907662.0,2654166086.0,1244946660.0,6826031805.0],\"type\":\"scatter\"},{\"line\":{\"dash\":\"dot\"},\"mode\":\"lines\",\"name\":\"Regi\\u00e3o SUL\",\"visible\":false,\"x\":[1,2,3,4,5,6,7,8,9,10,11,12],\"y\":[117089841.0,85173428.0,1225324794.0,454011746.0,579747543.0,397241321.0,331241089.0,9712150126.0,1135434495.0,3374969667.0,1611003214.0,5651363614.0],\"type\":\"scatter\"},{\"line\":{\"dash\":\"dot\"},\"mode\":\"lines\",\"name\":\"Regi\\u00e3o NORDESTE\",\"visible\":false,\"x\":[1,2,3,4,5,6,7,8,9,10,11,12],\"y\":[290902086.0,190490976.0,4306532474.0,3243160937.0,1668329014.0,3192219557.0,3234179043.0,15716459992.0,3586742600.0,8469719360.0,2367015704.0,12047127339.0],\"type\":\"scatter\"},{\"line\":{\"dash\":\"dot\"},\"mode\":\"lines\",\"name\":\"Regi\\u00e3o NORTE\",\"visible\":false,\"x\":[1,2,3,4,5,6,7,8,9,10,11,12],\"y\":[835921712.0,449066058.0,3820733787.0,2321621137.0,1450767661.0,2426481000.0,4329272690.0,16770112578.0,3076341753.0,9002864541.0,5725434066.0,16504093517.0],\"type\":\"scatter\"},{\"line\":{\"dash\":\"dot\"},\"mode\":\"lines\",\"name\":\"Regi\\u00e3o SUDESTE\",\"visible\":false,\"x\":[1,2,3,4,5,6,7,8,9,10,11,12],\"y\":[6084873484.0,653653860.0,3878466279.0,1103592719.0,3220455676.0,1793313315.0,1454440361.0,15378007674.0,4399853528.0,6331285814.0,1856659760.0,10787563395.0],\"type\":\"scatter\"}],                        {\"template\":{\"data\":{\"barpolar\":[{\"marker\":{\"line\":{\"color\":\"white\",\"width\":0.5},\"pattern\":{\"fillmode\":\"overlay\",\"size\":10,\"solidity\":0.2}},\"type\":\"barpolar\"}],\"bar\":[{\"error_x\":{\"color\":\"#2a3f5f\"},\"error_y\":{\"color\":\"#2a3f5f\"},\"marker\":{\"line\":{\"color\":\"white\",\"width\":0.5},\"pattern\":{\"fillmode\":\"overlay\",\"size\":10,\"solidity\":0.2}},\"type\":\"bar\"}],\"carpet\":[{\"aaxis\":{\"endlinecolor\":\"#2a3f5f\",\"gridcolor\":\"#C8D4E3\",\"linecolor\":\"#C8D4E3\",\"minorgridcolor\":\"#C8D4E3\",\"startlinecolor\":\"#2a3f5f\"},\"baxis\":{\"endlinecolor\":\"#2a3f5f\",\"gridcolor\":\"#C8D4E3\",\"linecolor\":\"#C8D4E3\",\"minorgridcolor\":\"#C8D4E3\",\"startlinecolor\":\"#2a3f5f\"},\"type\":\"carpet\"}],\"choropleth\":[{\"colorbar\":{\"outlinewidth\":0,\"ticks\":\"\"},\"type\":\"choropleth\"}],\"contourcarpet\":[{\"colorbar\":{\"outlinewidth\":0,\"ticks\":\"\"},\"type\":\"contourcarpet\"}],\"contour\":[{\"colorbar\":{\"outlinewidth\":0,\"ticks\":\"\"},\"colorscale\":[[0.0,\"#0d0887\"],[0.1111111111111111,\"#46039f\"],[0.2222222222222222,\"#7201a8\"],[0.3333333333333333,\"#9c179e\"],[0.4444444444444444,\"#bd3786\"],[0.5555555555555556,\"#d8576b\"],[0.6666666666666666,\"#ed7953\"],[0.7777777777777778,\"#fb9f3a\"],[0.8888888888888888,\"#fdca26\"],[1.0,\"#f0f921\"]],\"type\":\"contour\"}],\"heatmapgl\":[{\"colorbar\":{\"outlinewidth\":0,\"ticks\":\"\"},\"colorscale\":[[0.0,\"#0d0887\"],[0.1111111111111111,\"#46039f\"],[0.2222222222222222,\"#7201a8\"],[0.3333333333333333,\"#9c179e\"],[0.4444444444444444,\"#bd3786\"],[0.5555555555555556,\"#d8576b\"],[0.6666666666666666,\"#ed7953\"],[0.7777777777777778,\"#fb9f3a\"],[0.8888888888888888,\"#fdca26\"],[1.0,\"#f0f921\"]],\"type\":\"heatmapgl\"}],\"heatmap\":[{\"colorbar\":{\"outlinewidth\":0,\"ticks\":\"\"},\"colorscale\":[[0.0,\"#0d0887\"],[0.1111111111111111,\"#46039f\"],[0.2222222222222222,\"#7201a8\"],[0.3333333333333333,\"#9c179e\"],[0.4444444444444444,\"#bd3786\"],[0.5555555555555556,\"#d8576b\"],[0.6666666666666666,\"#ed7953\"],[0.7777777777777778,\"#fb9f3a\"],[0.8888888888888888,\"#fdca26\"],[1.0,\"#f0f921\"]],\"type\":\"heatmap\"}],\"histogram2dcontour\":[{\"colorbar\":{\"outlinewidth\":0,\"ticks\":\"\"},\"colorscale\":[[0.0,\"#0d0887\"],[0.1111111111111111,\"#46039f\"],[0.2222222222222222,\"#7201a8\"],[0.3333333333333333,\"#9c179e\"],[0.4444444444444444,\"#bd3786\"],[0.5555555555555556,\"#d8576b\"],[0.6666666666666666,\"#ed7953\"],[0.7777777777777778,\"#fb9f3a\"],[0.8888888888888888,\"#fdca26\"],[1.0,\"#f0f921\"]],\"type\":\"histogram2dcontour\"}],\"histogram2d\":[{\"colorbar\":{\"outlinewidth\":0,\"ticks\":\"\"},\"colorscale\":[[0.0,\"#0d0887\"],[0.1111111111111111,\"#46039f\"],[0.2222222222222222,\"#7201a8\"],[0.3333333333333333,\"#9c179e\"],[0.4444444444444444,\"#bd3786\"],[0.5555555555555556,\"#d8576b\"],[0.6666666666666666,\"#ed7953\"],[0.7777777777777778,\"#fb9f3a\"],[0.8888888888888888,\"#fdca26\"],[1.0,\"#f0f921\"]],\"type\":\"histogram2d\"}],\"histogram\":[{\"marker\":{\"pattern\":{\"fillmode\":\"overlay\",\"size\":10,\"solidity\":0.2}},\"type\":\"histogram\"}],\"mesh3d\":[{\"colorbar\":{\"outlinewidth\":0,\"ticks\":\"\"},\"type\":\"mesh3d\"}],\"parcoords\":[{\"line\":{\"colorbar\":{\"outlinewidth\":0,\"ticks\":\"\"}},\"type\":\"parcoords\"}],\"pie\":[{\"automargin\":true,\"type\":\"pie\"}],\"scatter3d\":[{\"line\":{\"colorbar\":{\"outlinewidth\":0,\"ticks\":\"\"}},\"marker\":{\"colorbar\":{\"outlinewidth\":0,\"ticks\":\"\"}},\"type\":\"scatter3d\"}],\"scattercarpet\":[{\"marker\":{\"colorbar\":{\"outlinewidth\":0,\"ticks\":\"\"}},\"type\":\"scattercarpet\"}],\"scattergeo\":[{\"marker\":{\"colorbar\":{\"outlinewidth\":0,\"ticks\":\"\"}},\"type\":\"scattergeo\"}],\"scattergl\":[{\"marker\":{\"colorbar\":{\"outlinewidth\":0,\"ticks\":\"\"}},\"type\":\"scattergl\"}],\"scattermapbox\":[{\"marker\":{\"colorbar\":{\"outlinewidth\":0,\"ticks\":\"\"}},\"type\":\"scattermapbox\"}],\"scatterpolargl\":[{\"marker\":{\"colorbar\":{\"outlinewidth\":0,\"ticks\":\"\"}},\"type\":\"scatterpolargl\"}],\"scatterpolar\":[{\"marker\":{\"colorbar\":{\"outlinewidth\":0,\"ticks\":\"\"}},\"type\":\"scatterpolar\"}],\"scatter\":[{\"fillpattern\":{\"fillmode\":\"overlay\",\"size\":10,\"solidity\":0.2},\"type\":\"scatter\"}],\"scatterternary\":[{\"marker\":{\"colorbar\":{\"outlinewidth\":0,\"ticks\":\"\"}},\"type\":\"scatterternary\"}],\"surface\":[{\"colorbar\":{\"outlinewidth\":0,\"ticks\":\"\"},\"colorscale\":[[0.0,\"#0d0887\"],[0.1111111111111111,\"#46039f\"],[0.2222222222222222,\"#7201a8\"],[0.3333333333333333,\"#9c179e\"],[0.4444444444444444,\"#bd3786\"],[0.5555555555555556,\"#d8576b\"],[0.6666666666666666,\"#ed7953\"],[0.7777777777777778,\"#fb9f3a\"],[0.8888888888888888,\"#fdca26\"],[1.0,\"#f0f921\"]],\"type\":\"surface\"}],\"table\":[{\"cells\":{\"fill\":{\"color\":\"#EBF0F8\"},\"line\":{\"color\":\"white\"}},\"header\":{\"fill\":{\"color\":\"#C8D4E3\"},\"line\":{\"color\":\"white\"}},\"type\":\"table\"}]},\"layout\":{\"annotationdefaults\":{\"arrowcolor\":\"#2a3f5f\",\"arrowhead\":0,\"arrowwidth\":1},\"autotypenumbers\":\"strict\",\"coloraxis\":{\"colorbar\":{\"outlinewidth\":0,\"ticks\":\"\"}},\"colorscale\":{\"diverging\":[[0,\"#8e0152\"],[0.1,\"#c51b7d\"],[0.2,\"#de77ae\"],[0.3,\"#f1b6da\"],[0.4,\"#fde0ef\"],[0.5,\"#f7f7f7\"],[0.6,\"#e6f5d0\"],[0.7,\"#b8e186\"],[0.8,\"#7fbc41\"],[0.9,\"#4d9221\"],[1,\"#276419\"]],\"sequential\":[[0.0,\"#0d0887\"],[0.1111111111111111,\"#46039f\"],[0.2222222222222222,\"#7201a8\"],[0.3333333333333333,\"#9c179e\"],[0.4444444444444444,\"#bd3786\"],[0.5555555555555556,\"#d8576b\"],[0.6666666666666666,\"#ed7953\"],[0.7777777777777778,\"#fb9f3a\"],[0.8888888888888888,\"#fdca26\"],[1.0,\"#f0f921\"]],\"sequentialminus\":[[0.0,\"#0d0887\"],[0.1111111111111111,\"#46039f\"],[0.2222222222222222,\"#7201a8\"],[0.3333333333333333,\"#9c179e\"],[0.4444444444444444,\"#bd3786\"],[0.5555555555555556,\"#d8576b\"],[0.6666666666666666,\"#ed7953\"],[0.7777777777777778,\"#fb9f3a\"],[0.8888888888888888,\"#fdca26\"],[1.0,\"#f0f921\"]]},\"colorway\":[\"#636efa\",\"#EF553B\",\"#00cc96\",\"#ab63fa\",\"#FFA15A\",\"#19d3f3\",\"#FF6692\",\"#B6E880\",\"#FF97FF\",\"#FECB52\"],\"font\":{\"color\":\"#2a3f5f\"},\"geo\":{\"bgcolor\":\"white\",\"lakecolor\":\"white\",\"landcolor\":\"white\",\"showlakes\":true,\"showland\":true,\"subunitcolor\":\"#C8D4E3\"},\"hoverlabel\":{\"align\":\"left\"},\"hovermode\":\"closest\",\"mapbox\":{\"style\":\"light\"},\"paper_bgcolor\":\"white\",\"plot_bgcolor\":\"white\",\"polar\":{\"angularaxis\":{\"gridcolor\":\"#EBF0F8\",\"linecolor\":\"#EBF0F8\",\"ticks\":\"\"},\"bgcolor\":\"white\",\"radialaxis\":{\"gridcolor\":\"#EBF0F8\",\"linecolor\":\"#EBF0F8\",\"ticks\":\"\"}},\"scene\":{\"xaxis\":{\"backgroundcolor\":\"white\",\"gridcolor\":\"#DFE8F3\",\"gridwidth\":2,\"linecolor\":\"#EBF0F8\",\"showbackground\":true,\"ticks\":\"\",\"zerolinecolor\":\"#EBF0F8\"},\"yaxis\":{\"backgroundcolor\":\"white\",\"gridcolor\":\"#DFE8F3\",\"gridwidth\":2,\"linecolor\":\"#EBF0F8\",\"showbackground\":true,\"ticks\":\"\",\"zerolinecolor\":\"#EBF0F8\"},\"zaxis\":{\"backgroundcolor\":\"white\",\"gridcolor\":\"#DFE8F3\",\"gridwidth\":2,\"linecolor\":\"#EBF0F8\",\"showbackground\":true,\"ticks\":\"\",\"zerolinecolor\":\"#EBF0F8\"}},\"shapedefaults\":{\"line\":{\"color\":\"#2a3f5f\"}},\"ternary\":{\"aaxis\":{\"gridcolor\":\"#DFE8F3\",\"linecolor\":\"#A2B1C6\",\"ticks\":\"\"},\"baxis\":{\"gridcolor\":\"#DFE8F3\",\"linecolor\":\"#A2B1C6\",\"ticks\":\"\"},\"bgcolor\":\"white\",\"caxis\":{\"gridcolor\":\"#DFE8F3\",\"linecolor\":\"#A2B1C6\",\"ticks\":\"\"}},\"title\":{\"x\":0.05},\"xaxis\":{\"automargin\":true,\"gridcolor\":\"#EBF0F8\",\"linecolor\":\"#EBF0F8\",\"ticks\":\"\",\"title\":{\"standoff\":15},\"zerolinecolor\":\"#EBF0F8\",\"zerolinewidth\":2},\"yaxis\":{\"automargin\":true,\"gridcolor\":\"#EBF0F8\",\"linecolor\":\"#EBF0F8\",\"ticks\":\"\",\"title\":{\"standoff\":15},\"zerolinecolor\":\"#EBF0F8\",\"zerolinewidth\":2}}},\"xaxis\":{\"title\":{\"text\":\"Month\"},\"tickmode\":\"array\",\"tickvals\":[1,2,3,4,5,6,7,8,9,10,11,12],\"ticktext\":[\"Janeiro\",\"Fevereiro\",\"Mar\\u00e7o\",\"Abril\",\"Maio\",\"Junho\",\"Julho\",\"Agosto\",\"Setembro\",\"Outubro\",\"Novembro\",\"Dezembro\"]},\"title\":{\"text\":\"Movimento L\\u00edquido Reais by Month\"},\"yaxis\":{\"title\":{\"text\":\"Movimento L\\u00edquido (R$)\"}},\"updatemenus\":[{\"active\":0,\"buttons\":[{\"args\":[{\"visible\":[true,true,false,false,false,false,false,false,false,false,false,false,false,false,false,false,false,false,false,false,false,false,false,false,false,false,false,false,false,false,false,false,false,false,false,false,false,false,false,false,false,false,false,false,false,false,false,false,false,false,false,false,false,false]},{\"title\":\"Movimento L\\u00edquido Reais by Month for DF and Regi\\u00e3o CENTRO-OESTE\"}],\"label\":\"DF\",\"method\":\"update\"},{\"args\":[{\"visible\":[false,false,true,true,false,false,false,false,false,false,false,false,false,false,false,false,false,false,false,false,false,false,false,false,false,false,false,false,false,false,false,false,false,false,false,false,false,false,false,false,false,false,false,false,false,false,false,false,false,false,false,false,false,false]},{\"title\":\"Movimento L\\u00edquido Reais by Month for MT and Regi\\u00e3o CENTRO-OESTE\"}],\"label\":\"MT\",\"method\":\"update\"},{\"args\":[{\"visible\":[false,false,false,false,true,true,false,false,false,false,false,false,false,false,false,false,false,false,false,false,false,false,false,false,false,false,false,false,false,false,false,false,false,false,false,false,false,false,false,false,false,false,false,false,false,false,false,false,false,false,false,false,false,false]},{\"title\":\"Movimento L\\u00edquido Reais by Month for MS and Regi\\u00e3o CENTRO-OESTE\"}],\"label\":\"MS\",\"method\":\"update\"},{\"args\":[{\"visible\":[false,false,false,false,false,false,true,true,false,false,false,false,false,false,false,false,false,false,false,false,false,false,false,false,false,false,false,false,false,false,false,false,false,false,false,false,false,false,false,false,false,false,false,false,false,false,false,false,false,false,false,false,false,false]},{\"title\":\"Movimento L\\u00edquido Reais by Month for GO and Regi\\u00e3o CENTRO-OESTE\"}],\"label\":\"GO\",\"method\":\"update\"},{\"args\":[{\"visible\":[false,false,false,false,false,false,false,false,true,true,false,false,false,false,false,false,false,false,false,false,false,false,false,false,false,false,false,false,false,false,false,false,false,false,false,false,false,false,false,false,false,false,false,false,false,false,false,false,false,false,false,false,false,false]},{\"title\":\"Movimento L\\u00edquido Reais by Month for CE and Regi\\u00e3o NORDESTE\"}],\"label\":\"CE\",\"method\":\"update\"},{\"args\":[{\"visible\":[false,false,false,false,false,false,false,false,false,false,true,true,false,false,false,false,false,false,false,false,false,false,false,false,false,false,false,false,false,false,false,false,false,false,false,false,false,false,false,false,false,false,false,false,false,false,false,false,false,false,false,false,false,false]},{\"title\":\"Movimento L\\u00edquido Reais by Month for BA and Regi\\u00e3o NORDESTE\"}],\"label\":\"BA\",\"method\":\"update\"},{\"args\":[{\"visible\":[false,false,false,false,false,false,false,false,false,false,false,false,true,true,false,false,false,false,false,false,false,false,false,false,false,false,false,false,false,false,false,false,false,false,false,false,false,false,false,false,false,false,false,false,false,false,false,false,false,false,false,false,false,false]},{\"title\":\"Movimento L\\u00edquido Reais by Month for SE and Regi\\u00e3o NORDESTE\"}],\"label\":\"SE\",\"method\":\"update\"},{\"args\":[{\"visible\":[false,false,false,false,false,false,false,false,false,false,false,false,false,false,true,true,false,false,false,false,false,false,false,false,false,false,false,false,false,false,false,false,false,false,false,false,false,false,false,false,false,false,false,false,false,false,false,false,false,false,false,false,false,false]},{\"title\":\"Movimento L\\u00edquido Reais by Month for MA and Regi\\u00e3o NORDESTE\"}],\"label\":\"MA\",\"method\":\"update\"},{\"args\":[{\"visible\":[false,false,false,false,false,false,false,false,false,false,false,false,false,false,false,false,true,true,false,false,false,false,false,false,false,false,false,false,false,false,false,false,false,false,false,false,false,false,false,false,false,false,false,false,false,false,false,false,false,false,false,false,false,false]},{\"title\":\"Movimento L\\u00edquido Reais by Month for RN and Regi\\u00e3o NORDESTE\"}],\"label\":\"RN\",\"method\":\"update\"},{\"args\":[{\"visible\":[false,false,false,false,false,false,false,false,false,false,false,false,false,false,false,false,false,false,true,true,false,false,false,false,false,false,false,false,false,false,false,false,false,false,false,false,false,false,false,false,false,false,false,false,false,false,false,false,false,false,false,false,false,false]},{\"title\":\"Movimento L\\u00edquido Reais by Month for PE and Regi\\u00e3o NORDESTE\"}],\"label\":\"PE\",\"method\":\"update\"},{\"args\":[{\"visible\":[false,false,false,false,false,false,false,false,false,false,false,false,false,false,false,false,false,false,false,false,true,true,false,false,false,false,false,false,false,false,false,false,false,false,false,false,false,false,false,false,false,false,false,false,false,false,false,false,false,false,false,false,false,false]},{\"title\":\"Movimento L\\u00edquido Reais by Month for PB and Regi\\u00e3o NORDESTE\"}],\"label\":\"PB\",\"method\":\"update\"},{\"args\":[{\"visible\":[false,false,false,false,false,false,false,false,false,false,false,false,false,false,false,false,false,false,false,false,false,false,true,true,false,false,false,false,false,false,false,false,false,false,false,false,false,false,false,false,false,false,false,false,false,false,false,false,false,false,false,false,false,false]},{\"title\":\"Movimento L\\u00edquido Reais by Month for AL and Regi\\u00e3o NORDESTE\"}],\"label\":\"AL\",\"method\":\"update\"},{\"args\":[{\"visible\":[false,false,false,false,false,false,false,false,false,false,false,false,false,false,false,false,false,false,false,false,false,false,false,false,true,true,false,false,false,false,false,false,false,false,false,false,false,false,false,false,false,false,false,false,false,false,false,false,false,false,false,false,false,false]},{\"title\":\"Movimento L\\u00edquido Reais by Month for PI and Regi\\u00e3o NORDESTE\"}],\"label\":\"PI\",\"method\":\"update\"},{\"args\":[{\"visible\":[false,false,false,false,false,false,false,false,false,false,false,false,false,false,false,false,false,false,false,false,false,false,false,false,false,false,true,true,false,false,false,false,false,false,false,false,false,false,false,false,false,false,false,false,false,false,false,false,false,false,false,false,false,false]},{\"title\":\"Movimento L\\u00edquido Reais by Month for RO and Regi\\u00e3o NORTE\"}],\"label\":\"RO\",\"method\":\"update\"},{\"args\":[{\"visible\":[false,false,false,false,false,false,false,false,false,false,false,false,false,false,false,false,false,false,false,false,false,false,false,false,false,false,false,false,true,true,false,false,false,false,false,false,false,false,false,false,false,false,false,false,false,false,false,false,false,false,false,false,false,false]},{\"title\":\"Movimento L\\u00edquido Reais by Month for TO and Regi\\u00e3o NORTE\"}],\"label\":\"TO\",\"method\":\"update\"},{\"args\":[{\"visible\":[false,false,false,false,false,false,false,false,false,false,false,false,false,false,false,false,false,false,false,false,false,false,false,false,false,false,false,false,false,false,true,true,false,false,false,false,false,false,false,false,false,false,false,false,false,false,false,false,false,false,false,false,false,false]},{\"title\":\"Movimento L\\u00edquido Reais by Month for PA and Regi\\u00e3o NORTE\"}],\"label\":\"PA\",\"method\":\"update\"},{\"args\":[{\"visible\":[false,false,false,false,false,false,false,false,false,false,false,false,false,false,false,false,false,false,false,false,false,false,false,false,false,false,false,false,false,false,false,false,true,true,false,false,false,false,false,false,false,false,false,false,false,false,false,false,false,false,false,false,false,false]},{\"title\":\"Movimento L\\u00edquido Reais by Month for AC and Regi\\u00e3o NORTE\"}],\"label\":\"AC\",\"method\":\"update\"},{\"args\":[{\"visible\":[false,false,false,false,false,false,false,false,false,false,false,false,false,false,false,false,false,false,false,false,false,false,false,false,false,false,false,false,false,false,false,false,false,false,true,true,false,false,false,false,false,false,false,false,false,false,false,false,false,false,false,false,false,false]},{\"title\":\"Movimento L\\u00edquido Reais by Month for RR and Regi\\u00e3o NORTE\"}],\"label\":\"RR\",\"method\":\"update\"},{\"args\":[{\"visible\":[false,false,false,false,false,false,false,false,false,false,false,false,false,false,false,false,false,false,false,false,false,false,false,false,false,false,false,false,false,false,false,false,false,false,false,false,true,true,false,false,false,false,false,false,false,false,false,false,false,false,false,false,false,false]},{\"title\":\"Movimento L\\u00edquido Reais by Month for AM and Regi\\u00e3o NORTE\"}],\"label\":\"AM\",\"method\":\"update\"},{\"args\":[{\"visible\":[false,false,false,false,false,false,false,false,false,false,false,false,false,false,false,false,false,false,false,false,false,false,false,false,false,false,false,false,false,false,false,false,false,false,false,false,false,false,true,true,false,false,false,false,false,false,false,false,false,false,false,false,false,false]},{\"title\":\"Movimento L\\u00edquido Reais by Month for AP and Regi\\u00e3o NORTE\"}],\"label\":\"AP\",\"method\":\"update\"},{\"args\":[{\"visible\":[false,false,false,false,false,false,false,false,false,false,false,false,false,false,false,false,false,false,false,false,false,false,false,false,false,false,false,false,false,false,false,false,false,false,false,false,false,false,false,false,true,true,false,false,false,false,false,false,false,false,false,false,false,false]},{\"title\":\"Movimento L\\u00edquido Reais by Month for SP and Regi\\u00e3o SUDESTE\"}],\"label\":\"SP\",\"method\":\"update\"},{\"args\":[{\"visible\":[false,false,false,false,false,false,false,false,false,false,false,false,false,false,false,false,false,false,false,false,false,false,false,false,false,false,false,false,false,false,false,false,false,false,false,false,false,false,false,false,false,false,true,true,false,false,false,false,false,false,false,false,false,false]},{\"title\":\"Movimento L\\u00edquido Reais by Month for RJ and Regi\\u00e3o SUDESTE\"}],\"label\":\"RJ\",\"method\":\"update\"},{\"args\":[{\"visible\":[false,false,false,false,false,false,false,false,false,false,false,false,false,false,false,false,false,false,false,false,false,false,false,false,false,false,false,false,false,false,false,false,false,false,false,false,false,false,false,false,false,false,false,false,true,true,false,false,false,false,false,false,false,false]},{\"title\":\"Movimento L\\u00edquido Reais by Month for MG and Regi\\u00e3o SUDESTE\"}],\"label\":\"MG\",\"method\":\"update\"},{\"args\":[{\"visible\":[false,false,false,false,false,false,false,false,false,false,false,false,false,false,false,false,false,false,false,false,false,false,false,false,false,false,false,false,false,false,false,false,false,false,false,false,false,false,false,false,false,false,false,false,false,false,true,true,false,false,false,false,false,false]},{\"title\":\"Movimento L\\u00edquido Reais by Month for ES and Regi\\u00e3o SUDESTE\"}],\"label\":\"ES\",\"method\":\"update\"},{\"args\":[{\"visible\":[false,false,false,false,false,false,false,false,false,false,false,false,false,false,false,false,false,false,false,false,false,false,false,false,false,false,false,false,false,false,false,false,false,false,false,false,false,false,false,false,false,false,false,false,false,false,false,false,true,true,false,false,false,false]},{\"title\":\"Movimento L\\u00edquido Reais by Month for PR and Regi\\u00e3o SUL\"}],\"label\":\"PR\",\"method\":\"update\"},{\"args\":[{\"visible\":[false,false,false,false,false,false,false,false,false,false,false,false,false,false,false,false,false,false,false,false,false,false,false,false,false,false,false,false,false,false,false,false,false,false,false,false,false,false,false,false,false,false,false,false,false,false,false,false,false,false,true,true,false,false]},{\"title\":\"Movimento L\\u00edquido Reais by Month for RS and Regi\\u00e3o SUL\"}],\"label\":\"RS\",\"method\":\"update\"},{\"args\":[{\"visible\":[false,false,false,false,false,false,false,false,false,false,false,false,false,false,false,false,false,false,false,false,false,false,false,false,false,false,false,false,false,false,false,false,false,false,false,false,false,false,false,false,false,false,false,false,false,false,false,false,false,false,false,false,true,true]},{\"title\":\"Movimento L\\u00edquido Reais by Month for SC and Regi\\u00e3o SUL\"}],\"label\":\"SC\",\"method\":\"update\"},{\"args\":[{\"visible\":[false,false,false,false,false,false,false,false,false,false,false,false,false,false,false,false,false,false,false,false,false,false,false,false,false,false,false,false,false,false,false,false,false,false,false,false,false,false,false,false,false,false,false,false,false,false,false,false,false,false,false,false,false,false,true,true,true,true,true]},{\"title\":\"Movimento L\\u00edquido Reais by Month for All Regions\"}],\"label\":\"All Regions\",\"method\":\"update\"}],\"direction\":\"down\",\"showactive\":true}]},                        {\"responsive\": true}                    ).then(function(){\n",
       "                            \n",
       "var gd = document.getElementById('30434b6e-01ed-44ca-8c00-89ae9c603d21');\n",
       "var x = new MutationObserver(function (mutations, observer) {{\n",
       "        var display = window.getComputedStyle(gd).display;\n",
       "        if (!display || display === 'none') {{\n",
       "            console.log([gd, 'removed!']);\n",
       "            Plotly.purge(gd);\n",
       "            observer.disconnect();\n",
       "        }}\n",
       "}});\n",
       "\n",
       "// Listen for the removal of the full notebook cells\n",
       "var notebookContainer = gd.closest('#notebook-container');\n",
       "if (notebookContainer) {{\n",
       "    x.observe(notebookContainer, {childList: true});\n",
       "}}\n",
       "\n",
       "// Listen for the clearing of the current output cell\n",
       "var outputEl = gd.closest('.output');\n",
       "if (outputEl) {{\n",
       "    x.observe(outputEl, {childList: true});\n",
       "}}\n",
       "\n",
       "                        })                };                });            </script>        </div>"
      ]
     },
     "metadata": {},
     "output_type": "display_data"
    }
   ],
   "source": [
    "plot_time_serie(df_investimento, df)"
   ]
  },
  {
   "cell_type": "markdown",
   "id": "2cf5816695180385",
   "metadata": {
    "collapsed": false,
    "jupyter": {
     "outputs_hidden": false
    }
   },
   "source": [
    "## Visualização exploratória dos dados - Dados Maturidade\n",
    "\n",
    "Valores em rosa/roxo representam o menor nível de maturidade (Adesão e Engajamento), e os verde os maiores (Alinhamento e Desenvolvimento). Focando a análise no nível economico, são feitas análises envolvendo o *tipo de aplicação do investimento* (primeira linha) e *regionalmente* (segunda linha). Para cada grupo, são selecionadas as variáveis *Movimento líquido* (montante investimento, na esquerda), *PIB per capita* (meio) e *ocupação da população* (direita).\n",
    "\n",
    "- **Despesa primária (Movimento líquido):** Dividindo os investimentos em Primário e Despesa (definidos acima), para resultado primário as medianas são semelhantes não importando o nível de maturidade, enquanto entre despesas observa-se um padrão interessante de decaimento conforme maior nível de maturidade da cidade. *Isso pode indicar que cidade mais maduras tem melhores condições de governança pública*, porém uma investigação mais aprofundada é necessária;\n",
    "- **PIB e ocupação:** Observando os casos do tipo de resultado (primeira linha), nota-se o mesmo comportamento entre níveis, não importando se Resultado primário ou despesa. Se tratando dos casos agregados regionalmente (segunda linha), observa-se que existem padrões distintos entre níveis de acordo com a região.\n",
    "\n",
    "**Conclusão:** Foi verificado que, quando considerando PIB per capita e Ocupação da população, agrupar casos entre o tipo de resultado do investimento não produz padrões distintos. Quando analisados os *casos regionais são observados padrões distintos*, indicando que uma **análise regional é necessária** para tratar das heterogeneidades locais."
   ]
  },
  {
   "cell_type": "code",
   "execution_count": 48,
   "id": "4e4dfedcd40526a3",
   "metadata": {
    "ExecuteTime": {
     "end_time": "2024-11-02T18:52:51.169644Z",
     "start_time": "2024-11-02T15:34:39.476100Z"
    },
    "collapsed": false,
    "jupyter": {
     "outputs_hidden": false
    }
   },
   "outputs": [
    {
     "data": {
      "image/png": "[encoded data removed]",
      "text/plain": [
       "<Figure size 1400x800 with 6 Axes>"
      ]
     },
     "metadata": {},
     "output_type": "display_data"
    }
   ],
   "source": [
    "df_sns = pd.merge(df_investimento, df_maturidade, how = 'left', on = ['CD_MUN', 'NM_MUN', 'SG_UF', 'regiao'])\n",
    "df_sns = df_sns[df_sns['movimento_liquido_reais'] > 0]\n",
    "\n",
    "dimensoes = [idx for idx in df_sns.columns if 'NV' in idx]\n",
    "plot_box(df_sns, dimensoes[1])"
   ]
  },
  {
   "cell_type": "code",
   "execution_count": 39,
   "id": "a5fda5045016bcdf",
   "metadata": {
    "ExecuteTime": {
     "end_time": "2024-11-02T18:52:51.169644Z",
     "start_time": "2024-11-02T15:34:40.926426Z"
    },
    "collapsed": false,
    "jupyter": {
     "outputs_hidden": false
    }
   },
   "outputs": [],
   "source": [
    "# Nível sociocultural\n",
    "# plot_box(df_sns, dimensoes[0])"
   ]
  },
  {
   "cell_type": "code",
   "execution_count": 41,
   "id": "2a09f32cbaaa8f6f",
   "metadata": {
    "ExecuteTime": {
     "end_time": "2024-11-02T18:52:51.169644Z",
     "start_time": "2024-11-02T15:34:42.044652Z"
    },
    "collapsed": false,
    "jupyter": {
     "outputs_hidden": false
    }
   },
   "outputs": [],
   "source": [
    "# Nível Insittucional\n",
    "# plot_box(df_sns, dimensoes[2])"
   ]
  },
  {
   "cell_type": "code",
   "execution_count": 42,
   "id": "717a6e9fa9c59df1",
   "metadata": {
    "ExecuteTime": {
     "end_time": "2024-11-02T18:52:51.169644Z",
     "start_time": "2024-11-02T15:36:39.491012Z"
    }
   },
   "outputs": [],
   "source": [
    "# Nível ambiental\n",
    "# plot_box(df_sns, dimensoes[3])"
   ]
  }
 ],
 "metadata": {
  "kernelspec": {
   "display_name": "Python 3 (ipykernel)",
   "language": "python",
   "name": "python3"
  },
  "language_info": {
   "codemirror_mode": {
    "name": "ipython",
    "version": 3
   },
   "file_extension": ".py",
   "mimetype": "text/x-python",
   "name": "python",
   "nbconvert_exporter": "python",
   "pygments_lexer": "ipython3",
   "version": "3.11.5"
  },
  "widgets": {
   "application/vnd.jupyter.widget-state+json": {
    "state": {},
    "version_major": 2,
    "version_minor": 0
   }
  }
 },
 "nbformat": 4,
 "nbformat_minor": 5
}
